{
 "cells": [
  {
   "cell_type": "markdown",
   "metadata": {},
   "source": [
    "# Amazon Fine Food Reviews Analysis\n",
    "\n",
    "\n",
    "Data Source: https://www.kaggle.com/snap/amazon-fine-food-reviews\n",
    "\n",
    "The Amazon Fine Food Reviews dataset consists of reviews of fine foods from Amazon.<br>\n",
    "\n",
    "Number of reviews: 568,454<br>\n",
    "Number of users: 256,059<br>\n",
    "Number of products: 74,258<br>\n",
    "Timespan: Oct 1999 - Oct 2012<br>\n",
    "Number of Attributes/Columns in data: 10 \n",
    "\n",
    "Attribute Information:\n",
    "\n",
    "1. Id\n",
    "2. ProductId - unique identifier for the product\n",
    "3. UserId - unqiue identifier for the user\n",
    "4. ProfileName\n",
    "5. HelpfulnessNumerator - number of users who found the review helpful\n",
    "6. HelpfulnessDenominator - number of users who indicated whether they found the review helpful or not\n",
    "7. Score - rating between 1 and 5\n",
    "8. Time - timestamp for the review\n",
    "9. Summary - brief summary of the review\n",
    "10. Text - text of the review\n",
    "\n",
    "\n",
    "#### Objective:\n",
    "Given a review, determine whether the review is positive (Rating of 4 or 5) or negative (rating of 1 or 2).\n",
    "\n",
    "<br>\n",
    "[Q] How to determine if a review is positive or negative?<br>\n",
    "<br> \n",
    "[Ans] We could use the Score/Rating. A rating of 4 or 5 could be cosnidered a positive review. A review of 1 or 2 could be considered negative. A review of 3 is nuetral and ignored. This is an approximate and proxy way of determining the polarity (positivity/negativity) of a review."
   ]
  },
  {
   "cell_type": "markdown",
   "metadata": {
    "_cell_guid": "b1076dfc-b9ad-4769-8c92-a6c4dae69d19",
    "_uuid": "8f2839f25d086af736a60e9eeb907d3b93b6e0e5"
   },
   "source": [
    "# Preprocessing "
   ]
  },
  {
   "cell_type": "code",
   "execution_count": 1,
   "metadata": {
    "ExecuteTime": {
     "end_time": "2018-09-29T06:33:26.191557Z",
     "start_time": "2018-09-29T06:33:20.520874Z"
    },
    "_uuid": "d98b4026e68f92b5bf12bd67d0a2b9b4d7c057b3"
   },
   "outputs": [],
   "source": [
    "import numpy as np\n",
    "import pandas as pd \n",
    "import matplotlib.pyplot as plt\n",
    "from sklearn.feature_extraction.text import CountVectorizer\n",
    "from sklearn.feature_extraction.text import TfidfVectorizer\n",
    "from sklearn import metrics\n",
    "import seaborn as sns\n",
    "import warnings\n",
    "\n",
    "warnings.filterwarnings(\"ignore\")\n",
    "sns.set()"
   ]
  },
  {
   "cell_type": "markdown",
   "metadata": {},
   "source": [
    "* Loading Data from sql database. Ignored neutral reviews that is score=3. And data is sorted according to time."
   ]
  },
  {
   "cell_type": "code",
   "execution_count": 2,
   "metadata": {
    "ExecuteTime": {
     "end_time": "2018-09-28T13:58:50.454389Z",
     "start_time": "2018-09-28T13:58:41.421215Z"
    },
    "_uuid": "3545b70b1e3a9828a22aad57089993e35bdd137a"
   },
   "outputs": [
    {
     "data": {
      "text/html": [
       "<div>\n",
       "<style scoped>\n",
       "    .dataframe tbody tr th:only-of-type {\n",
       "        vertical-align: middle;\n",
       "    }\n",
       "\n",
       "    .dataframe tbody tr th {\n",
       "        vertical-align: top;\n",
       "    }\n",
       "\n",
       "    .dataframe thead th {\n",
       "        text-align: right;\n",
       "    }\n",
       "</style>\n",
       "<table border=\"1\" class=\"dataframe\">\n",
       "  <thead>\n",
       "    <tr style=\"text-align: right;\">\n",
       "      <th></th>\n",
       "      <th>Id</th>\n",
       "      <th>ProductId</th>\n",
       "      <th>UserId</th>\n",
       "      <th>ProfileName</th>\n",
       "      <th>HelpfulnessNumerator</th>\n",
       "      <th>HelpfulnessDenominator</th>\n",
       "      <th>Score</th>\n",
       "      <th>Time</th>\n",
       "      <th>Summary</th>\n",
       "      <th>Text</th>\n",
       "    </tr>\n",
       "  </thead>\n",
       "  <tbody>\n",
       "    <tr>\n",
       "      <th>0</th>\n",
       "      <td>150524</td>\n",
       "      <td>0006641040</td>\n",
       "      <td>ACITT7DI6IDDL</td>\n",
       "      <td>shari zychinski</td>\n",
       "      <td>0</td>\n",
       "      <td>0</td>\n",
       "      <td>5</td>\n",
       "      <td>939340800</td>\n",
       "      <td>EVERY book is educational</td>\n",
       "      <td>this witty little book makes my son laugh at l...</td>\n",
       "    </tr>\n",
       "    <tr>\n",
       "      <th>1</th>\n",
       "      <td>150501</td>\n",
       "      <td>0006641040</td>\n",
       "      <td>AJ46FKXOVC7NR</td>\n",
       "      <td>Nicholas A Mesiano</td>\n",
       "      <td>2</td>\n",
       "      <td>2</td>\n",
       "      <td>5</td>\n",
       "      <td>940809600</td>\n",
       "      <td>This whole series is great way to spend time w...</td>\n",
       "      <td>I can remember seeing the show when it aired o...</td>\n",
       "    </tr>\n",
       "    <tr>\n",
       "      <th>2</th>\n",
       "      <td>451856</td>\n",
       "      <td>B00004CXX9</td>\n",
       "      <td>AIUWLEQ1ADEG5</td>\n",
       "      <td>Elizabeth Medina</td>\n",
       "      <td>0</td>\n",
       "      <td>0</td>\n",
       "      <td>5</td>\n",
       "      <td>944092800</td>\n",
       "      <td>Entertainingl Funny!</td>\n",
       "      <td>Beetlejuice is a well written movie ..... ever...</td>\n",
       "    </tr>\n",
       "    <tr>\n",
       "      <th>3</th>\n",
       "      <td>230285</td>\n",
       "      <td>B00004RYGX</td>\n",
       "      <td>A344SMIA5JECGM</td>\n",
       "      <td>Vincent P. Ross</td>\n",
       "      <td>1</td>\n",
       "      <td>2</td>\n",
       "      <td>5</td>\n",
       "      <td>944438400</td>\n",
       "      <td>A modern day fairy tale</td>\n",
       "      <td>A twist of rumplestiskin captured on film, sta...</td>\n",
       "    </tr>\n",
       "    <tr>\n",
       "      <th>4</th>\n",
       "      <td>374359</td>\n",
       "      <td>B00004CI84</td>\n",
       "      <td>A344SMIA5JECGM</td>\n",
       "      <td>Vincent P. Ross</td>\n",
       "      <td>1</td>\n",
       "      <td>2</td>\n",
       "      <td>5</td>\n",
       "      <td>944438400</td>\n",
       "      <td>A modern day fairy tale</td>\n",
       "      <td>A twist of rumplestiskin captured on film, sta...</td>\n",
       "    </tr>\n",
       "  </tbody>\n",
       "</table>\n",
       "</div>"
      ],
      "text/plain": [
       "       Id   ProductId          UserId         ProfileName  \\\n",
       "0  150524  0006641040   ACITT7DI6IDDL     shari zychinski   \n",
       "1  150501  0006641040   AJ46FKXOVC7NR  Nicholas A Mesiano   \n",
       "2  451856  B00004CXX9   AIUWLEQ1ADEG5    Elizabeth Medina   \n",
       "3  230285  B00004RYGX  A344SMIA5JECGM     Vincent P. Ross   \n",
       "4  374359  B00004CI84  A344SMIA5JECGM     Vincent P. Ross   \n",
       "\n",
       "   HelpfulnessNumerator  HelpfulnessDenominator  Score       Time  \\\n",
       "0                     0                       0      5  939340800   \n",
       "1                     2                       2      5  940809600   \n",
       "2                     0                       0      5  944092800   \n",
       "3                     1                       2      5  944438400   \n",
       "4                     1                       2      5  944438400   \n",
       "\n",
       "                                             Summary  \\\n",
       "0                          EVERY book is educational   \n",
       "1  This whole series is great way to spend time w...   \n",
       "2                               Entertainingl Funny!   \n",
       "3                            A modern day fairy tale   \n",
       "4                            A modern day fairy tale   \n",
       "\n",
       "                                                Text  \n",
       "0  this witty little book makes my son laugh at l...  \n",
       "1  I can remember seeing the show when it aired o...  \n",
       "2  Beetlejuice is a well written movie ..... ever...  \n",
       "3  A twist of rumplestiskin captured on film, sta...  \n",
       "4  A twist of rumplestiskin captured on film, sta...  "
      ]
     },
     "execution_count": 2,
     "metadata": {},
     "output_type": "execute_result"
    }
   ],
   "source": [
    "import sqlite3\n",
    "\n",
    "conn = sqlite3.connect('Data/database.sqlite')\n",
    "\n",
    "data = pd.read_sql_query(\"select * from Reviews where Score !=3 order by Time\", conn)\n",
    "data.head()"
   ]
  },
  {
   "cell_type": "markdown",
   "metadata": {},
   "source": [
    "### Deduplication\n",
    "\n",
    "\n",
    "* Same review from a user to a product in different time indicates duplicate data.\n",
    "* Removed data that has same product ID, user id, score, text values."
   ]
  },
  {
   "cell_type": "code",
   "execution_count": 3,
   "metadata": {
    "ExecuteTime": {
     "end_time": "2018-09-28T13:58:51.408611Z",
     "start_time": "2018-09-28T13:58:50.457931Z"
    },
    "_uuid": "f90580278d19db7edc7924d47e993682dc962522"
   },
   "outputs": [],
   "source": [
    "# removing duplicates\n",
    "data = data.drop_duplicates(subset={'ProductId', 'UserId', 'Score', \n",
    "                            'Text'}, keep='first')"
   ]
  },
  {
   "cell_type": "markdown",
   "metadata": {},
   "source": [
    "### Data Cleaning\n",
    "\n",
    "* Removed html tags, punctuations from each sentence.\n",
    "* Each word is lowercased and removed stop words(a, an, the....).\n",
    "* Considered score 1 and 2 as negative review and scores 4 and 5 are considered as positive review.\n",
    "* For negative review '0' as label and for positive review '1' as label."
   ]
  },
  {
   "cell_type": "code",
   "execution_count": 4,
   "metadata": {
    "ExecuteTime": {
     "end_time": "2018-09-28T15:24:57.629492Z",
     "start_time": "2018-09-28T13:58:51.410373Z"
    },
    "_uuid": "41f698bce3bfc3a6e31af3fa5a1810f6a6d2272f"
   },
   "outputs": [
    {
     "name": "stdout",
     "output_type": "stream",
     "text": [
      "100.00 %\r"
     ]
    }
   ],
   "source": [
    "from nltk.corpus import stopwords\n",
    "from nltk.stem import SnowballStemmer\n",
    "import re\n",
    "\n",
    "snow = SnowballStemmer('english')\n",
    "pre_processed = []\n",
    "\n",
    "i = 0\n",
    "N = len(data['Text'])\n",
    "for sentence in data['Text']:    \n",
    "    sentence = str(sentence)\n",
    "    sentence = sentence.lower()\n",
    "    clnr = re.compile('<.*?>') # for cleaning html tags\n",
    "    sentence = re.sub(clnr, ' ', sentence)\n",
    "    sentence = re.sub(r'[?|!|\\'|\"|#]', r'', sentence)\n",
    "    sentence = re.sub(r'[.|,|)|(|\\|/]', r' ', sentence) \n",
    "    \n",
    "    words = [snow.stem(word) for word in sentence.split() \\\n",
    "             if word not in stopwords.words('english')]\n",
    "    final_sentence = ''\n",
    "    for word in words:\n",
    "        final_sentence = final_sentence + word + ' '\n",
    "    pre_processed.append(final_sentence)\n",
    "    print(\"{0:.2f} %\".format(i/N*100), end='\\r')\n",
    "    i += 1\n",
    "\n",
    "data['Text'] = pre_processed"
   ]
  },
  {
   "cell_type": "code",
   "execution_count": 5,
   "metadata": {
    "ExecuteTime": {
     "end_time": "2018-09-28T15:24:57.803875Z",
     "start_time": "2018-09-28T15:24:57.631306Z"
    }
   },
   "outputs": [],
   "source": [
    "sentiment = []\n",
    "\n",
    "for scr in data['Score']:\n",
    "    if scr < 3:\n",
    "        sentiment.append(0)\n",
    "    else:\n",
    "        sentiment.append(1)\n",
    "data['Sentiment'] = sentiment"
   ]
  },
  {
   "cell_type": "code",
   "execution_count": 7,
   "metadata": {
    "ExecuteTime": {
     "end_time": "2018-09-28T15:26:25.380355Z",
     "start_time": "2018-09-28T15:26:23.457226Z"
    }
   },
   "outputs": [],
   "source": [
    "# saving preprocessed data on hard disk\n",
    "import pickle\n",
    "\n",
    "with open('PreProcessed.pkl', 'wb') as f:\n",
    "    pickle.dump(data, f)"
   ]
  },
  {
   "cell_type": "code",
   "execution_count": 3,
   "metadata": {
    "ExecuteTime": {
     "end_time": "2018-09-29T06:35:48.580081Z",
     "start_time": "2018-09-29T06:35:44.048946Z"
    }
   },
   "outputs": [
    {
     "data": {
      "text/html": [
       "<div>\n",
       "<style scoped>\n",
       "    .dataframe tbody tr th:only-of-type {\n",
       "        vertical-align: middle;\n",
       "    }\n",
       "\n",
       "    .dataframe tbody tr th {\n",
       "        vertical-align: top;\n",
       "    }\n",
       "\n",
       "    .dataframe thead th {\n",
       "        text-align: right;\n",
       "    }\n",
       "</style>\n",
       "<table border=\"1\" class=\"dataframe\">\n",
       "  <thead>\n",
       "    <tr style=\"text-align: right;\">\n",
       "      <th></th>\n",
       "      <th>Id</th>\n",
       "      <th>ProductId</th>\n",
       "      <th>UserId</th>\n",
       "      <th>ProfileName</th>\n",
       "      <th>HelpfulnessNumerator</th>\n",
       "      <th>HelpfulnessDenominator</th>\n",
       "      <th>Score</th>\n",
       "      <th>Time</th>\n",
       "      <th>Summary</th>\n",
       "      <th>Text</th>\n",
       "      <th>Sentiment</th>\n",
       "    </tr>\n",
       "  </thead>\n",
       "  <tbody>\n",
       "    <tr>\n",
       "      <th>0</th>\n",
       "      <td>150524</td>\n",
       "      <td>0006641040</td>\n",
       "      <td>ACITT7DI6IDDL</td>\n",
       "      <td>shari zychinski</td>\n",
       "      <td>0</td>\n",
       "      <td>0</td>\n",
       "      <td>5</td>\n",
       "      <td>939340800</td>\n",
       "      <td>EVERY book is educational</td>\n",
       "      <td>witti littl book make son laugh loud recit car...</td>\n",
       "      <td>1</td>\n",
       "    </tr>\n",
       "    <tr>\n",
       "      <th>1</th>\n",
       "      <td>150501</td>\n",
       "      <td>0006641040</td>\n",
       "      <td>AJ46FKXOVC7NR</td>\n",
       "      <td>Nicholas A Mesiano</td>\n",
       "      <td>2</td>\n",
       "      <td>2</td>\n",
       "      <td>5</td>\n",
       "      <td>940809600</td>\n",
       "      <td>This whole series is great way to spend time w...</td>\n",
       "      <td>rememb see show air televis year ago child sis...</td>\n",
       "      <td>1</td>\n",
       "    </tr>\n",
       "    <tr>\n",
       "      <th>2</th>\n",
       "      <td>451856</td>\n",
       "      <td>B00004CXX9</td>\n",
       "      <td>AIUWLEQ1ADEG5</td>\n",
       "      <td>Elizabeth Medina</td>\n",
       "      <td>0</td>\n",
       "      <td>0</td>\n",
       "      <td>5</td>\n",
       "      <td>944092800</td>\n",
       "      <td>Entertainingl Funny!</td>\n",
       "      <td>beetlejuic well written movi everyth excel act...</td>\n",
       "      <td>1</td>\n",
       "    </tr>\n",
       "    <tr>\n",
       "      <th>3</th>\n",
       "      <td>230285</td>\n",
       "      <td>B00004RYGX</td>\n",
       "      <td>A344SMIA5JECGM</td>\n",
       "      <td>Vincent P. Ross</td>\n",
       "      <td>1</td>\n",
       "      <td>2</td>\n",
       "      <td>5</td>\n",
       "      <td>944438400</td>\n",
       "      <td>A modern day fairy tale</td>\n",
       "      <td>twist rumplestiskin captur film star michael k...</td>\n",
       "      <td>1</td>\n",
       "    </tr>\n",
       "    <tr>\n",
       "      <th>4</th>\n",
       "      <td>374359</td>\n",
       "      <td>B00004CI84</td>\n",
       "      <td>A344SMIA5JECGM</td>\n",
       "      <td>Vincent P. Ross</td>\n",
       "      <td>1</td>\n",
       "      <td>2</td>\n",
       "      <td>5</td>\n",
       "      <td>944438400</td>\n",
       "      <td>A modern day fairy tale</td>\n",
       "      <td>twist rumplestiskin captur film star michael k...</td>\n",
       "      <td>1</td>\n",
       "    </tr>\n",
       "  </tbody>\n",
       "</table>\n",
       "</div>"
      ],
      "text/plain": [
       "       Id   ProductId          UserId         ProfileName  \\\n",
       "0  150524  0006641040   ACITT7DI6IDDL     shari zychinski   \n",
       "1  150501  0006641040   AJ46FKXOVC7NR  Nicholas A Mesiano   \n",
       "2  451856  B00004CXX9   AIUWLEQ1ADEG5    Elizabeth Medina   \n",
       "3  230285  B00004RYGX  A344SMIA5JECGM     Vincent P. Ross   \n",
       "4  374359  B00004CI84  A344SMIA5JECGM     Vincent P. Ross   \n",
       "\n",
       "   HelpfulnessNumerator  HelpfulnessDenominator  Score       Time  \\\n",
       "0                     0                       0      5  939340800   \n",
       "1                     2                       2      5  940809600   \n",
       "2                     0                       0      5  944092800   \n",
       "3                     1                       2      5  944438400   \n",
       "4                     1                       2      5  944438400   \n",
       "\n",
       "                                             Summary  \\\n",
       "0                          EVERY book is educational   \n",
       "1  This whole series is great way to spend time w...   \n",
       "2                               Entertainingl Funny!   \n",
       "3                            A modern day fairy tale   \n",
       "4                            A modern day fairy tale   \n",
       "\n",
       "                                                Text  Sentiment  \n",
       "0  witti littl book make son laugh loud recit car...          1  \n",
       "1  rememb see show air televis year ago child sis...          1  \n",
       "2  beetlejuic well written movi everyth excel act...          1  \n",
       "3  twist rumplestiskin captur film star michael k...          1  \n",
       "4  twist rumplestiskin captur film star michael k...          1  "
      ]
     },
     "execution_count": 3,
     "metadata": {},
     "output_type": "execute_result"
    }
   ],
   "source": [
    "# loading preprocessed data from hard disk\n",
    "import pickle\n",
    "\n",
    "with open('Saved/PreProcessed.pkl', 'rb') as f:\n",
    "    data = pickle.load(f)\n",
    "data.head()"
   ]
  },
  {
   "cell_type": "markdown",
   "metadata": {},
   "source": [
    "### Data Segmentation\n",
    "\n",
    "* First 100k review taken into consideration.\n",
    "* Then data is divided in 70-30 ratio for training and testing purposes.\n",
    "* Data is divided according to time."
   ]
  },
  {
   "cell_type": "code",
   "execution_count": 4,
   "metadata": {
    "ExecuteTime": {
     "end_time": "2018-09-29T06:35:55.491150Z",
     "start_time": "2018-09-29T06:35:55.486623Z"
    },
    "_uuid": "6a339fe9d6f80aedf8e8cc2b95e1402b19a6b0cb"
   },
   "outputs": [],
   "source": [
    "te = int(10000 * 7)\n",
    "X_train = data['Text'][0:te]\n",
    "Y_train = data['Sentiment'][0:te]\n",
    "X_test = data['Text'][te:100000]\n",
    "Y_test = data['Sentiment'][te:100000]"
   ]
  },
  {
   "cell_type": "markdown",
   "metadata": {
    "_uuid": "6f316ce32a3bb0fef4e3aa053f67133373c8a4a4"
   },
   "source": [
    "# Bag of Words\n",
    "\n",
    "* Trained bag of words by using training data. Transformed training and testing data to numerical vectors.\n",
    "* Considered only top most 1300 important words.\n",
    "* Each sentence is converted into a vector of size 1300.\n",
    "* So that i limiting to vector of size 1300."
   ]
  },
  {
   "cell_type": "code",
   "execution_count": 5,
   "metadata": {
    "ExecuteTime": {
     "end_time": "2018-09-29T06:36:01.749708Z",
     "start_time": "2018-09-29T06:35:57.927356Z"
    },
    "_uuid": "80cdd79d76e82a14ec7969cd18c8c61c7f0be15c"
   },
   "outputs": [],
   "source": [
    "# Training Bag of words\n",
    "from sklearn.feature_extraction.text import CountVectorizer\n",
    "\n",
    "bow_model = CountVectorizer(max_features=1300)\n",
    "bow_train = bow_model.fit_transform(X_train)\n",
    "bow_test = bow_model.transform(X_test)"
   ]
  },
  {
   "cell_type": "markdown",
   "metadata": {
    "_uuid": "04e8e63899ccdfdd72d1dc4dccc1e275d0bbe5f3"
   },
   "source": [
    "## SVM \n",
    "\n",
    "* Learning SVM weights using SGD technique.\n",
    "* SGDClassifier from sklearn.linear_model with loss='hinge' is used.\n",
    "* Trained on bag of words data."
   ]
  },
  {
   "cell_type": "markdown",
   "metadata": {},
   "source": [
    "### Grid Search\n",
    "\n",
    "* Technique for searching for optimal depth."
   ]
  },
  {
   "cell_type": "code",
   "execution_count": 16,
   "metadata": {
    "ExecuteTime": {
     "end_time": "2018-09-29T09:30:50.631000Z",
     "start_time": "2018-09-29T09:30:50.621900Z"
    },
    "_uuid": "cc09f4023dd015c4eca466fc2ab9a57621f9e7a6"
   },
   "outputs": [],
   "source": [
    "# searching for best hyperparameter\n",
    "from sklearn.linear_model import SGDClassifier\n",
    "from sklearn.model_selection import GridSearchCV\n",
    "from sklearn.model_selection import TimeSeriesSplit\n",
    "\n",
    "parameters = {'alpha':[0.00001, 0.0001, 0.001, 0.01, 0.1]}\n",
    "classifier_ = SGDClassifier(loss='hinge')\n",
    "\n",
    "tscv = TimeSeriesSplit(n_splits=5)\n",
    "search_hyp = GridSearchCV(classifier_, parameters, cv=tscv, n_jobs=3)"
   ]
  },
  {
   "cell_type": "code",
   "execution_count": 17,
   "metadata": {
    "ExecuteTime": {
     "end_time": "2018-09-29T09:30:52.381549Z",
     "start_time": "2018-09-29T09:30:51.302082Z"
    },
    "_uuid": "92109ed7abff5bf6cd8e7b609e6cbf99541ed29e",
    "scrolled": true
   },
   "outputs": [
    {
     "data": {
      "text/plain": [
       "{'alpha': 0.001}"
      ]
     },
     "execution_count": 17,
     "metadata": {},
     "output_type": "execute_result"
    }
   ],
   "source": [
    "search_hyp.fit(bow_train, Y_train)\n",
    "search_hyp.best_params_"
   ]
  },
  {
   "cell_type": "code",
   "execution_count": 18,
   "metadata": {
    "ExecuteTime": {
     "end_time": "2018-09-29T09:30:53.580141Z",
     "start_time": "2018-09-29T09:30:53.440449Z"
    }
   },
   "outputs": [
    {
     "data": {
      "image/png": "[encoded data removed]",
      "text/plain": [
       "<Figure size 432x288 with 1 Axes>"
      ]
     },
     "metadata": {
      "needs_background": "light"
     },
     "output_type": "display_data"
    }
   ],
   "source": [
    "test_errors = [(1-i)*100 for i in search_hyp.cv_results_['mean_test_score']]\n",
    "\n",
    "plt.plot(parameters['alpha'], test_errors)\n",
    "plt.title('Error plot')\n",
    "plt.xlabel('alpha')\n",
    "plt.ylabel('Error') \n",
    "plt.show()"
   ]
  },
  {
   "cell_type": "markdown",
   "metadata": {},
   "source": [
    "Optimal alpha is 0.001"
   ]
  },
  {
   "cell_type": "code",
   "execution_count": 19,
   "metadata": {
    "ExecuteTime": {
     "end_time": "2018-09-29T09:30:55.217759Z",
     "start_time": "2018-09-29T09:30:55.128670Z"
    },
    "_uuid": "3d3e27053e69e7a698a524aea95a53add48eb280"
   },
   "outputs": [
    {
     "data": {
      "text/plain": [
       "SGDClassifier(alpha=0.001, average=False, class_weight=None, epsilon=0.1,\n",
       "       eta0=0.0, fit_intercept=True, l1_ratio=0.15,\n",
       "       learning_rate='optimal', loss='hinge', max_iter=None, n_iter=None,\n",
       "       n_jobs=1, penalty='l2', power_t=0.5, random_state=None,\n",
       "       shuffle=True, tol=None, verbose=0, warm_start=False)"
      ]
     },
     "execution_count": 19,
     "metadata": {},
     "output_type": "execute_result"
    }
   ],
   "source": [
    "# training final model\n",
    "classifier = SGDClassifier(loss='hinge', alpha=search_hyp.best_params_['alpha'])\n",
    "classifier.fit(bow_train, Y_train)"
   ]
  },
  {
   "cell_type": "code",
   "execution_count": 20,
   "metadata": {
    "ExecuteTime": {
     "end_time": "2018-09-29T09:30:55.841337Z",
     "start_time": "2018-09-29T09:30:55.798359Z"
    },
    "_uuid": "eaa2348f932a98fa9f8ad1b05d55b36dd8ef7c15"
   },
   "outputs": [],
   "source": [
    "# performence metrics\n",
    "\n",
    "from sklearn import metrics\n",
    "pred = classifier.predict(bow_test)\n",
    "\n",
    "tr_score = classifier.score(bow_train, Y_train)\n",
    "accuracy = metrics.accuracy_score(Y_test, pred)\n",
    "pre = metrics.precision_score(Y_test, pred)\n",
    "rec = metrics.recall_score(Y_test, pred)\n",
    "f1 = metrics.f1_score(Y_test, pred)"
   ]
  },
  {
   "cell_type": "code",
   "execution_count": 22,
   "metadata": {
    "ExecuteTime": {
     "end_time": "2018-09-29T09:33:15.868324Z",
     "start_time": "2018-09-29T09:33:15.861501Z"
    }
   },
   "outputs": [],
   "source": [
    "from prettytable import PrettyTable\n",
    "tb = PrettyTable()\n",
    "tb.field_names = ['Vectorizer', 'alpha', 'Train accuracy', 'Test accuracy',\n",
    "         'Precision', 'Recall', 'f1-score']\n",
    "tb.add_row(['Bag of Words', search_hyp.best_params_['alpha'], round(tr_score,2), \n",
    "            round(accuracy,2), round(pre,2), round(rec,2), round(f1,2)])"
   ]
  },
  {
   "cell_type": "code",
   "execution_count": 24,
   "metadata": {
    "ExecuteTime": {
     "end_time": "2018-09-29T09:33:23.368459Z",
     "start_time": "2018-09-29T09:33:23.164268Z"
    },
    "_uuid": "830a7fa59c3cecd8f2085e9e3374d67a74aa6dd0"
   },
   "outputs": [
    {
     "data": {
      "image/png": "[encoded data removed]",
      "text/plain": [
       "<Figure size 432x288 with 2 Axes>"
      ]
     },
     "metadata": {
      "needs_background": "light"
     },
     "output_type": "display_data"
    }
   ],
   "source": [
    "from sklearn.metrics import confusion_matrix\n",
    "cm = confusion_matrix(Y_test, pred)\n",
    "sns.heatmap(cm, annot=True, fmt='d')\n",
    "plt.show()"
   ]
  },
  {
   "cell_type": "markdown",
   "metadata": {
    "_uuid": "98aa06dca82803f0f1ed6928077138f5783b7604"
   },
   "source": [
    "# Tf-Idf\n",
    "\n",
    "* Trained tf-idf by using training data. Transformed training and testing data to numerical vectors.\n",
    "* TfidfVectorizer from sklearn is used.\n",
    "* Considered only top most 1300 important words.\n",
    "* Each sentence is converted into a vector of size 1300."
   ]
  },
  {
   "cell_type": "code",
   "execution_count": 25,
   "metadata": {
    "ExecuteTime": {
     "end_time": "2018-09-29T09:33:28.578923Z",
     "start_time": "2018-09-29T09:33:25.741645Z"
    },
    "_uuid": "e74668b48d3ff78ae0fce6547611c3b35cc35305"
   },
   "outputs": [],
   "source": [
    "# Training tf-idf\n",
    "from sklearn.feature_extraction.text import TfidfVectorizer\n",
    "\n",
    "tfidf_model = TfidfVectorizer(max_features=1300)\n",
    "tfidf_train = tfidf_model.fit_transform(X_train)\n",
    "tfidf_test = tfidf_model.transform(X_test)"
   ]
  },
  {
   "cell_type": "markdown",
   "metadata": {
    "_uuid": "04e8e63899ccdfdd72d1dc4dccc1e275d0bbe5f3"
   },
   "source": [
    "## SVM \n",
    "\n",
    "* Learning SVM weights using SGD technique.\n",
    "* SGDClassifier from sklearn.linear_model with loss='hinge' is used.\n",
    "* Trained on tfidf data."
   ]
  },
  {
   "cell_type": "markdown",
   "metadata": {},
   "source": [
    "### Grid Search\n",
    "\n",
    "* Technique for searching for optimal depth."
   ]
  },
  {
   "cell_type": "code",
   "execution_count": 26,
   "metadata": {
    "ExecuteTime": {
     "end_time": "2018-09-29T09:33:29.362536Z",
     "start_time": "2018-09-29T09:33:29.357007Z"
    },
    "_uuid": "cc09f4023dd015c4eca466fc2ab9a57621f9e7a6"
   },
   "outputs": [],
   "source": [
    "# searching for best hyperparameter\n",
    "from sklearn.linear_model import SGDClassifier\n",
    "from sklearn.model_selection import GridSearchCV\n",
    "from sklearn.model_selection import TimeSeriesSplit\n",
    "\n",
    "parameters = {'alpha':[0.00001, 0.0001, 0.001, 0.01, 0.1]}\n",
    "classifier_ = SGDClassifier(loss='hinge')\n",
    "\n",
    "tscv = TimeSeriesSplit(n_splits=5)\n",
    "search_hyp = GridSearchCV(classifier_, parameters, cv=tscv, n_jobs=3)"
   ]
  },
  {
   "cell_type": "code",
   "execution_count": 27,
   "metadata": {
    "ExecuteTime": {
     "end_time": "2018-09-29T09:33:31.495897Z",
     "start_time": "2018-09-29T09:33:30.518286Z"
    },
    "_uuid": "92109ed7abff5bf6cd8e7b609e6cbf99541ed29e",
    "scrolled": true
   },
   "outputs": [
    {
     "data": {
      "text/plain": [
       "{'alpha': 0.0001}"
      ]
     },
     "execution_count": 27,
     "metadata": {},
     "output_type": "execute_result"
    }
   ],
   "source": [
    "search_hyp.fit(tfidf_train, Y_train)\n",
    "search_hyp.best_params_"
   ]
  },
  {
   "cell_type": "code",
   "execution_count": 28,
   "metadata": {
    "ExecuteTime": {
     "end_time": "2018-09-29T09:33:33.123018Z",
     "start_time": "2018-09-29T09:33:32.483605Z"
    }
   },
   "outputs": [
    {
     "data": {
      "image/png": "[encoded data removed]",
      "text/plain": [
       "<Figure size 432x288 with 1 Axes>"
      ]
     },
     "metadata": {
      "needs_background": "light"
     },
     "output_type": "display_data"
    }
   ],
   "source": [
    "test_errors = [(1-i)*100 for i in search_hyp.cv_results_['mean_test_score']]\n",
    "\n",
    "plt.plot(parameters['alpha'], test_errors)\n",
    "plt.title('Error plot')\n",
    "plt.xlabel('alpha')\n",
    "plt.ylabel('Error') \n",
    "plt.show()"
   ]
  },
  {
   "cell_type": "markdown",
   "metadata": {},
   "source": [
    "Optimal alpha is 0.001"
   ]
  },
  {
   "cell_type": "code",
   "execution_count": 29,
   "metadata": {
    "ExecuteTime": {
     "end_time": "2018-09-29T09:33:37.739085Z",
     "start_time": "2018-09-29T09:33:37.645191Z"
    },
    "_uuid": "3d3e27053e69e7a698a524aea95a53add48eb280"
   },
   "outputs": [
    {
     "data": {
      "text/plain": [
       "SGDClassifier(alpha=0.0001, average=False, class_weight=None, epsilon=0.1,\n",
       "       eta0=0.0, fit_intercept=True, l1_ratio=0.15,\n",
       "       learning_rate='optimal', loss='hinge', max_iter=None, n_iter=None,\n",
       "       n_jobs=1, penalty='l2', power_t=0.5, random_state=None,\n",
       "       shuffle=True, tol=None, verbose=0, warm_start=False)"
      ]
     },
     "execution_count": 29,
     "metadata": {},
     "output_type": "execute_result"
    }
   ],
   "source": [
    "# training final model\n",
    "classifier = SGDClassifier(loss='hinge', alpha=search_hyp.best_params_['alpha'])\n",
    "classifier.fit(tfidf_train, Y_train)"
   ]
  },
  {
   "cell_type": "code",
   "execution_count": 30,
   "metadata": {
    "ExecuteTime": {
     "end_time": "2018-09-29T09:33:42.128361Z",
     "start_time": "2018-09-29T09:33:42.089599Z"
    },
    "_uuid": "eaa2348f932a98fa9f8ad1b05d55b36dd8ef7c15"
   },
   "outputs": [],
   "source": [
    "# performence metrics\n",
    "\n",
    "from sklearn import metrics\n",
    "pred = classifier.predict(tfidf_test)\n",
    "\n",
    "tr_score = classifier.score(tfidf_train, Y_train)\n",
    "accuracy = metrics.accuracy_score(Y_test, pred)\n",
    "pre = metrics.precision_score(Y_test, pred)\n",
    "rec = metrics.recall_score(Y_test, pred)\n",
    "f1 = metrics.f1_score(Y_test, pred)"
   ]
  },
  {
   "cell_type": "code",
   "execution_count": 31,
   "metadata": {
    "ExecuteTime": {
     "end_time": "2018-09-29T09:33:53.658008Z",
     "start_time": "2018-09-29T09:33:53.651107Z"
    }
   },
   "outputs": [],
   "source": [
    "tb.add_row(['Tf-Idf', search_hyp.best_params_['alpha'], round(tr_score,2), \n",
    "            round(accuracy,2), round(pre,2), round(rec,2), round(f1,2)])"
   ]
  },
  {
   "cell_type": "code",
   "execution_count": 32,
   "metadata": {
    "ExecuteTime": {
     "end_time": "2018-09-29T09:33:59.993946Z",
     "start_time": "2018-09-29T09:33:59.849978Z"
    },
    "_uuid": "830a7fa59c3cecd8f2085e9e3374d67a74aa6dd0"
   },
   "outputs": [
    {
     "data": {
      "image/png": "[encoded data removed]",
      "text/plain": [
       "<Figure size 432x288 with 2 Axes>"
      ]
     },
     "metadata": {
      "needs_background": "light"
     },
     "output_type": "display_data"
    }
   ],
   "source": [
    "from sklearn.metrics import confusion_matrix\n",
    "cm = confusion_matrix(Y_test, pred)\n",
    "sns.heatmap(cm, annot=True, fmt='d')\n",
    "plt.show()"
   ]
  },
  {
   "cell_type": "markdown",
   "metadata": {
    "_uuid": "7f97fbaa3ea1d48c163e38a6da90f927fab1a0fb"
   },
   "source": [
    "# Word2vec\n",
    "\n",
    "* Trained own word2vec using gensim module. Considered words which has frequency more than 5 in whole data.\n",
    "* Trained word2vec using Word2vec function from gensim.models.\n",
    "* Trained for vector of size 150. And converted each word into a vector of size 150.\n",
    "* Added all vectors of a sentence and divided with total number of vectors in sentence. So that we can get average word2vec value for each sentence."
   ]
  },
  {
   "cell_type": "code",
   "execution_count": 33,
   "metadata": {
    "ExecuteTime": {
     "end_time": "2018-09-29T09:34:44.779367Z",
     "start_time": "2018-09-29T09:34:03.197144Z"
    },
    "_uuid": "4013b0bb1f20f2a86373f8c1c13ea6f204b34992",
    "scrolled": true
   },
   "outputs": [],
   "source": [
    "import warnings\n",
    "warnings.filterwarnings(\"ignore\")\n",
    "\n",
    "# training word2vec on training data\n",
    "from gensim.models import Word2Vec\n",
    "sentences = []\n",
    "for row in X_train:\n",
    "    sentences.append([word for word in row.split()])\n",
    "\n",
    "w2v = Word2Vec(sentences, min_count=5, size=150, workers=3)\n",
    "avgw2v_train = []\n",
    "for row in sentences:\n",
    "    te = [0 for i in range(150)]\n",
    "    num = 0\n",
    "    for word in row:\n",
    "        try:\n",
    "            te += w2v[word]\n",
    "            num += 1\n",
    "        except:\n",
    "            pass\n",
    "    avgw2v_train.append(te/num)"
   ]
  },
  {
   "cell_type": "code",
   "execution_count": 34,
   "metadata": {
    "ExecuteTime": {
     "end_time": "2018-09-29T09:34:55.341148Z",
     "start_time": "2018-09-29T09:34:44.781647Z"
    },
    "_uuid": "ae68d5719bc519c742d3e8c03862332d611ff11a"
   },
   "outputs": [],
   "source": [
    "# converting test data\n",
    "\n",
    "sentences = []\n",
    "for row in X_test:\n",
    "    sentences.append([word for word in row.split()])\n",
    "\n",
    "avgw2v_test = []\n",
    "for row in sentences:\n",
    "    te = [0 for i in range(150)]\n",
    "    num = 0\n",
    "    for word in row:\n",
    "        try:\n",
    "            te += w2v[word]\n",
    "            num += 1\n",
    "        except:\n",
    "            pass\n",
    "    avgw2v_test.append(te/num)"
   ]
  },
  {
   "cell_type": "markdown",
   "metadata": {
    "_uuid": "04e8e63899ccdfdd72d1dc4dccc1e275d0bbe5f3"
   },
   "source": [
    "## SVM \n",
    "\n",
    "* Learning SVM weights using SGD technique.\n",
    "* SGDClassifier from sklearn.linear_model with loss='hinge' is used.\n",
    "* Trained on average word2vec data."
   ]
  },
  {
   "cell_type": "markdown",
   "metadata": {},
   "source": [
    "### Grid Search\n",
    "\n",
    "* Technique for searching for optimal depth."
   ]
  },
  {
   "cell_type": "code",
   "execution_count": 35,
   "metadata": {
    "ExecuteTime": {
     "end_time": "2018-09-29T09:35:04.829800Z",
     "start_time": "2018-09-29T09:35:04.821673Z"
    },
    "_uuid": "cc09f4023dd015c4eca466fc2ab9a57621f9e7a6"
   },
   "outputs": [],
   "source": [
    "# searching for best hyperparameter\n",
    "from sklearn.linear_model import SGDClassifier\n",
    "from sklearn.model_selection import GridSearchCV\n",
    "from sklearn.model_selection import TimeSeriesSplit\n",
    "\n",
    "parameters = {'alpha':[0.00001, 0.0001, 0.001, 0.01, 0.1]}\n",
    "classifier_ = SGDClassifier(loss='hinge')\n",
    "\n",
    "tscv = TimeSeriesSplit(n_splits=5)\n",
    "search_hyp = GridSearchCV(classifier_, parameters, cv=tscv, n_jobs=3)"
   ]
  },
  {
   "cell_type": "code",
   "execution_count": 36,
   "metadata": {
    "ExecuteTime": {
     "end_time": "2018-09-29T09:35:36.890670Z",
     "start_time": "2018-09-29T09:35:05.649662Z"
    },
    "_uuid": "92109ed7abff5bf6cd8e7b609e6cbf99541ed29e",
    "scrolled": true
   },
   "outputs": [
    {
     "data": {
      "text/plain": [
       "{'alpha': 0.001}"
      ]
     },
     "execution_count": 36,
     "metadata": {},
     "output_type": "execute_result"
    }
   ],
   "source": [
    "search_hyp.fit(avgw2v_train, Y_train)\n",
    "search_hyp.best_params_"
   ]
  },
  {
   "cell_type": "code",
   "execution_count": 37,
   "metadata": {
    "ExecuteTime": {
     "end_time": "2018-09-29T09:35:37.045774Z",
     "start_time": "2018-09-29T09:35:36.892889Z"
    }
   },
   "outputs": [
    {
     "data": {
      "image/png": "[encoded data removed]",
      "text/plain": [
       "<Figure size 432x288 with 1 Axes>"
      ]
     },
     "metadata": {
      "needs_background": "light"
     },
     "output_type": "display_data"
    }
   ],
   "source": [
    "test_errors = [(1-i)*100 for i in search_hyp.cv_results_['mean_test_score']]\n",
    "\n",
    "plt.plot(parameters['alpha'], test_errors)\n",
    "plt.title('Error plot')\n",
    "plt.xlabel('alpha')\n",
    "plt.ylabel('Error') \n",
    "plt.show()"
   ]
  },
  {
   "cell_type": "markdown",
   "metadata": {},
   "source": [
    "Optimal alpha is 0.001"
   ]
  },
  {
   "cell_type": "code",
   "execution_count": 38,
   "metadata": {
    "ExecuteTime": {
     "end_time": "2018-09-29T09:35:39.262332Z",
     "start_time": "2018-09-29T09:35:37.047182Z"
    },
    "_uuid": "3d3e27053e69e7a698a524aea95a53add48eb280"
   },
   "outputs": [
    {
     "data": {
      "text/plain": [
       "SGDClassifier(alpha=0.001, average=False, class_weight=None, epsilon=0.1,\n",
       "       eta0=0.0, fit_intercept=True, l1_ratio=0.15,\n",
       "       learning_rate='optimal', loss='hinge', max_iter=None, n_iter=None,\n",
       "       n_jobs=1, penalty='l2', power_t=0.5, random_state=None,\n",
       "       shuffle=True, tol=None, verbose=0, warm_start=False)"
      ]
     },
     "execution_count": 38,
     "metadata": {},
     "output_type": "execute_result"
    }
   ],
   "source": [
    "# training final model\n",
    "classifier = SGDClassifier(loss='hinge', alpha=search_hyp.best_params_['alpha'])\n",
    "classifier.fit(avgw2v_train, Y_train)"
   ]
  },
  {
   "cell_type": "code",
   "execution_count": 39,
   "metadata": {
    "ExecuteTime": {
     "end_time": "2018-09-29T09:35:40.219759Z",
     "start_time": "2018-09-29T09:35:39.263927Z"
    },
    "_uuid": "eaa2348f932a98fa9f8ad1b05d55b36dd8ef7c15"
   },
   "outputs": [],
   "source": [
    "# performence metrics\n",
    "\n",
    "from sklearn import metrics\n",
    "pred = classifier.predict(avgw2v_test)\n",
    "\n",
    "tr_score = classifier.score(avgw2v_train, Y_train)\n",
    "accuracy = metrics.accuracy_score(Y_test, pred)\n",
    "pre = metrics.precision_score(Y_test, pred)\n",
    "rec = metrics.recall_score(Y_test, pred)\n",
    "f1 = metrics.f1_score(Y_test, pred)"
   ]
  },
  {
   "cell_type": "code",
   "execution_count": 40,
   "metadata": {
    "ExecuteTime": {
     "end_time": "2018-09-29T09:35:43.192654Z",
     "start_time": "2018-09-29T09:35:43.187870Z"
    }
   },
   "outputs": [],
   "source": [
    "tb.add_row(['Avg word2vec', search_hyp.best_params_['alpha'], round(tr_score,2), \n",
    "            round(accuracy,2), round(pre,2), round(rec,2), round(f1,2)])"
   ]
  },
  {
   "cell_type": "code",
   "execution_count": 41,
   "metadata": {
    "ExecuteTime": {
     "end_time": "2018-09-29T09:35:50.943737Z",
     "start_time": "2018-09-29T09:35:50.801863Z"
    },
    "_uuid": "830a7fa59c3cecd8f2085e9e3374d67a74aa6dd0"
   },
   "outputs": [
    {
     "data": {
      "image/png": "[encoded data removed]",
      "text/plain": [
       "<Figure size 432x288 with 2 Axes>"
      ]
     },
     "metadata": {
      "needs_background": "light"
     },
     "output_type": "display_data"
    }
   ],
   "source": [
    "from sklearn.metrics import confusion_matrix\n",
    "cm = confusion_matrix(Y_test, pred)\n",
    "sns.heatmap(cm, annot=True, fmt='d')\n",
    "plt.show()"
   ]
  },
  {
   "cell_type": "markdown",
   "metadata": {
    "_uuid": "bdde56c65062f270487ef85358cb5907b04a9c29"
   },
   "source": [
    "# Tf-IDF word2vec\n",
    "\n",
    "* Using pre-trained tf-idf vectors and word2vec of size 150.\n",
    "* Multiplying each word's word2vec vector and tf-idf value of that word in respected sentence.\n",
    "* Executing above step for each word in a sentence and took sum of values of all words in a sentence.\n",
    "* And this sum is divided by sum of tf-idf values of all words in sentences. Finally gives tf-idf word2vec values of size 150 for each sentence."
   ]
  },
  {
   "cell_type": "code",
   "execution_count": 42,
   "metadata": {
    "ExecuteTime": {
     "end_time": "2018-09-29T09:35:54.149266Z",
     "start_time": "2018-09-29T09:35:53.578180Z"
    }
   },
   "outputs": [],
   "source": [
    "tfidf_train = tfidf_train.toarray()\n",
    "tfidf_test = tfidf_test.toarray()"
   ]
  },
  {
   "cell_type": "code",
   "execution_count": 43,
   "metadata": {
    "ExecuteTime": {
     "end_time": "2018-09-29T09:36:36.323996Z",
     "start_time": "2018-09-29T09:35:54.150986Z"
    },
    "_uuid": "646b3850d84e9cd1566b19b733b9ea00ee0100ff",
    "scrolled": true
   },
   "outputs": [],
   "source": [
    "sentences = []\n",
    "for row in X_train:\n",
    "    sentences.append([word for word in row.split()])\n",
    "\n",
    "tfidfw2v_train = []\n",
    "i = 0\n",
    "for row in sentences:\n",
    "    te = [0 for i in range(150)]\n",
    "    \n",
    "    temp_tfidf = []\n",
    "    for val in tfidf_train[i]:\n",
    "        if val != 0:\n",
    "            temp_tfidf.append(val)\n",
    "    \n",
    "    num = 0\n",
    "    tf_idf_sum = 0\n",
    "    for word in row:\n",
    "        try:\n",
    "            num += 1\n",
    "            tf_idf_sum = tf_idf_sum + temp_tfidf[num-1]\n",
    "            te += (temp_tfidf[num-1] * w2v[word])\n",
    "        except:\n",
    "            pass\n",
    "    try: # avoiding divide by zero\n",
    "        te = (float)(1/tf_idf_sum) * te\n",
    "    except:\n",
    "        pass\n",
    "    tfidfw2v_train.append(te)\n",
    "    i = i + 1"
   ]
  },
  {
   "cell_type": "code",
   "execution_count": 44,
   "metadata": {
    "ExecuteTime": {
     "end_time": "2018-09-29T09:36:58.254991Z",
     "start_time": "2018-09-29T09:36:36.325591Z"
    },
    "_uuid": "f553a80ab6c91bab812549e3b692ec1b104b3e1a",
    "scrolled": true
   },
   "outputs": [],
   "source": [
    "sentences = []\n",
    "for row in X_test:\n",
    "    sentences.append([word for word in row.split()])\n",
    "\n",
    "tfidfw2v_test = []\n",
    "i = 0\n",
    "for row in sentences:\n",
    "    te = [0 for i in range(150)]\n",
    "    \n",
    "    temp_tfidf = []\n",
    "    for val in tfidf_test[i]:\n",
    "        if val != 0:\n",
    "            temp_tfidf.append(val)\n",
    "    \n",
    "    num = 0\n",
    "    tf_idf_sum = 0\n",
    "    for word in row:\n",
    "        try:\n",
    "            num += 1\n",
    "            tf_idf_sum = tf_idf_sum + temp_tfidf[num-1]\n",
    "            te += (temp_tfidf[num-1] * w2v[word])\n",
    "        except:\n",
    "            pass\n",
    "    try: # avoiding divide by zero\n",
    "        te = (float)(1/tf_idf_sum) * te\n",
    "    except:\n",
    "        pass\n",
    "    tfidfw2v_test.append(te)\n",
    "    i = i + 1"
   ]
  },
  {
   "cell_type": "markdown",
   "metadata": {
    "_uuid": "04e8e63899ccdfdd72d1dc4dccc1e275d0bbe5f3"
   },
   "source": [
    "## SVM \n",
    "\n",
    "* Learning SVM weights using SGD technique.\n",
    "* SGDClassifier from sklearn.linear_model with loss='hinge' is used.\n",
    "* Trained on tfidf word2vec data."
   ]
  },
  {
   "cell_type": "markdown",
   "metadata": {},
   "source": [
    "### Grid Search\n",
    "\n",
    "* Technique for searching for optimal depth."
   ]
  },
  {
   "cell_type": "code",
   "execution_count": 45,
   "metadata": {
    "ExecuteTime": {
     "end_time": "2018-09-29T09:36:58.259938Z",
     "start_time": "2018-09-29T09:36:58.256694Z"
    },
    "_uuid": "cc09f4023dd015c4eca466fc2ab9a57621f9e7a6"
   },
   "outputs": [],
   "source": [
    "# searching for best hyperparameter\n",
    "from sklearn.linear_model import SGDClassifier\n",
    "from sklearn.model_selection import GridSearchCV\n",
    "from sklearn.model_selection import TimeSeriesSplit\n",
    "\n",
    "parameters = {'alpha':[0.00001, 0.0001, 0.001, 0.01, 0.1]}\n",
    "classifier_ = SGDClassifier(loss='hinge')\n",
    "\n",
    "tscv = TimeSeriesSplit(n_splits=5)\n",
    "search_hyp = GridSearchCV(classifier_, parameters, cv=tscv, n_jobs=3)"
   ]
  },
  {
   "cell_type": "code",
   "execution_count": 46,
   "metadata": {
    "ExecuteTime": {
     "end_time": "2018-09-29T09:37:32.594755Z",
     "start_time": "2018-09-29T09:36:58.261579Z"
    },
    "_uuid": "92109ed7abff5bf6cd8e7b609e6cbf99541ed29e",
    "scrolled": true
   },
   "outputs": [
    {
     "data": {
      "text/plain": [
       "{'alpha': 0.001}"
      ]
     },
     "execution_count": 46,
     "metadata": {},
     "output_type": "execute_result"
    }
   ],
   "source": [
    "search_hyp.fit(tfidfw2v_train, Y_train)\n",
    "search_hyp.best_params_"
   ]
  },
  {
   "cell_type": "code",
   "execution_count": 47,
   "metadata": {
    "ExecuteTime": {
     "end_time": "2018-09-29T09:37:32.713704Z",
     "start_time": "2018-09-29T09:37:32.599146Z"
    }
   },
   "outputs": [
    {
     "data": {
      "image/png": "[encoded data removed]",
      "text/plain": [
       "<Figure size 432x288 with 1 Axes>"
      ]
     },
     "metadata": {
      "needs_background": "light"
     },
     "output_type": "display_data"
    }
   ],
   "source": [
    "test_errors = [(1-i)*100 for i in search_hyp.cv_results_['mean_test_score']]\n",
    "\n",
    "plt.plot(parameters['alpha'], test_errors)\n",
    "plt.title('Error plot')\n",
    "plt.xlabel('alpha')\n",
    "plt.ylabel('Error') \n",
    "plt.show()"
   ]
  },
  {
   "cell_type": "markdown",
   "metadata": {},
   "source": [
    "Optimal alpha is 0.001"
   ]
  },
  {
   "cell_type": "code",
   "execution_count": 48,
   "metadata": {
    "ExecuteTime": {
     "end_time": "2018-09-29T09:37:33.939789Z",
     "start_time": "2018-09-29T09:37:32.717206Z"
    },
    "_uuid": "3d3e27053e69e7a698a524aea95a53add48eb280"
   },
   "outputs": [
    {
     "data": {
      "text/plain": [
       "SGDClassifier(alpha=0.001, average=False, class_weight=None, epsilon=0.1,\n",
       "       eta0=0.0, fit_intercept=True, l1_ratio=0.15,\n",
       "       learning_rate='optimal', loss='hinge', max_iter=None, n_iter=None,\n",
       "       n_jobs=1, penalty='l2', power_t=0.5, random_state=None,\n",
       "       shuffle=True, tol=None, verbose=0, warm_start=False)"
      ]
     },
     "execution_count": 48,
     "metadata": {},
     "output_type": "execute_result"
    }
   ],
   "source": [
    "# training final model\n",
    "classifier = SGDClassifier(loss='hinge', alpha=search_hyp.best_params_['alpha'])\n",
    "classifier.fit(tfidfw2v_train, Y_train)"
   ]
  },
  {
   "cell_type": "code",
   "execution_count": 49,
   "metadata": {
    "ExecuteTime": {
     "end_time": "2018-09-29T09:37:34.393576Z",
     "start_time": "2018-09-29T09:37:33.941466Z"
    },
    "_uuid": "eaa2348f932a98fa9f8ad1b05d55b36dd8ef7c15"
   },
   "outputs": [],
   "source": [
    "# performence metrics\n",
    "\n",
    "from sklearn import metrics\n",
    "pred = classifier.predict(tfidfw2v_test)\n",
    "\n",
    "tr_score = classifier.score(tfidfw2v_train, Y_train) \n",
    "accuracy = metrics.accuracy_score(Y_test, pred)\n",
    "pre = metrics.precision_score(Y_test, pred)\n",
    "rec = metrics.recall_score(Y_test, pred)\n",
    "f1 = metrics.f1_score(Y_test, pred)"
   ]
  },
  {
   "cell_type": "code",
   "execution_count": 50,
   "metadata": {
    "ExecuteTime": {
     "end_time": "2018-09-29T09:37:34.892993Z",
     "start_time": "2018-09-29T09:37:34.395031Z"
    }
   },
   "outputs": [],
   "source": [
    "tb.add_row(['Tf-idf word2vec', search_hyp.best_params_['alpha'], round(tr_score,2), \n",
    "            round(accuracy,2), round(pre,2), round(rec,2), round(f1,2)])"
   ]
  },
  {
   "cell_type": "code",
   "execution_count": 51,
   "metadata": {
    "ExecuteTime": {
     "end_time": "2018-09-29T09:37:35.112785Z",
     "start_time": "2018-09-29T09:37:34.903450Z"
    },
    "_uuid": "830a7fa59c3cecd8f2085e9e3374d67a74aa6dd0"
   },
   "outputs": [
    {
     "data": {
      "image/png": "[encoded data removed]",
      "text/plain": [
       "<Figure size 432x288 with 2 Axes>"
      ]
     },
     "metadata": {
      "needs_background": "light"
     },
     "output_type": "display_data"
    }
   ],
   "source": [
    "from sklearn.metrics import confusion_matrix\n",
    "cm = confusion_matrix(Y_test, pred)\n",
    "sns.heatmap(cm, annot=True, fmt='d')\n",
    "plt.show()"
   ]
  },
  {
   "cell_type": "markdown",
   "metadata": {
    "_uuid": "9bda945919b332b85f670cdddfc716e265d8c566"
   },
   "source": [
    "### SGD Performence"
   ]
  },
  {
   "cell_type": "code",
   "execution_count": 52,
   "metadata": {
    "ExecuteTime": {
     "end_time": "2018-09-29T09:37:50.145007Z",
     "start_time": "2018-09-29T09:37:50.133101Z"
    },
    "scrolled": true
   },
   "outputs": [
    {
     "name": "stdout",
     "output_type": "stream",
     "text": [
      "+-----------------+--------+----------------+---------------+-----------+--------+----------+\n",
      "|    Vectorizer   | alpha  | Train accuracy | Test accuracy | Precision | Recall | f1-score |\n",
      "+-----------------+--------+----------------+---------------+-----------+--------+----------+\n",
      "|   Bag of Words  | 0.001  |      0.93      |      0.91     |    0.92   |  0.99  |   0.95   |\n",
      "|      Tf-Idf     | 0.0001 |      0.93      |      0.91     |    0.91   |  0.99  |   0.95   |\n",
      "|   Avg word2vec  | 0.001  |      0.91      |      0.9      |    0.9    |  0.99  |   0.94   |\n",
      "| Tf-idf word2vec | 0.001  |      0.89      |      0.88     |    0.88   |  1.0   |   0.94   |\n",
      "+-----------------+--------+----------------+---------------+-----------+--------+----------+\n"
     ]
    }
   ],
   "source": [
    "print(tb)"
   ]
  },
  {
   "cell_type": "markdown",
   "metadata": {},
   "source": [
    "* By comparing above models with each other. Best model is SGDClassifier of alpha 0.001 with Bag of Words vectorizer.\n",
    "\n",
    "\n",
    "So, Training SVM for Bag of words data."
   ]
  },
  {
   "cell_type": "markdown",
   "metadata": {},
   "source": [
    "## Training SVM\n",
    "\n",
    "* Training svm by using SVC from sklearn.svm.\n",
    "* Trained on bag of words model.\n",
    "* Rbf kernel is used."
   ]
  },
  {
   "cell_type": "markdown",
   "metadata": {},
   "source": [
    "### Grid Search\n",
    "\n",
    "* Searching for best parameter."
   ]
  },
  {
   "cell_type": "code",
   "execution_count": 6,
   "metadata": {
    "ExecuteTime": {
     "end_time": "2018-09-29T06:36:18.845504Z",
     "start_time": "2018-09-29T06:36:18.231002Z"
    }
   },
   "outputs": [],
   "source": [
    "from sklearn.model_selection import GridSearchCV\n",
    "from sklearn.svm import SVC\n",
    "from sklearn.model_selection import TimeSeriesSplit\n",
    "tscv = TimeSeriesSplit(n_splits=5)\n",
    "\n",
    "parameters = {'C':[0.1, 1.0],\n",
    "             'gamma':[0.0001, 0.01]}\n",
    "classifier_ = SVC(C=0.001, class_weight='balanced')\n",
    "search_hyp = GridSearchCV(classifier_, parameters, cv=tscv, n_jobs=3)"
   ]
  },
  {
   "cell_type": "code",
   "execution_count": 7,
   "metadata": {
    "ExecuteTime": {
     "end_time": "2018-09-29T08:22:35.505599Z",
     "start_time": "2018-09-29T06:36:41.930678Z"
    }
   },
   "outputs": [
    {
     "data": {
      "text/plain": [
       "{'C': 1.0, 'gamma': 0.01}"
      ]
     },
     "execution_count": 7,
     "metadata": {},
     "output_type": "execute_result"
    }
   ],
   "source": [
    "search_hyp.fit(bow_train, Y_train)\n",
    "search_hyp.best_params_"
   ]
  },
  {
   "cell_type": "code",
   "execution_count": 9,
   "metadata": {
    "ExecuteTime": {
     "end_time": "2018-09-29T08:32:22.523977Z",
     "start_time": "2018-09-29T08:32:20.640939Z"
    }
   },
   "outputs": [
    {
     "data": {
      "image/png": "[encoded data removed]",
      "text/plain": [
       "<Figure size 576x432 with 1 Axes>"
      ]
     },
     "metadata": {
      "needs_background": "light"
     },
     "output_type": "display_data"
    }
   ],
   "source": [
    "from mpl_toolkits.mplot3d import Axes3D\n",
    "import matplotlib.pyplot as plt\n",
    "\n",
    "te1 = []\n",
    "te2 = []\n",
    "for i in range(len(parameters['C'])):\n",
    "    for k in range(len(parameters['C'])):\n",
    "        te1.append(parameters['C'][i])\n",
    "    for k in range(len(parameters['gamma'])):\n",
    "        te2.append(parameters['gamma'][k])\n",
    "\n",
    "test_errors = [(1-i)*100 for i in search_hyp.cv_results_['mean_test_score']]\n",
    "fig = plt.figure(figsize=(8, 6))\n",
    "ax = fig.add_subplot(111, projection='3d')\n",
    "ax.scatter(te1, te2, test_errors)\n",
    "\n",
    "ax.set_xlabel('C')\n",
    "ax.set_ylabel('gamma')\n",
    "ax.set_zlabel('Error')\n",
    "plt.show()"
   ]
  },
  {
   "cell_type": "markdown",
   "metadata": {},
   "source": [
    "optimal C is 1.0 and optimal gamma is 0.01."
   ]
  },
  {
   "cell_type": "code",
   "execution_count": 10,
   "metadata": {
    "ExecuteTime": {
     "end_time": "2018-09-29T08:50:55.978315Z",
     "start_time": "2018-09-29T08:33:13.950958Z"
    }
   },
   "outputs": [
    {
     "data": {
      "text/plain": [
       "SVC(C=1.0, cache_size=200, class_weight='balanced', coef0=0.0,\n",
       "  decision_function_shape='ovr', degree=3, gamma=0.01, kernel='rbf',\n",
       "  max_iter=-1, probability=False, random_state=None, shrinking=True,\n",
       "  tol=0.001, verbose=False)"
      ]
     },
     "execution_count": 10,
     "metadata": {},
     "output_type": "execute_result"
    }
   ],
   "source": [
    "classifier = SVC(C=search_hyp.best_params_['C'], class_weight='balanced', \n",
    "                 gamma=search_hyp.best_params_['gamma'])\n",
    "classifier.fit(bow_train, Y_train)"
   ]
  },
  {
   "cell_type": "code",
   "execution_count": 11,
   "metadata": {
    "ExecuteTime": {
     "end_time": "2018-09-29T09:21:24.076357Z",
     "start_time": "2018-09-29T09:12:41.414926Z"
    }
   },
   "outputs": [],
   "source": [
    "from sklearn import metrics\n",
    "pred = classifier.predict(bow_test)\n",
    "\n",
    "tr_score = classifier.score(bow_train, Y_train) \n",
    "accuracy = metrics.accuracy_score(Y_test, pred)\n",
    "pre = metrics.precision_score(Y_test, pred)\n",
    "rec = metrics.recall_score(Y_test, pred)\n",
    "f1 = metrics.f1_score(Y_test, pred)"
   ]
  },
  {
   "cell_type": "code",
   "execution_count": 14,
   "metadata": {
    "ExecuteTime": {
     "end_time": "2018-09-29T09:27:53.343530Z",
     "start_time": "2018-09-29T09:27:53.207208Z"
    }
   },
   "outputs": [
    {
     "data": {
      "image/png": "[encoded data removed]",
      "text/plain": [
       "<Figure size 432x288 with 2 Axes>"
      ]
     },
     "metadata": {
      "needs_background": "light"
     },
     "output_type": "display_data"
    }
   ],
   "source": [
    "from sklearn.metrics import confusion_matrix\n",
    "cm = confusion_matrix(Y_test, pred)\n",
    "sns.heatmap(cm, annot=True, fmt='d')\n",
    "plt.show()"
   ]
  },
  {
   "cell_type": "code",
   "execution_count": 15,
   "metadata": {
    "ExecuteTime": {
     "end_time": "2018-09-29T09:27:58.889949Z",
     "start_time": "2018-09-29T09:27:58.885411Z"
    }
   },
   "outputs": [
    {
     "name": "stdout",
     "output_type": "stream",
     "text": [
      "+--------------+-----+-------+----------------+---------------+-----------+--------+----------+\n",
      "|  Vectorizer  |  C  | gamma | Train accuracy | Test accuracy | Precision | Recall | f1-score |\n",
      "+--------------+-----+-------+----------------+---------------+-----------+--------+----------+\n",
      "| Bag of Words | 1.0 |  0.01 |      0.93      |      0.88     |    0.96   |  0.91  |   0.93   |\n",
      "+--------------+-----+-------+----------------+---------------+-----------+--------+----------+\n"
     ]
    }
   ],
   "source": [
    "from prettytable import PrettyTable\n",
    "tb = PrettyTable()\n",
    "tb.field_names = ['Vectorizer', 'C', 'gamma', 'Train accuracy', 'Test accuracy',\n",
    "         'Precision', 'Recall', 'f1-score']\n",
    "tb.add_row(['Bag of Words', search_hyp.best_params_['C'],\n",
    "            search_hyp.best_params_['gamma'], round(tr_score,2), \n",
    "            round(accuracy,2), round(pre,2), round(rec,2), round(f1,2)])\n",
    "print(tb)"
   ]
  },
  {
   "cell_type": "markdown",
   "metadata": {},
   "source": [
    "* SGDRegressor with hinge loss gave better results than SVM of C 1.0 and 0.01."
   ]
  }
 ],
 "metadata": {
  "kernelspec": {
   "display_name": "Python 3",
   "language": "python",
   "name": "python3"
  },
  "language_info": {
   "codemirror_mode": {
    "name": "ipython",
    "version": 3
   },
   "file_extension": ".py",
   "mimetype": "text/x-python",
   "name": "python",
   "nbconvert_exporter": "python",
   "pygments_lexer": "ipython3",
   "version": "3.5.2"
  }
 },
 "nbformat": 4,
 "nbformat_minor": 1
}
