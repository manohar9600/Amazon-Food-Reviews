{
 "cells": [
  {
   "cell_type": "markdown",
   "metadata": {},
   "source": [
    "# Amazon Fine Food Reviews Analysis\n",
    "\n",
    "\n",
    "Data Source: https://www.kaggle.com/snap/amazon-fine-food-reviews\n",
    "\n",
    "The Amazon Fine Food Reviews dataset consists of reviews of fine foods from Amazon.<br>\n",
    "\n",
    "Number of reviews: 568,454<br>\n",
    "Number of users: 256,059<br>\n",
    "Number of products: 74,258<br>\n",
    "Timespan: Oct 1999 - Oct 2012<br>\n",
    "Number of Attributes/Columns in data: 10 \n",
    "\n",
    "Attribute Information:\n",
    "\n",
    "1. Id\n",
    "2. ProductId - unique identifier for the product\n",
    "3. UserId - unqiue identifier for the user\n",
    "4. ProfileName\n",
    "5. HelpfulnessNumerator - number of users who found the review helpful\n",
    "6. HelpfulnessDenominator - number of users who indicated whether they found the review helpful or not\n",
    "7. Score - rating between 1 and 5\n",
    "8. Time - timestamp for the review\n",
    "9. Summary - brief summary of the review\n",
    "10. Text - text of the review\n",
    "\n",
    "\n",
    "#### Objective:\n",
    "Given a review, determine whether the review is positive (Rating of 4 or 5) or negative (rating of 1 or 2).\n",
    "\n",
    "<br>\n",
    "[Q] How to determine if a review is positive or negative?<br>\n",
    "<br> \n",
    "[Ans] We could use the Score/Rating. A rating of 4 or 5 could be cosnidered a positive review. A review of 1 or 2 could be considered negative. A review of 3 is nuetral and ignored. This is an approximate and proxy way of determining the polarity (positivity/negativity) of a review."
   ]
  },
  {
   "cell_type": "markdown",
   "metadata": {
    "_cell_guid": "b1076dfc-b9ad-4769-8c92-a6c4dae69d19",
    "_uuid": "8f2839f25d086af736a60e9eeb907d3b93b6e0e5"
   },
   "source": [
    "# Preprocessing "
   ]
  },
  {
   "cell_type": "code",
   "execution_count": 1,
   "metadata": {
    "ExecuteTime": {
     "end_time": "2018-10-03T05:51:35.671030Z",
     "start_time": "2018-10-03T05:51:35.007386Z"
    },
    "_uuid": "d98b4026e68f92b5bf12bd67d0a2b9b4d7c057b3"
   },
   "outputs": [],
   "source": [
    "import numpy as np\n",
    "import pandas as pd \n",
    "import matplotlib.pyplot as plt\n",
    "from sklearn.feature_extraction.text import CountVectorizer\n",
    "from sklearn.feature_extraction.text import TfidfVectorizer\n",
    "from sklearn import metrics\n",
    "import seaborn as sns\n",
    "import warnings\n",
    "\n",
    "warnings.filterwarnings(\"ignore\")\n",
    "sns.set()"
   ]
  },
  {
   "cell_type": "markdown",
   "metadata": {},
   "source": [
    "* Loading Data from sql database. Ignored neutral reviews that is score=3. And data is sorted according to time."
   ]
  },
  {
   "cell_type": "code",
   "execution_count": 2,
   "metadata": {
    "ExecuteTime": {
     "end_time": "2018-09-23T10:39:11.681385Z",
     "start_time": "2018-09-23T10:39:07.842936Z"
    },
    "_uuid": "3545b70b1e3a9828a22aad57089993e35bdd137a"
   },
   "outputs": [
    {
     "data": {
      "text/html": [
       "<div>\n",
       "<style scoped>\n",
       "    .dataframe tbody tr th:only-of-type {\n",
       "        vertical-align: middle;\n",
       "    }\n",
       "\n",
       "    .dataframe tbody tr th {\n",
       "        vertical-align: top;\n",
       "    }\n",
       "\n",
       "    .dataframe thead th {\n",
       "        text-align: right;\n",
       "    }\n",
       "</style>\n",
       "<table border=\"1\" class=\"dataframe\">\n",
       "  <thead>\n",
       "    <tr style=\"text-align: right;\">\n",
       "      <th></th>\n",
       "      <th>Id</th>\n",
       "      <th>ProductId</th>\n",
       "      <th>UserId</th>\n",
       "      <th>ProfileName</th>\n",
       "      <th>HelpfulnessNumerator</th>\n",
       "      <th>HelpfulnessDenominator</th>\n",
       "      <th>Score</th>\n",
       "      <th>Time</th>\n",
       "      <th>Summary</th>\n",
       "      <th>Text</th>\n",
       "    </tr>\n",
       "  </thead>\n",
       "  <tbody>\n",
       "    <tr>\n",
       "      <th>0</th>\n",
       "      <td>150524</td>\n",
       "      <td>0006641040</td>\n",
       "      <td>ACITT7DI6IDDL</td>\n",
       "      <td>shari zychinski</td>\n",
       "      <td>0</td>\n",
       "      <td>0</td>\n",
       "      <td>5</td>\n",
       "      <td>939340800</td>\n",
       "      <td>EVERY book is educational</td>\n",
       "      <td>this witty little book makes my son laugh at l...</td>\n",
       "    </tr>\n",
       "    <tr>\n",
       "      <th>1</th>\n",
       "      <td>150501</td>\n",
       "      <td>0006641040</td>\n",
       "      <td>AJ46FKXOVC7NR</td>\n",
       "      <td>Nicholas A Mesiano</td>\n",
       "      <td>2</td>\n",
       "      <td>2</td>\n",
       "      <td>5</td>\n",
       "      <td>940809600</td>\n",
       "      <td>This whole series is great way to spend time w...</td>\n",
       "      <td>I can remember seeing the show when it aired o...</td>\n",
       "    </tr>\n",
       "    <tr>\n",
       "      <th>2</th>\n",
       "      <td>451856</td>\n",
       "      <td>B00004CXX9</td>\n",
       "      <td>AIUWLEQ1ADEG5</td>\n",
       "      <td>Elizabeth Medina</td>\n",
       "      <td>0</td>\n",
       "      <td>0</td>\n",
       "      <td>5</td>\n",
       "      <td>944092800</td>\n",
       "      <td>Entertainingl Funny!</td>\n",
       "      <td>Beetlejuice is a well written movie ..... ever...</td>\n",
       "    </tr>\n",
       "    <tr>\n",
       "      <th>3</th>\n",
       "      <td>230285</td>\n",
       "      <td>B00004RYGX</td>\n",
       "      <td>A344SMIA5JECGM</td>\n",
       "      <td>Vincent P. Ross</td>\n",
       "      <td>1</td>\n",
       "      <td>2</td>\n",
       "      <td>5</td>\n",
       "      <td>944438400</td>\n",
       "      <td>A modern day fairy tale</td>\n",
       "      <td>A twist of rumplestiskin captured on film, sta...</td>\n",
       "    </tr>\n",
       "    <tr>\n",
       "      <th>4</th>\n",
       "      <td>374359</td>\n",
       "      <td>B00004CI84</td>\n",
       "      <td>A344SMIA5JECGM</td>\n",
       "      <td>Vincent P. Ross</td>\n",
       "      <td>1</td>\n",
       "      <td>2</td>\n",
       "      <td>5</td>\n",
       "      <td>944438400</td>\n",
       "      <td>A modern day fairy tale</td>\n",
       "      <td>A twist of rumplestiskin captured on film, sta...</td>\n",
       "    </tr>\n",
       "  </tbody>\n",
       "</table>\n",
       "</div>"
      ],
      "text/plain": [
       "       Id   ProductId          UserId         ProfileName  \\\n",
       "0  150524  0006641040   ACITT7DI6IDDL     shari zychinski   \n",
       "1  150501  0006641040   AJ46FKXOVC7NR  Nicholas A Mesiano   \n",
       "2  451856  B00004CXX9   AIUWLEQ1ADEG5    Elizabeth Medina   \n",
       "3  230285  B00004RYGX  A344SMIA5JECGM     Vincent P. Ross   \n",
       "4  374359  B00004CI84  A344SMIA5JECGM     Vincent P. Ross   \n",
       "\n",
       "   HelpfulnessNumerator  HelpfulnessDenominator  Score       Time  \\\n",
       "0                     0                       0      5  939340800   \n",
       "1                     2                       2      5  940809600   \n",
       "2                     0                       0      5  944092800   \n",
       "3                     1                       2      5  944438400   \n",
       "4                     1                       2      5  944438400   \n",
       "\n",
       "                                             Summary  \\\n",
       "0                          EVERY book is educational   \n",
       "1  This whole series is great way to spend time w...   \n",
       "2                               Entertainingl Funny!   \n",
       "3                            A modern day fairy tale   \n",
       "4                            A modern day fairy tale   \n",
       "\n",
       "                                                Text  \n",
       "0  this witty little book makes my son laugh at l...  \n",
       "1  I can remember seeing the show when it aired o...  \n",
       "2  Beetlejuice is a well written movie ..... ever...  \n",
       "3  A twist of rumplestiskin captured on film, sta...  \n",
       "4  A twist of rumplestiskin captured on film, sta...  "
      ]
     },
     "execution_count": 2,
     "metadata": {},
     "output_type": "execute_result"
    }
   ],
   "source": [
    "import sqlite3\n",
    "\n",
    "conn = sqlite3.connect('Data/database.sqlite')\n",
    "\n",
    "data = pd.read_sql_query(\"select * from Reviews where Score !=3 order by Time\", conn)\n",
    "data.head()"
   ]
  },
  {
   "cell_type": "markdown",
   "metadata": {},
   "source": [
    "### Deduplication\n",
    "\n",
    "\n",
    "* Same review from a user to a product in different time indicates duplicate data.\n",
    "* Removed data that has same product ID, user id, score, text values."
   ]
  },
  {
   "cell_type": "code",
   "execution_count": 3,
   "metadata": {
    "ExecuteTime": {
     "end_time": "2018-09-23T10:39:12.563882Z",
     "start_time": "2018-09-23T10:39:11.683372Z"
    },
    "_uuid": "f90580278d19db7edc7924d47e993682dc962522"
   },
   "outputs": [],
   "source": [
    "# removing duplicates\n",
    "data = data.drop_duplicates(subset={'ProductId', 'UserId', 'Score', \n",
    "                            'Text'}, keep='first')"
   ]
  },
  {
   "cell_type": "markdown",
   "metadata": {},
   "source": [
    "### Data Cleaning\n",
    "\n",
    "* Removed html tags, punctuations from each sentence.\n",
    "* Each word is lowercased and removed stop words(a, an, the....).\n",
    "* Considered score 1 and 2 as negative review and scores 4 and 5 are considered as positive review.\n",
    "* For negative review '0' as label and for positive review '1' as label."
   ]
  },
  {
   "cell_type": "code",
   "execution_count": 4,
   "metadata": {
    "ExecuteTime": {
     "end_time": "2018-09-23T11:58:51.607645Z",
     "start_time": "2018-09-23T10:39:12.567260Z"
    },
    "_uuid": "41f698bce3bfc3a6e31af3fa5a1810f6a6d2272f"
   },
   "outputs": [
    {
     "name": "stdout",
     "output_type": "stream",
     "text": [
      "100.00 %\r"
     ]
    }
   ],
   "source": [
    "from nltk.corpus import stopwords\n",
    "from nltk.stem import SnowballStemmer\n",
    "import re\n",
    "\n",
    "snow = SnowballStemmer('english')\n",
    "pre_processed = []\n",
    "\n",
    "i = 0\n",
    "N = len(data['Text'])\n",
    "for sentence in data['Text']:    \n",
    "    sentence = str(sentence)\n",
    "    sentence = sentence.lower()\n",
    "    clnr = re.compile('<.*?>') # for cleaning html tags\n",
    "    sentence = re.sub(clnr, ' ', sentence)\n",
    "    sentence = re.sub(r'[?|!|\\'|\"|#]', r'', sentence)\n",
    "    sentence = re.sub(r'[.|,|)|(|\\|/]', r' ', sentence) \n",
    "    \n",
    "    words = [snow.stem(word) for word in sentence.split() \\\n",
    "             if word not in stopwords.words('english')]\n",
    "    final_sentence = ''\n",
    "    for word in words:\n",
    "        final_sentence = final_sentence + word + ' '\n",
    "    pre_processed.append(final_sentence)\n",
    "    print(\"{0:.2f} %\".format(i/N*100), end='\\r')\n",
    "    i += 1\n",
    "\n",
    "data['Text'] = pre_processed"
   ]
  },
  {
   "cell_type": "code",
   "execution_count": 2,
   "metadata": {
    "ExecuteTime": {
     "end_time": "2018-10-03T05:51:42.806565Z",
     "start_time": "2018-10-03T05:51:40.223928Z"
    }
   },
   "outputs": [
    {
     "data": {
      "text/html": [
       "<div>\n",
       "<style scoped>\n",
       "    .dataframe tbody tr th:only-of-type {\n",
       "        vertical-align: middle;\n",
       "    }\n",
       "\n",
       "    .dataframe tbody tr th {\n",
       "        vertical-align: top;\n",
       "    }\n",
       "\n",
       "    .dataframe thead th {\n",
       "        text-align: right;\n",
       "    }\n",
       "</style>\n",
       "<table border=\"1\" class=\"dataframe\">\n",
       "  <thead>\n",
       "    <tr style=\"text-align: right;\">\n",
       "      <th></th>\n",
       "      <th>Id</th>\n",
       "      <th>ProductId</th>\n",
       "      <th>UserId</th>\n",
       "      <th>ProfileName</th>\n",
       "      <th>HelpfulnessNumerator</th>\n",
       "      <th>HelpfulnessDenominator</th>\n",
       "      <th>Score</th>\n",
       "      <th>Time</th>\n",
       "      <th>Summary</th>\n",
       "      <th>Text</th>\n",
       "      <th>Sentiment</th>\n",
       "    </tr>\n",
       "  </thead>\n",
       "  <tbody>\n",
       "    <tr>\n",
       "      <th>0</th>\n",
       "      <td>150524</td>\n",
       "      <td>0006641040</td>\n",
       "      <td>ACITT7DI6IDDL</td>\n",
       "      <td>shari zychinski</td>\n",
       "      <td>0</td>\n",
       "      <td>0</td>\n",
       "      <td>5</td>\n",
       "      <td>939340800</td>\n",
       "      <td>EVERY book is educational</td>\n",
       "      <td>witti littl book make son laugh loud recit car...</td>\n",
       "      <td>1</td>\n",
       "    </tr>\n",
       "    <tr>\n",
       "      <th>1</th>\n",
       "      <td>150501</td>\n",
       "      <td>0006641040</td>\n",
       "      <td>AJ46FKXOVC7NR</td>\n",
       "      <td>Nicholas A Mesiano</td>\n",
       "      <td>2</td>\n",
       "      <td>2</td>\n",
       "      <td>5</td>\n",
       "      <td>940809600</td>\n",
       "      <td>This whole series is great way to spend time w...</td>\n",
       "      <td>rememb see show air televis year ago child sis...</td>\n",
       "      <td>1</td>\n",
       "    </tr>\n",
       "    <tr>\n",
       "      <th>2</th>\n",
       "      <td>451856</td>\n",
       "      <td>B00004CXX9</td>\n",
       "      <td>AIUWLEQ1ADEG5</td>\n",
       "      <td>Elizabeth Medina</td>\n",
       "      <td>0</td>\n",
       "      <td>0</td>\n",
       "      <td>5</td>\n",
       "      <td>944092800</td>\n",
       "      <td>Entertainingl Funny!</td>\n",
       "      <td>beetlejuic well written movi everyth excel act...</td>\n",
       "      <td>1</td>\n",
       "    </tr>\n",
       "    <tr>\n",
       "      <th>3</th>\n",
       "      <td>230285</td>\n",
       "      <td>B00004RYGX</td>\n",
       "      <td>A344SMIA5JECGM</td>\n",
       "      <td>Vincent P. Ross</td>\n",
       "      <td>1</td>\n",
       "      <td>2</td>\n",
       "      <td>5</td>\n",
       "      <td>944438400</td>\n",
       "      <td>A modern day fairy tale</td>\n",
       "      <td>twist rumplestiskin captur film star michael k...</td>\n",
       "      <td>1</td>\n",
       "    </tr>\n",
       "    <tr>\n",
       "      <th>4</th>\n",
       "      <td>374359</td>\n",
       "      <td>B00004CI84</td>\n",
       "      <td>A344SMIA5JECGM</td>\n",
       "      <td>Vincent P. Ross</td>\n",
       "      <td>1</td>\n",
       "      <td>2</td>\n",
       "      <td>5</td>\n",
       "      <td>944438400</td>\n",
       "      <td>A modern day fairy tale</td>\n",
       "      <td>twist rumplestiskin captur film star michael k...</td>\n",
       "      <td>1</td>\n",
       "    </tr>\n",
       "  </tbody>\n",
       "</table>\n",
       "</div>"
      ],
      "text/plain": [
       "       Id   ProductId          UserId         ProfileName  \\\n",
       "0  150524  0006641040   ACITT7DI6IDDL     shari zychinski   \n",
       "1  150501  0006641040   AJ46FKXOVC7NR  Nicholas A Mesiano   \n",
       "2  451856  B00004CXX9   AIUWLEQ1ADEG5    Elizabeth Medina   \n",
       "3  230285  B00004RYGX  A344SMIA5JECGM     Vincent P. Ross   \n",
       "4  374359  B00004CI84  A344SMIA5JECGM     Vincent P. Ross   \n",
       "\n",
       "   HelpfulnessNumerator  HelpfulnessDenominator  Score       Time  \\\n",
       "0                     0                       0      5  939340800   \n",
       "1                     2                       2      5  940809600   \n",
       "2                     0                       0      5  944092800   \n",
       "3                     1                       2      5  944438400   \n",
       "4                     1                       2      5  944438400   \n",
       "\n",
       "                                             Summary  \\\n",
       "0                          EVERY book is educational   \n",
       "1  This whole series is great way to spend time w...   \n",
       "2                               Entertainingl Funny!   \n",
       "3                            A modern day fairy tale   \n",
       "4                            A modern day fairy tale   \n",
       "\n",
       "                                                Text  Sentiment  \n",
       "0  witti littl book make son laugh loud recit car...          1  \n",
       "1  rememb see show air televis year ago child sis...          1  \n",
       "2  beetlejuic well written movi everyth excel act...          1  \n",
       "3  twist rumplestiskin captur film star michael k...          1  \n",
       "4  twist rumplestiskin captur film star michael k...          1  "
      ]
     },
     "execution_count": 2,
     "metadata": {},
     "output_type": "execute_result"
    }
   ],
   "source": [
    "# loading pre processed data from hard disk that I previously processed\n",
    "import pickle\n",
    "\n",
    "with open('Saved/PreProcessed.pkl', 'rb') as f:\n",
    "    data = pickle.load(f)\n",
    "data.head()"
   ]
  },
  {
   "cell_type": "markdown",
   "metadata": {},
   "source": [
    "### Data Segmentation\n",
    "\n",
    "* First 100k review taken into consideration.\n",
    "* Taken only text column from data.\n",
    "* Data is divided according to time."
   ]
  },
  {
   "cell_type": "code",
   "execution_count": 3,
   "metadata": {
    "ExecuteTime": {
     "end_time": "2018-10-03T05:51:44.715325Z",
     "start_time": "2018-10-03T05:51:44.711653Z"
    },
    "_uuid": "6a339fe9d6f80aedf8e8cc2b95e1402b19a6b0cb"
   },
   "outputs": [],
   "source": [
    "data = data['Text'][0:10000]"
   ]
  },
  {
   "cell_type": "markdown",
   "metadata": {
    "_uuid": "6f316ce32a3bb0fef4e3aa053f67133373c8a4a4"
   },
   "source": [
    "# Bag of Words\n",
    "\n",
    "* Trained bag of words by using training data. Transformed training and testing data to numerical vectors.\n",
    "* Considered only top most 2000 important words.\n",
    "* Each sentence is converted into a vector of size 2000."
   ]
  },
  {
   "cell_type": "code",
   "execution_count": 4,
   "metadata": {
    "ExecuteTime": {
     "end_time": "2018-10-03T05:51:49.173206Z",
     "start_time": "2018-10-03T05:51:47.708043Z"
    },
    "_uuid": "80cdd79d76e82a14ec7969cd18c8c61c7f0be15c"
   },
   "outputs": [],
   "source": [
    "# Training Bag of words\n",
    "from sklearn.feature_extraction.text import CountVectorizer\n",
    "\n",
    "bow_model = CountVectorizer(max_features=2000)\n",
    "bow_data = bow_model.fit_transform(data)"
   ]
  },
  {
   "cell_type": "markdown",
   "metadata": {
    "_uuid": "04e8e63899ccdfdd72d1dc4dccc1e275d0bbe5f3"
   },
   "source": [
    "## Clustering \n",
    "\n",
    "* Clustering text data into different clustering.\n",
    "* Clustered using KMeans from sklearn.cluster module.\n",
    "* Trained on bag of words data."
   ]
  },
  {
   "cell_type": "markdown",
   "metadata": {},
   "source": [
    "### KMeans++\n",
    "\n",
    "* Algorithm for calculating intial values in KMeans."
   ]
  },
  {
   "cell_type": "code",
   "execution_count": 5,
   "metadata": {
    "ExecuteTime": {
     "end_time": "2018-10-03T05:59:29.145102Z",
     "start_time": "2018-10-03T05:51:52.762293Z"
    },
    "_uuid": "cc09f4023dd015c4eca466fc2ab9a57621f9e7a6"
   },
   "outputs": [],
   "source": [
    "from sklearn.cluster import KMeans\n",
    "\n",
    "squared_distances = []\n",
    "for i in range(8, 16):\n",
    "    kmeans = KMeans(n_clusters=i, init='k-means++', n_jobs=3)\n",
    "    kmeans.fit(bow_data)\n",
    "    squared_distances.append(kmeans.inertia_)"
   ]
  },
  {
   "cell_type": "code",
   "execution_count": 6,
   "metadata": {
    "ExecuteTime": {
     "end_time": "2018-10-03T06:17:05.516640Z",
     "start_time": "2018-10-03T06:17:04.224439Z"
    },
    "_uuid": "92109ed7abff5bf6cd8e7b609e6cbf99541ed29e",
    "scrolled": false
   },
   "outputs": [
    {
     "data": {
      "image/png": "[encoded data removed]",
      "text/plain": [
       "<Figure size 432x288 with 1 Axes>"
      ]
     },
     "metadata": {
      "needs_background": "light"
     },
     "output_type": "display_data"
    }
   ],
   "source": [
    "# plot \n",
    "te = [i for i in range(8,16)]\n",
    "plt.plot(te, squared_distances, '--bo')\n",
    "plt.xlabel('number of clusters')\n",
    "plt.ylabel('squared_distances')\n",
    "plt.show()"
   ]
  },
  {
   "cell_type": "markdown",
   "metadata": {},
   "source": [
    "- According to elbow method, best model is of 13 clusters."
   ]
  },
  {
   "cell_type": "code",
   "execution_count": 10,
   "metadata": {
    "ExecuteTime": {
     "end_time": "2018-10-03T06:56:45.299059Z",
     "start_time": "2018-10-03T06:55:21.718005Z"
    },
    "_uuid": "3d3e27053e69e7a698a524aea95a53add48eb280"
   },
   "outputs": [
    {
     "data": {
      "text/plain": [
       "KMeans(algorithm='auto', copy_x=True, init='k-means++', max_iter=300,\n",
       "    n_clusters=13, n_init=10, n_jobs=3, precompute_distances='auto',\n",
       "    random_state=None, tol=0.0001, verbose=0)"
      ]
     },
     "execution_count": 10,
     "metadata": {},
     "output_type": "execute_result"
    }
   ],
   "source": [
    "# training final model\n",
    "kmeans = KMeans(n_clusters=13, init='k-means++', n_jobs=3)\n",
    "kmeans.fit(bow_data)"
   ]
  },
  {
   "cell_type": "code",
   "execution_count": 11,
   "metadata": {
    "ExecuteTime": {
     "end_time": "2018-10-03T07:29:28.650719Z",
     "start_time": "2018-10-03T07:29:28.647619Z"
    }
   },
   "outputs": [],
   "source": [
    "from prettytable import PrettyTable\n",
    "\n",
    "performence = PrettyTable()\n",
    "performence.field_names = ['Intialisation', 'num of clusters', 'squared distances']\n",
    "performence.add_row(['KMeans++', 13, kmeans.inertia_])"
   ]
  },
  {
   "cell_type": "markdown",
   "metadata": {},
   "source": [
    "Labelling each sentence to their respective cluster number and saving each cluster data into text data to read manually."
   ]
  },
  {
   "cell_type": "code",
   "execution_count": 14,
   "metadata": {
    "ExecuteTime": {
     "end_time": "2018-10-03T07:37:29.082115Z",
     "start_time": "2018-10-03T07:37:20.874558Z"
    },
    "_uuid": "830a7fa59c3cecd8f2085e9e3374d67a74aa6dd0"
   },
   "outputs": [],
   "source": [
    "# loading not preprocessed data\n",
    "import sqlite3\n",
    "\n",
    "conn = sqlite3.connect('Data/database.sqlite')\n",
    "original_data = pd.read_sql_query(\"select * from Reviews where Score !=3 order by Time\", conn)\n",
    "\n",
    "# removing duplicates\n",
    "original_data = original_data.drop_duplicates(subset={'ProductId', 'UserId', 'Score', \n",
    "                            'Text'}, keep='first')"
   ]
  },
  {
   "cell_type": "code",
   "execution_count": 20,
   "metadata": {
    "ExecuteTime": {
     "end_time": "2018-10-03T07:41:59.596635Z",
     "start_time": "2018-10-03T07:41:59.451142Z"
    }
   },
   "outputs": [],
   "source": [
    "labels = kmeans.labels_\n",
    "cluster_data = [[] for i in range(13)]\n",
    "\n",
    "i = 0\n",
    "for label in labels:\n",
    "    cluster_data[label].append(original_data['Text'].iloc[i])\n",
    "    i += 1"
   ]
  },
  {
   "cell_type": "code",
   "execution_count": 25,
   "metadata": {
    "ExecuteTime": {
     "end_time": "2018-10-03T07:42:47.766110Z",
     "start_time": "2018-10-03T07:42:47.762677Z"
    }
   },
   "outputs": [
    {
     "data": {
      "text/plain": [
       "5"
      ]
     },
     "execution_count": 25,
     "metadata": {},
     "output_type": "execute_result"
    }
   ],
   "source": [
    "# saving 5th and 9th cluster data into text file\n"
   ]
  },
  {
   "cell_type": "markdown",
   "metadata": {},
   "source": [
    "### Random Search\n",
    "\n",
    "* Searching randomly for best depth."
   ]
  },
  {
   "cell_type": "code",
   "execution_count": 17,
   "metadata": {
    "ExecuteTime": {
     "end_time": "2018-09-23T12:00:09.012737Z",
     "start_time": "2018-09-23T12:00:09.009863Z"
    }
   },
   "outputs": [],
   "source": [
    "# searching for best hyperparameter\n",
    "from sklearn.model_selection import RandomizedSearchCV\n",
    "\n",
    "parameters = {'max_depth':[i for i in range(1, 31)]}\n",
    "classifier_ = DecisionTreeClassifier(class_weight='balanced')\n",
    "\n",
    "search_hyp = RandomizedSearchCV(classifier_, parameters, cv=5, n_jobs=3)"
   ]
  },
  {
   "cell_type": "code",
   "execution_count": 18,
   "metadata": {
    "ExecuteTime": {
     "end_time": "2018-09-23T12:01:19.639663Z",
     "start_time": "2018-09-23T12:00:09.014258Z"
    }
   },
   "outputs": [
    {
     "data": {
      "text/plain": [
       "{'max_depth': 30}"
      ]
     },
     "execution_count": 18,
     "metadata": {},
     "output_type": "execute_result"
    }
   ],
   "source": [
    "search_hyp.fit(bow_train, Y_train)\n",
    "search_hyp.best_params_"
   ]
  },
  {
   "cell_type": "code",
   "execution_count": 19,
   "metadata": {
    "ExecuteTime": {
     "end_time": "2018-09-23T12:01:19.747695Z",
     "start_time": "2018-09-23T12:01:19.641826Z"
    }
   },
   "outputs": [
    {
     "data": {
      "image/png": "[encoded data removed]",
      "text/plain": [
       "<Figure size 432x288 with 1 Axes>"
      ]
     },
     "metadata": {
      "needs_background": "light"
     },
     "output_type": "display_data"
    }
   ],
   "source": [
    "te = []\n",
    "for i in range(10):\n",
    "    te.append(search_hyp.cv_results_['params'][i]['max_depth'])\n",
    "indices = np.argsort(te).tolist()\n",
    "test_errors = [(1-i)*100 for i in search_hyp.cv_results_['mean_test_score']]\n",
    "\n",
    "temp1 = []\n",
    "temp2 = []\n",
    "for ind in indices:\n",
    "    temp1.append(te[ind])\n",
    "    temp2.append(test_errors[ind])\n",
    "    \n",
    "plt.plot(temp1, temp2)\n",
    "plt.title('Error Plot')\n",
    "plt.xlabel(\"Depth\")\n",
    "plt.ylabel(\"Error\")\n",
    "plt.show()"
   ]
  },
  {
   "cell_type": "markdown",
   "metadata": {},
   "source": [
    "Optimal depth is 30."
   ]
  },
  {
   "cell_type": "code",
   "execution_count": 20,
   "metadata": {
    "ExecuteTime": {
     "end_time": "2018-09-23T12:01:28.496231Z",
     "start_time": "2018-09-23T12:01:19.749270Z"
    }
   },
   "outputs": [
    {
     "data": {
      "text/plain": [
       "DecisionTreeClassifier(class_weight='balanced', criterion='gini',\n",
       "            max_depth=30, max_features=None, max_leaf_nodes=None,\n",
       "            min_impurity_decrease=0.0, min_impurity_split=None,\n",
       "            min_samples_leaf=1, min_samples_split=2,\n",
       "            min_weight_fraction_leaf=0.0, presort=False, random_state=None,\n",
       "            splitter='best')"
      ]
     },
     "execution_count": 20,
     "metadata": {},
     "output_type": "execute_result"
    }
   ],
   "source": [
    "# training final model\n",
    "classifier = DecisionTreeClassifier(class_weight='balanced',\n",
    "                                    max_depth=search_hyp.best_params_['max_depth'])\n",
    "classifier.fit(bow_train, Y_train)"
   ]
  },
  {
   "cell_type": "code",
   "execution_count": 21,
   "metadata": {
    "ExecuteTime": {
     "end_time": "2018-09-23T12:01:28.539169Z",
     "start_time": "2018-09-23T12:01:28.499503Z"
    }
   },
   "outputs": [],
   "source": [
    "pred = classifier.predict(bow_test)\n",
    "\n",
    "tr_score = classifier.score(bow_train, Y_train)\n",
    "accuracy = metrics.accuracy_score(Y_test, pred)\n",
    "pre = metrics.precision_score(Y_test, pred)\n",
    "rec = metrics.recall_score(Y_test, pred)\n",
    "f1 = metrics.f1_score(Y_test, pred)"
   ]
  },
  {
   "cell_type": "code",
   "execution_count": 22,
   "metadata": {
    "ExecuteTime": {
     "end_time": "2018-09-23T12:01:30.688668Z",
     "start_time": "2018-09-23T12:01:28.540857Z"
    }
   },
   "outputs": [],
   "source": [
    "performence.append(['Bag of Words', 'Random Search', search_hyp.best_params_['max_depth'], \n",
    "                   tr_score, accuracy, pre, rec, f1])"
   ]
  },
  {
   "cell_type": "code",
   "execution_count": 23,
   "metadata": {
    "ExecuteTime": {
     "end_time": "2018-09-23T12:01:32.152989Z",
     "start_time": "2018-09-23T12:01:30.692066Z"
    }
   },
   "outputs": [
    {
     "data": {
      "text/plain": [
       "<matplotlib.axes._subplots.AxesSubplot at 0x7f776db88f28>"
      ]
     },
     "execution_count": 23,
     "metadata": {},
     "output_type": "execute_result"
    },
    {
     "data": {
      "image/png": "[encoded data removed]",
      "text/plain": [
       "<Figure size 432x288 with 2 Axes>"
      ]
     },
     "metadata": {
      "needs_background": "light"
     },
     "output_type": "display_data"
    }
   ],
   "source": [
    "from sklearn.metrics import confusion_matrix\n",
    "cm = confusion_matrix(Y_test, pred)\n",
    "sns.heatmap(cm, annot=True, fmt='d')"
   ]
  },
  {
   "cell_type": "code",
   "execution_count": 24,
   "metadata": {
    "ExecuteTime": {
     "end_time": "2018-09-23T12:01:33.988615Z",
     "start_time": "2018-09-23T12:01:32.154473Z"
    }
   },
   "outputs": [
    {
     "data": {
      "image/png": "[encoded data removed]",
      "text/plain": [
       "<Figure size 432x288 with 1 Axes>"
      ]
     },
     "metadata": {
      "needs_background": "light"
     },
     "output_type": "display_data"
    }
   ],
   "source": [
    "from wordcloud import WordCloud\n",
    "\n",
    "te = {}\n",
    "indices = np.array(list(map(abs, classifier.feature_importances_))).argsort()[1970:2000]\n",
    "indices = indices.tolist()\n",
    "for ind_ in indices:\n",
    "    for word in bow_model.vocabulary_:\n",
    "        if bow_model.vocabulary_[word] == ind_:\n",
    "            te[word] = classifier.feature_importances_[ind_]\n",
    "    \n",
    "wordcloud = WordCloud(width = 1200, height = 1200, \n",
    "                background_color ='white', \n",
    "                min_font_size = 20).generate_from_frequencies(te)\n",
    "plt.imshow(wordcloud)\n",
    "plt.show()"
   ]
  },
  {
   "cell_type": "code",
   "execution_count": 25,
   "metadata": {
    "ExecuteTime": {
     "end_time": "2018-09-23T12:01:34.530177Z",
     "start_time": "2018-09-23T12:01:33.992295Z"
    }
   },
   "outputs": [],
   "source": [
    "export_graphviz(classifier, out_file='tree2.dot', max_depth=30)"
   ]
  },
  {
   "cell_type": "markdown",
   "metadata": {
    "_uuid": "98aa06dca82803f0f1ed6928077138f5783b7604"
   },
   "source": [
    "# Tf-Idf\n",
    "\n",
    "* Trained tf-idf by using training data. Transformed training and testing data to numerical vectors.\n",
    "* TfidfVectorizer from sklearn is used.\n",
    "* Considered only top most 2000 important words.\n",
    "* Each sentence is converted into a vector of size 2000."
   ]
  },
  {
   "cell_type": "code",
   "execution_count": 26,
   "metadata": {
    "ExecuteTime": {
     "end_time": "2018-09-23T12:01:37.233240Z",
     "start_time": "2018-09-23T12:01:34.533578Z"
    },
    "_uuid": "e74668b48d3ff78ae0fce6547611c3b35cc35305"
   },
   "outputs": [],
   "source": [
    "# Training tf-idf\n",
    "from sklearn.feature_extraction.text import TfidfVectorizer\n",
    "\n",
    "tfidf_model = TfidfVectorizer(max_features=2000)\n",
    "tfidf_train = tfidf_model.fit_transform(X_train)\n",
    "tfidf_test = tfidf_model.transform(X_test)"
   ]
  },
  {
   "cell_type": "markdown",
   "metadata": {
    "_uuid": "04e8e63899ccdfdd72d1dc4dccc1e275d0bbe5f3"
   },
   "source": [
    "## Decision Tree \n",
    "\n",
    "* Training Decision Tree using DecisionTreeClassifier from sklearn.tree module.\n",
    "* Trained on tf-idf data."
   ]
  },
  {
   "cell_type": "markdown",
   "metadata": {},
   "source": [
    "### Grid Search\n",
    "\n",
    "* Technique for searching for optimal depth."
   ]
  },
  {
   "cell_type": "code",
   "execution_count": 27,
   "metadata": {
    "ExecuteTime": {
     "end_time": "2018-09-23T12:01:37.240228Z",
     "start_time": "2018-09-23T12:01:37.234939Z"
    },
    "_uuid": "cc09f4023dd015c4eca466fc2ab9a57621f9e7a6"
   },
   "outputs": [],
   "source": [
    "# searching for best hyperparameter\n",
    "from sklearn.tree import DecisionTreeClassifier\n",
    "from sklearn.model_selection import GridSearchCV\n",
    "\n",
    "parameters = {'max_depth':[i for i in range(1, 32, 4)]}\n",
    "classifier_ = DecisionTreeClassifier(class_weight='balanced')\n",
    "\n",
    "search_hyp = GridSearchCV(classifier_, parameters, cv=5, n_jobs=3)"
   ]
  },
  {
   "cell_type": "code",
   "execution_count": 28,
   "metadata": {
    "ExecuteTime": {
     "end_time": "2018-09-23T12:02:48.907251Z",
     "start_time": "2018-09-23T12:01:37.242487Z"
    },
    "_uuid": "92109ed7abff5bf6cd8e7b609e6cbf99541ed29e",
    "scrolled": false
   },
   "outputs": [
    {
     "data": {
      "text/plain": [
       "{'max_depth': 29}"
      ]
     },
     "execution_count": 28,
     "metadata": {},
     "output_type": "execute_result"
    }
   ],
   "source": [
    "search_hyp.fit(tfidf_train, Y_train)\n",
    "search_hyp.best_params_"
   ]
  },
  {
   "cell_type": "code",
   "execution_count": 29,
   "metadata": {
    "ExecuteTime": {
     "end_time": "2018-09-23T12:02:49.020828Z",
     "start_time": "2018-09-23T12:02:48.909471Z"
    }
   },
   "outputs": [
    {
     "data": {
      "image/png": "[encoded data removed]",
      "text/plain": [
       "<Figure size 432x288 with 1 Axes>"
      ]
     },
     "metadata": {
      "needs_background": "light"
     },
     "output_type": "display_data"
    }
   ],
   "source": [
    "test_errors = [(1-i)*100 for i in search_hyp.cv_results_['mean_test_score']]\n",
    "\n",
    "plt.plot(parameters['max_depth'], test_errors)\n",
    "plt.title('Error plot')\n",
    "plt.xlabel('Depth')\n",
    "plt.ylabel('Error') \n",
    "plt.show()"
   ]
  },
  {
   "cell_type": "markdown",
   "metadata": {},
   "source": [
    "Optimal depth is 29."
   ]
  },
  {
   "cell_type": "code",
   "execution_count": 30,
   "metadata": {
    "ExecuteTime": {
     "end_time": "2018-09-23T12:02:59.606267Z",
     "start_time": "2018-09-23T12:02:49.022544Z"
    },
    "_uuid": "3d3e27053e69e7a698a524aea95a53add48eb280"
   },
   "outputs": [
    {
     "data": {
      "text/plain": [
       "DecisionTreeClassifier(class_weight='balanced', criterion='gini',\n",
       "            max_depth=29, max_features=None, max_leaf_nodes=None,\n",
       "            min_impurity_decrease=0.0, min_impurity_split=None,\n",
       "            min_samples_leaf=1, min_samples_split=2,\n",
       "            min_weight_fraction_leaf=0.0, presort=False, random_state=None,\n",
       "            splitter='best')"
      ]
     },
     "execution_count": 30,
     "metadata": {},
     "output_type": "execute_result"
    }
   ],
   "source": [
    "# training final model\n",
    "classifier = DecisionTreeClassifier(class_weight='balanced',\n",
    "                                    max_depth=search_hyp.best_params_['max_depth'])\n",
    "classifier.fit(tfidf_train, Y_train)"
   ]
  },
  {
   "cell_type": "code",
   "execution_count": 31,
   "metadata": {
    "ExecuteTime": {
     "end_time": "2018-09-23T12:02:59.704037Z",
     "start_time": "2018-09-23T12:02:59.608017Z"
    },
    "_uuid": "eaa2348f932a98fa9f8ad1b05d55b36dd8ef7c15"
   },
   "outputs": [],
   "source": [
    "# performence metrics\n",
    "\n",
    "from sklearn import metrics\n",
    "pred = classifier.predict(tfidf_test)\n",
    "\n",
    "tr_score = classifier.score(tfidf_train, Y_train)\n",
    "accuracy = metrics.accuracy_score(Y_test, pred)\n",
    "pre = metrics.precision_score(Y_test, pred)\n",
    "rec = metrics.recall_score(Y_test, pred)\n",
    "f1 = metrics.f1_score(Y_test, pred)"
   ]
  },
  {
   "cell_type": "code",
   "execution_count": 32,
   "metadata": {
    "ExecuteTime": {
     "end_time": "2018-09-23T12:02:59.708441Z",
     "start_time": "2018-09-23T12:02:59.705644Z"
    }
   },
   "outputs": [],
   "source": [
    "performence.append(['tf-idf', 'Grid Search', search_hyp.best_params_['max_depth'], \n",
    "                   tr_score, accuracy, pre, rec, f1])"
   ]
  },
  {
   "cell_type": "code",
   "execution_count": 33,
   "metadata": {
    "ExecuteTime": {
     "end_time": "2018-09-23T12:03:01.061882Z",
     "start_time": "2018-09-23T12:02:59.710207Z"
    },
    "_uuid": "830a7fa59c3cecd8f2085e9e3374d67a74aa6dd0"
   },
   "outputs": [
    {
     "data": {
      "text/plain": [
       "<matplotlib.axes._subplots.AxesSubplot at 0x7f7711dda978>"
      ]
     },
     "execution_count": 33,
     "metadata": {},
     "output_type": "execute_result"
    },
    {
     "data": {
      "image/png": "[encoded data removed]",
      "text/plain": [
       "<Figure size 432x288 with 2 Axes>"
      ]
     },
     "metadata": {
      "needs_background": "light"
     },
     "output_type": "display_data"
    }
   ],
   "source": [
    "from sklearn.metrics import confusion_matrix\n",
    "cm = confusion_matrix(Y_test, pred)\n",
    "sns.heatmap(cm, annot=True, fmt='d')"
   ]
  },
  {
   "cell_type": "code",
   "execution_count": 34,
   "metadata": {
    "ExecuteTime": {
     "end_time": "2018-09-23T12:03:02.252611Z",
     "start_time": "2018-09-23T12:03:01.063499Z"
    }
   },
   "outputs": [
    {
     "data": {
      "image/png": "[encoded data removed]",
      "text/plain": [
       "<Figure size 432x288 with 1 Axes>"
      ]
     },
     "metadata": {
      "needs_background": "light"
     },
     "output_type": "display_data"
    }
   ],
   "source": [
    "te = {}\n",
    "indices = np.array(list(map(abs, classifier.feature_importances_))).argsort()[1970:2000]\n",
    "indices = indices.tolist()\n",
    "for ind_ in indices:\n",
    "    for word in bow_model.vocabulary_:\n",
    "        if bow_model.vocabulary_[word] == ind_:\n",
    "            te[word] = classifier.feature_importances_[ind_]\n",
    "    \n",
    "wordcloud = WordCloud(width = 1200, height = 1200, \n",
    "                background_color ='white', \n",
    "                min_font_size = 20).generate_from_frequencies(te)\n",
    "plt.imshow(wordcloud)\n",
    "plt.show()"
   ]
  },
  {
   "cell_type": "code",
   "execution_count": 35,
   "metadata": {
    "ExecuteTime": {
     "end_time": "2018-09-23T12:03:03.114744Z",
     "start_time": "2018-09-23T12:03:02.256058Z"
    }
   },
   "outputs": [],
   "source": [
    "export_graphviz(classifier, out_file='tree3.dot', max_depth=30)"
   ]
  },
  {
   "cell_type": "markdown",
   "metadata": {},
   "source": [
    "### Random Search\n",
    "\n",
    "* Searching randomly for best depth."
   ]
  },
  {
   "cell_type": "code",
   "execution_count": 36,
   "metadata": {
    "ExecuteTime": {
     "end_time": "2018-09-23T12:03:03.835082Z",
     "start_time": "2018-09-23T12:03:03.116536Z"
    }
   },
   "outputs": [],
   "source": [
    "# searching for best hyperparameter\n",
    "parameters = {'max_depth':[i for i in range(1, 31)]}\n",
    "classifier_ = DecisionTreeClassifier(class_weight='balanced')\n",
    "\n",
    "search_hyp = RandomizedSearchCV(classifier_, parameters, cv=5, n_jobs=3)"
   ]
  },
  {
   "cell_type": "code",
   "execution_count": 37,
   "metadata": {
    "ExecuteTime": {
     "end_time": "2018-09-23T12:04:33.075893Z",
     "start_time": "2018-09-23T12:03:03.838426Z"
    }
   },
   "outputs": [
    {
     "data": {
      "text/plain": [
       "{'max_depth': 26}"
      ]
     },
     "execution_count": 37,
     "metadata": {},
     "output_type": "execute_result"
    }
   ],
   "source": [
    "search_hyp.fit(tfidf_train, Y_train)\n",
    "search_hyp.best_params_"
   ]
  },
  {
   "cell_type": "code",
   "execution_count": 38,
   "metadata": {
    "ExecuteTime": {
     "end_time": "2018-09-23T12:04:33.200896Z",
     "start_time": "2018-09-23T12:04:33.077751Z"
    }
   },
   "outputs": [
    {
     "data": {
      "image/png": "[encoded data removed]",
      "text/plain": [
       "<Figure size 432x288 with 1 Axes>"
      ]
     },
     "metadata": {
      "needs_background": "light"
     },
     "output_type": "display_data"
    }
   ],
   "source": [
    "te = []\n",
    "for i in range(10):\n",
    "    te.append(search_hyp.cv_results_['params'][i]['max_depth'])\n",
    "indices = np.argsort(te).tolist()\n",
    "test_errors = [(1-i)*100 for i in search_hyp.cv_results_['mean_test_score']]\n",
    "\n",
    "temp1 = []\n",
    "temp2 = []\n",
    "for ind in indices:\n",
    "    temp1.append(te[ind])\n",
    "    temp2.append(test_errors[ind])\n",
    "    \n",
    "plt.plot(temp1, temp2)\n",
    "plt.title('Error Plot')\n",
    "plt.xlabel(\"Depth\")\n",
    "plt.ylabel(\"Error\")\n",
    "plt.show()"
   ]
  },
  {
   "cell_type": "markdown",
   "metadata": {},
   "source": [
    "Optimal depth is 26."
   ]
  },
  {
   "cell_type": "code",
   "execution_count": 39,
   "metadata": {
    "ExecuteTime": {
     "end_time": "2018-09-23T12:04:42.649858Z",
     "start_time": "2018-09-23T12:04:33.202529Z"
    }
   },
   "outputs": [
    {
     "data": {
      "text/plain": [
       "DecisionTreeClassifier(class_weight='balanced', criterion='gini',\n",
       "            max_depth=26, max_features=None, max_leaf_nodes=None,\n",
       "            min_impurity_decrease=0.0, min_impurity_split=None,\n",
       "            min_samples_leaf=1, min_samples_split=2,\n",
       "            min_weight_fraction_leaf=0.0, presort=False, random_state=None,\n",
       "            splitter='best')"
      ]
     },
     "execution_count": 39,
     "metadata": {},
     "output_type": "execute_result"
    }
   ],
   "source": [
    "# training final model\n",
    "classifier = DecisionTreeClassifier(class_weight='balanced',\n",
    "                                    max_depth=search_hyp.best_params_['max_depth'])\n",
    "classifier.fit(tfidf_train, Y_train)"
   ]
  },
  {
   "cell_type": "code",
   "execution_count": 40,
   "metadata": {
    "ExecuteTime": {
     "end_time": "2018-09-23T12:04:42.692534Z",
     "start_time": "2018-09-23T12:04:42.651611Z"
    }
   },
   "outputs": [],
   "source": [
    "pred = classifier.predict(tfidf_test)\n",
    "\n",
    "tr_score = classifier.score(tfidf_train, Y_train)\n",
    "accuracy = metrics.accuracy_score(Y_test, pred)\n",
    "pre = metrics.precision_score(Y_test, pred)\n",
    "rec = metrics.recall_score(Y_test, pred)\n",
    "f1 = metrics.f1_score(Y_test, pred)"
   ]
  },
  {
   "cell_type": "code",
   "execution_count": 41,
   "metadata": {
    "ExecuteTime": {
     "end_time": "2018-09-23T12:04:42.818656Z",
     "start_time": "2018-09-23T12:04:42.694245Z"
    }
   },
   "outputs": [],
   "source": [
    "performence.append(['tf-idf', 'Random Search', search_hyp.best_params_['max_depth'], \n",
    "                   tr_score, accuracy, pre, rec, f1])"
   ]
  },
  {
   "cell_type": "code",
   "execution_count": 42,
   "metadata": {
    "ExecuteTime": {
     "end_time": "2018-09-23T12:04:43.051790Z",
     "start_time": "2018-09-23T12:04:42.821776Z"
    }
   },
   "outputs": [
    {
     "data": {
      "text/plain": [
       "<matplotlib.axes._subplots.AxesSubplot at 0x7f7711c210f0>"
      ]
     },
     "execution_count": 42,
     "metadata": {},
     "output_type": "execute_result"
    },
    {
     "data": {
      "image/png": "[encoded data removed]",
      "text/plain": [
       "<Figure size 432x288 with 2 Axes>"
      ]
     },
     "metadata": {
      "needs_background": "light"
     },
     "output_type": "display_data"
    }
   ],
   "source": [
    "from sklearn.metrics import confusion_matrix\n",
    "cm = confusion_matrix(Y_test, pred)\n",
    "sns.heatmap(cm, annot=True, fmt='d')"
   ]
  },
  {
   "cell_type": "code",
   "execution_count": 43,
   "metadata": {
    "ExecuteTime": {
     "end_time": "2018-09-23T12:04:43.664071Z",
     "start_time": "2018-09-23T12:04:43.053405Z"
    }
   },
   "outputs": [
    {
     "data": {
      "image/png": "[encoded data removed]",
      "text/plain": [
       "<Figure size 432x288 with 1 Axes>"
      ]
     },
     "metadata": {
      "needs_background": "light"
     },
     "output_type": "display_data"
    }
   ],
   "source": [
    "te = {}\n",
    "indices = np.array(list(map(abs, classifier.feature_importances_))).argsort()[1970:2000]\n",
    "indices = indices.tolist()\n",
    "for ind_ in indices:\n",
    "    for word in bow_model.vocabulary_:\n",
    "        if bow_model.vocabulary_[word] == ind_:\n",
    "            te[word] = classifier.feature_importances_[ind_]\n",
    "    \n",
    "wordcloud = WordCloud(width = 1200, height = 1200, \n",
    "                background_color ='white', \n",
    "                min_font_size = 20).generate_from_frequencies(te)\n",
    "plt.imshow(wordcloud)\n",
    "plt.show()"
   ]
  },
  {
   "cell_type": "code",
   "execution_count": 44,
   "metadata": {
    "ExecuteTime": {
     "end_time": "2018-09-23T12:04:43.907850Z",
     "start_time": "2018-09-23T12:04:43.665564Z"
    }
   },
   "outputs": [],
   "source": [
    "export_graphviz(classifier, out_file='tree3.dot', max_depth=30)"
   ]
  },
  {
   "cell_type": "markdown",
   "metadata": {
    "_uuid": "7f97fbaa3ea1d48c163e38a6da90f927fab1a0fb"
   },
   "source": [
    "# Word2vec\n",
    "\n",
    "* Trained own word2vec using gensim module. Considered words which has frequency more than 5 in whole data.\n",
    "* Trained word2vec using Word2vec function from gensim.models.\n",
    "* Trained for vector of size 150. And converted each word into a vector of size 150.\n",
    "* Added all vectors of a sentence and divided with total number of vectors in sentence. So that we can get average word2vec value for each sentence."
   ]
  },
  {
   "cell_type": "code",
   "execution_count": 45,
   "metadata": {
    "ExecuteTime": {
     "end_time": "2018-09-23T12:22:23.076148Z",
     "start_time": "2018-09-23T12:21:50.010714Z"
    },
    "_uuid": "4013b0bb1f20f2a86373f8c1c13ea6f204b34992",
    "scrolled": true
   },
   "outputs": [],
   "source": [
    "import warnings\n",
    "warnings.filterwarnings(\"ignore\")\n",
    "\n",
    "# training word2vec on training data\n",
    "from gensim.models import Word2Vec\n",
    "sentences = []\n",
    "for row in X_train:\n",
    "    sentences.append([word for word in row.split()])\n",
    "\n",
    "w2v = Word2Vec(sentences, min_count=5, size=150, workers=3)\n",
    "avgw2v_train = []\n",
    "for row in sentences:\n",
    "    te = [0 for i in range(150)]\n",
    "    num = 0\n",
    "    for word in row:\n",
    "        try:\n",
    "            te += w2v[word]\n",
    "            num += 1\n",
    "        except:\n",
    "            pass\n",
    "    avgw2v_train.append(te/num)"
   ]
  },
  {
   "cell_type": "code",
   "execution_count": 46,
   "metadata": {
    "ExecuteTime": {
     "end_time": "2018-09-23T12:22:31.967822Z",
     "start_time": "2018-09-23T12:22:23.077851Z"
    },
    "_uuid": "ae68d5719bc519c742d3e8c03862332d611ff11a"
   },
   "outputs": [],
   "source": [
    "# converting test data\n",
    "\n",
    "sentences = []\n",
    "for row in X_test:\n",
    "    sentences.append([word for word in row.split()])\n",
    "\n",
    "avgw2v_test = []\n",
    "for row in sentences:\n",
    "    te = [0 for i in range(150)]\n",
    "    num = 0\n",
    "    for word in row:\n",
    "        try:\n",
    "            te += w2v[word]\n",
    "            num += 1\n",
    "        except:\n",
    "            pass\n",
    "    avgw2v_test.append(te/num)"
   ]
  },
  {
   "cell_type": "markdown",
   "metadata": {
    "_uuid": "04e8e63899ccdfdd72d1dc4dccc1e275d0bbe5f3"
   },
   "source": [
    "## Decision Tree \n",
    "\n",
    "* Training Decision Tree using DecisionTreeClassifier from sklearn.tree module.\n",
    "* Trained on Average word2vec data."
   ]
  },
  {
   "cell_type": "markdown",
   "metadata": {},
   "source": [
    "### Grid Search\n",
    "\n",
    "* Technique for searching for optimal depth."
   ]
  },
  {
   "cell_type": "code",
   "execution_count": 47,
   "metadata": {
    "ExecuteTime": {
     "end_time": "2018-09-23T12:22:31.972537Z",
     "start_time": "2018-09-23T12:22:31.969345Z"
    },
    "_uuid": "cc09f4023dd015c4eca466fc2ab9a57621f9e7a6"
   },
   "outputs": [],
   "source": [
    "# searching for best hyperparameter\n",
    "\n",
    "parameters = {'max_depth':[i for i in range(1, 152, 25)]}\n",
    "classifier_ = DecisionTreeClassifier(class_weight='balanced')\n",
    "\n",
    "search_hyp = GridSearchCV(classifier_, parameters, cv=5, n_jobs=3)"
   ]
  },
  {
   "cell_type": "code",
   "execution_count": 48,
   "metadata": {
    "ExecuteTime": {
     "end_time": "2018-09-23T12:25:08.604944Z",
     "start_time": "2018-09-23T12:22:31.974110Z"
    },
    "_uuid": "92109ed7abff5bf6cd8e7b609e6cbf99541ed29e",
    "scrolled": false
   },
   "outputs": [
    {
     "data": {
      "text/plain": [
       "{'max_depth': 126}"
      ]
     },
     "execution_count": 48,
     "metadata": {},
     "output_type": "execute_result"
    }
   ],
   "source": [
    "search_hyp.fit(avgw2v_train, Y_train)\n",
    "search_hyp.best_params_"
   ]
  },
  {
   "cell_type": "code",
   "execution_count": 49,
   "metadata": {
    "ExecuteTime": {
     "end_time": "2018-09-23T12:25:08.725536Z",
     "start_time": "2018-09-23T12:25:08.606879Z"
    }
   },
   "outputs": [
    {
     "data": {
      "image/png": "[encoded data removed]",
      "text/plain": [
       "<Figure size 432x288 with 1 Axes>"
      ]
     },
     "metadata": {
      "needs_background": "light"
     },
     "output_type": "display_data"
    }
   ],
   "source": [
    "test_errors = [(1-i)*100 for i in search_hyp.cv_results_['mean_test_score']]\n",
    "\n",
    "plt.plot(parameters['max_depth'], test_errors)\n",
    "plt.title('Error plot')\n",
    "plt.xlabel('Depth')\n",
    "plt.ylabel('Error') \n",
    "plt.show()"
   ]
  },
  {
   "cell_type": "markdown",
   "metadata": {},
   "source": [
    "Optimal depth is 126."
   ]
  },
  {
   "cell_type": "code",
   "execution_count": 50,
   "metadata": {
    "ExecuteTime": {
     "end_time": "2018-09-23T12:25:23.641413Z",
     "start_time": "2018-09-23T12:25:08.727107Z"
    },
    "_uuid": "3d3e27053e69e7a698a524aea95a53add48eb280"
   },
   "outputs": [
    {
     "data": {
      "text/plain": [
       "DecisionTreeClassifier(class_weight='balanced', criterion='gini',\n",
       "            max_depth=126, max_features=None, max_leaf_nodes=None,\n",
       "            min_impurity_decrease=0.0, min_impurity_split=None,\n",
       "            min_samples_leaf=1, min_samples_split=2,\n",
       "            min_weight_fraction_leaf=0.0, presort=False, random_state=None,\n",
       "            splitter='best')"
      ]
     },
     "execution_count": 50,
     "metadata": {},
     "output_type": "execute_result"
    }
   ],
   "source": [
    "# training final model\n",
    "classifier = DecisionTreeClassifier(class_weight='balanced',\n",
    "                                    max_depth=search_hyp.best_params_['max_depth'])\n",
    "classifier.fit(avgw2v_train, Y_train)"
   ]
  },
  {
   "cell_type": "code",
   "execution_count": 51,
   "metadata": {
    "ExecuteTime": {
     "end_time": "2018-09-23T12:25:23.753292Z",
     "start_time": "2018-09-23T12:25:23.643024Z"
    },
    "_uuid": "eaa2348f932a98fa9f8ad1b05d55b36dd8ef7c15"
   },
   "outputs": [],
   "source": [
    "# performence metrics\n",
    "\n",
    "from sklearn import metrics\n",
    "pred = classifier.predict(avgw2v_test)\n",
    "\n",
    "tr_score = classifier.score(avgw2v_train, Y_train)\n",
    "accuracy = metrics.accuracy_score(Y_test, pred)\n",
    "pre = metrics.precision_score(Y_test, pred)\n",
    "rec = metrics.recall_score(Y_test, pred)\n",
    "f1 = metrics.f1_score(Y_test, pred)"
   ]
  },
  {
   "cell_type": "code",
   "execution_count": 52,
   "metadata": {
    "ExecuteTime": {
     "end_time": "2018-09-23T12:25:25.009328Z",
     "start_time": "2018-09-23T12:25:23.755030Z"
    }
   },
   "outputs": [],
   "source": [
    "performence.append(['Avg word2vec', 'Grid Search', search_hyp.best_params_['max_depth'], \n",
    "                   tr_score, accuracy, pre, rec, f1])"
   ]
  },
  {
   "cell_type": "code",
   "execution_count": 53,
   "metadata": {
    "ExecuteTime": {
     "end_time": "2018-09-23T12:25:25.790241Z",
     "start_time": "2018-09-23T12:25:25.012382Z"
    },
    "_uuid": "830a7fa59c3cecd8f2085e9e3374d67a74aa6dd0"
   },
   "outputs": [
    {
     "data": {
      "text/plain": [
       "<matplotlib.axes._subplots.AxesSubplot at 0x7f76fdaa7550>"
      ]
     },
     "execution_count": 53,
     "metadata": {},
     "output_type": "execute_result"
    },
    {
     "data": {
      "image/png": "[encoded data removed]",
      "text/plain": [
       "<Figure size 432x288 with 2 Axes>"
      ]
     },
     "metadata": {
      "needs_background": "light"
     },
     "output_type": "display_data"
    }
   ],
   "source": [
    "from sklearn.metrics import confusion_matrix\n",
    "cm = confusion_matrix(Y_test, pred)\n",
    "sns.heatmap(cm, annot=True, fmt='d')"
   ]
  },
  {
   "cell_type": "markdown",
   "metadata": {},
   "source": [
    "### Random Search\n",
    "\n",
    "* Searching randomly for best depth."
   ]
  },
  {
   "cell_type": "code",
   "execution_count": 54,
   "metadata": {
    "ExecuteTime": {
     "end_time": "2018-09-23T12:25:26.612047Z",
     "start_time": "2018-09-23T12:25:25.800782Z"
    }
   },
   "outputs": [],
   "source": [
    "# searching for best hyperparameter\n",
    "parameters = {'max_depth':[i for i in range(1, 152, 5)]}\n",
    "classifier_ = DecisionTreeClassifier(class_weight='balanced')\n",
    "\n",
    "search_hyp = RandomizedSearchCV(classifier_, parameters, cv=5, n_jobs=3)"
   ]
  },
  {
   "cell_type": "code",
   "execution_count": 55,
   "metadata": {
    "ExecuteTime": {
     "end_time": "2018-09-23T12:29:27.778667Z",
     "start_time": "2018-09-23T12:25:26.615707Z"
    }
   },
   "outputs": [
    {
     "data": {
      "text/plain": [
       "{'max_depth': 111}"
      ]
     },
     "execution_count": 55,
     "metadata": {},
     "output_type": "execute_result"
    }
   ],
   "source": [
    "search_hyp.fit(avgw2v_train, Y_train)\n",
    "search_hyp.best_params_"
   ]
  },
  {
   "cell_type": "code",
   "execution_count": 56,
   "metadata": {
    "ExecuteTime": {
     "end_time": "2018-09-23T12:29:27.900560Z",
     "start_time": "2018-09-23T12:29:27.781946Z"
    }
   },
   "outputs": [
    {
     "data": {
      "image/png": "[encoded data removed]",
      "text/plain": [
       "<Figure size 432x288 with 1 Axes>"
      ]
     },
     "metadata": {
      "needs_background": "light"
     },
     "output_type": "display_data"
    }
   ],
   "source": [
    "te = []\n",
    "for i in range(10):\n",
    "    te.append(search_hyp.cv_results_['params'][i]['max_depth'])\n",
    "indices = np.argsort(te).tolist()\n",
    "test_errors = [(1-i)*100 for i in search_hyp.cv_results_['mean_test_score']]\n",
    "\n",
    "temp1 = []\n",
    "temp2 = []\n",
    "for ind in indices:\n",
    "    temp1.append(te[ind])\n",
    "    temp2.append(test_errors[ind])\n",
    "    \n",
    "plt.plot(temp1, temp2)\n",
    "plt.title('Error Plot')\n",
    "plt.xlabel(\"Depth\")\n",
    "plt.ylabel(\"Error\")\n",
    "plt.show()"
   ]
  },
  {
   "cell_type": "markdown",
   "metadata": {},
   "source": [
    "Optimal depth is 111."
   ]
  },
  {
   "cell_type": "code",
   "execution_count": 57,
   "metadata": {
    "ExecuteTime": {
     "end_time": "2018-09-23T12:29:43.713381Z",
     "start_time": "2018-09-23T12:29:27.902271Z"
    }
   },
   "outputs": [
    {
     "data": {
      "text/plain": [
       "DecisionTreeClassifier(class_weight='balanced', criterion='gini',\n",
       "            max_depth=111, max_features=None, max_leaf_nodes=None,\n",
       "            min_impurity_decrease=0.0, min_impurity_split=None,\n",
       "            min_samples_leaf=1, min_samples_split=2,\n",
       "            min_weight_fraction_leaf=0.0, presort=False, random_state=None,\n",
       "            splitter='best')"
      ]
     },
     "execution_count": 57,
     "metadata": {},
     "output_type": "execute_result"
    }
   ],
   "source": [
    "# training final model\n",
    "classifier = DecisionTreeClassifier(class_weight='balanced',\n",
    "                                    max_depth=search_hyp.best_params_['max_depth'])\n",
    "classifier.fit(avgw2v_train, Y_train)"
   ]
  },
  {
   "cell_type": "code",
   "execution_count": 58,
   "metadata": {
    "ExecuteTime": {
     "end_time": "2018-09-23T12:29:43.823504Z",
     "start_time": "2018-09-23T12:29:43.715088Z"
    }
   },
   "outputs": [],
   "source": [
    "pred = classifier.predict(avgw2v_test)\n",
    "\n",
    "tr_score = classifier.score(avgw2v_train, Y_train)\n",
    "accuracy = metrics.accuracy_score(Y_test, pred)\n",
    "pre = metrics.precision_score(Y_test, pred)\n",
    "rec = metrics.recall_score(Y_test, pred)\n",
    "f1 = metrics.f1_score(Y_test, pred)"
   ]
  },
  {
   "cell_type": "code",
   "execution_count": 59,
   "metadata": {
    "ExecuteTime": {
     "end_time": "2018-09-23T12:29:43.922590Z",
     "start_time": "2018-09-23T12:29:43.824919Z"
    }
   },
   "outputs": [],
   "source": [
    "performence.append(['Avg word2vec', 'Random Search', search_hyp.best_params_['max_depth'], \n",
    "                   tr_score, accuracy, pre, rec, f1])"
   ]
  },
  {
   "cell_type": "code",
   "execution_count": 60,
   "metadata": {
    "ExecuteTime": {
     "end_time": "2018-09-23T12:29:44.155421Z",
     "start_time": "2018-09-23T12:29:43.925733Z"
    }
   },
   "outputs": [
    {
     "data": {
      "text/plain": [
       "<matplotlib.axes._subplots.AxesSubplot at 0x7f76fdc347b8>"
      ]
     },
     "execution_count": 60,
     "metadata": {},
     "output_type": "execute_result"
    },
    {
     "data": {
      "image/png": "[encoded data removed]",
      "text/plain": [
       "<Figure size 432x288 with 2 Axes>"
      ]
     },
     "metadata": {
      "needs_background": "light"
     },
     "output_type": "display_data"
    }
   ],
   "source": [
    "from sklearn.metrics import confusion_matrix\n",
    "cm = confusion_matrix(Y_test, pred)\n",
    "sns.heatmap(cm, annot=True, fmt='d')"
   ]
  },
  {
   "cell_type": "markdown",
   "metadata": {
    "_uuid": "bdde56c65062f270487ef85358cb5907b04a9c29"
   },
   "source": [
    "# Tf-IDF word2vec\n",
    "\n",
    "* Using pre-trained tf-idf vectors and word2vec of size 150.\n",
    "* Multiplying each word's word2vec vector and tf-idf value of that word in respected sentence.\n",
    "* Executing above step for each word in a sentence and took sum of values of all words in a sentence.\n",
    "* And this sum is divided by sum of tf-idf values of all words in sentences. Finally gives tf-idf word2vec values of size 150 for each sentence."
   ]
  },
  {
   "cell_type": "code",
   "execution_count": 61,
   "metadata": {
    "ExecuteTime": {
     "end_time": "2018-09-23T12:29:44.944465Z",
     "start_time": "2018-09-23T12:29:44.156917Z"
    }
   },
   "outputs": [],
   "source": [
    "tfidf_train = tfidf_train.toarray()\n",
    "tfidf_test = tfidf_test.toarray()"
   ]
  },
  {
   "cell_type": "code",
   "execution_count": 63,
   "metadata": {
    "ExecuteTime": {
     "end_time": "2018-09-23T12:53:13.993526Z",
     "start_time": "2018-09-23T12:52:12.929412Z"
    },
    "_uuid": "646b3850d84e9cd1566b19b733b9ea00ee0100ff",
    "scrolled": true
   },
   "outputs": [],
   "source": [
    "sentences = []\n",
    "for row in X_train:\n",
    "    sentences.append([word for word in row.split()])\n",
    "\n",
    "tfidfw2v_train = []\n",
    "i = 0\n",
    "for row in sentences:\n",
    "    te = [0 for i in range(150)]\n",
    "    \n",
    "    temp_tfidf = []\n",
    "    for val in tfidf_train[i]:\n",
    "        if val != 0:\n",
    "            temp_tfidf.append(val)\n",
    "    \n",
    "    num = 0\n",
    "    tf_idf_sum = 0\n",
    "    for word in row:\n",
    "        try:\n",
    "            num += 1\n",
    "            tf_idf_sum = tf_idf_sum + temp_tfidf[num-1]\n",
    "            te += (temp_tfidf[num-1] * w2v[word])\n",
    "        except:\n",
    "            pass\n",
    "    try: # avoiding divide by zero\n",
    "        te = (float)(1/tf_idf_sum) * te\n",
    "    except:\n",
    "        pass\n",
    "    tfidfw2v_train.append(te)\n",
    "    i = i + 1"
   ]
  },
  {
   "cell_type": "code",
   "execution_count": 64,
   "metadata": {
    "ExecuteTime": {
     "end_time": "2018-09-23T12:53:37.188230Z",
     "start_time": "2018-09-23T12:53:13.995225Z"
    },
    "_uuid": "f553a80ab6c91bab812549e3b692ec1b104b3e1a",
    "scrolled": true
   },
   "outputs": [],
   "source": [
    "sentences = []\n",
    "for row in X_test:\n",
    "    sentences.append([word for word in row.split()])\n",
    "\n",
    "tfidfw2v_test = []\n",
    "i = 0\n",
    "for row in sentences:\n",
    "    te = [0 for i in range(150)]\n",
    "    \n",
    "    temp_tfidf = []\n",
    "    for val in tfidf_test[i]:\n",
    "        if val != 0:\n",
    "            temp_tfidf.append(val)\n",
    "    \n",
    "    num = 0\n",
    "    tf_idf_sum = 0\n",
    "    for word in row:\n",
    "        try:\n",
    "            num += 1\n",
    "            tf_idf_sum = tf_idf_sum + temp_tfidf[num-1]\n",
    "            te += (temp_tfidf[num-1] * w2v[word])\n",
    "        except:\n",
    "            pass\n",
    "    try: # avoiding divide by zero\n",
    "        te = (float)(1/tf_idf_sum) * te\n",
    "    except:\n",
    "        pass\n",
    "    tfidfw2v_test.append(te)\n",
    "    i = i + 1"
   ]
  },
  {
   "cell_type": "markdown",
   "metadata": {
    "_uuid": "04e8e63899ccdfdd72d1dc4dccc1e275d0bbe5f3"
   },
   "source": [
    "## Decision Tree \n",
    "\n",
    "* Training Decision Tree using DecisionTreeClassifier from sklearn.tree module.\n",
    "* Trained on tf-idf word2vec data."
   ]
  },
  {
   "cell_type": "markdown",
   "metadata": {},
   "source": [
    "### Grid Search\n",
    "\n",
    "* Technique for searching for optimal depth."
   ]
  },
  {
   "cell_type": "code",
   "execution_count": 65,
   "metadata": {
    "ExecuteTime": {
     "end_time": "2018-09-23T12:54:26.535941Z",
     "start_time": "2018-09-23T12:54:26.532841Z"
    },
    "_uuid": "cc09f4023dd015c4eca466fc2ab9a57621f9e7a6"
   },
   "outputs": [],
   "source": [
    "class_weight='balanced'# searching for best hyperparameter\n",
    "\n",
    "parameters = {'max_depth':[i for i in range(1, 152, 25)]}\n",
    "classifier_ = DecisionTreeClassifier(class_weight='balanced')\n",
    "\n",
    "search_hyp = GridSearchCV(classifier_, parameters, cv=5, n_jobs=3)"
   ]
  },
  {
   "cell_type": "code",
   "execution_count": 66,
   "metadata": {
    "ExecuteTime": {
     "end_time": "2018-09-23T12:57:08.151614Z",
     "start_time": "2018-09-23T12:54:27.382468Z"
    },
    "_uuid": "92109ed7abff5bf6cd8e7b609e6cbf99541ed29e",
    "scrolled": false
   },
   "outputs": [
    {
     "data": {
      "text/plain": [
       "{'max_depth': 51}"
      ]
     },
     "execution_count": 66,
     "metadata": {},
     "output_type": "execute_result"
    }
   ],
   "source": [
    "search_hyp.fit(tfidfw2v_train, Y_train)\n",
    "search_hyp.best_params_"
   ]
  },
  {
   "cell_type": "code",
   "execution_count": 67,
   "metadata": {
    "ExecuteTime": {
     "end_time": "2018-09-23T12:57:08.287288Z",
     "start_time": "2018-09-23T12:57:08.154031Z"
    }
   },
   "outputs": [
    {
     "data": {
      "image/png": "[encoded data removed]",
      "text/plain": [
       "<Figure size 432x288 with 1 Axes>"
      ]
     },
     "metadata": {
      "needs_background": "light"
     },
     "output_type": "display_data"
    }
   ],
   "source": [
    "test_errors = [(1-i)*100 for i in search_hyp.cv_results_['mean_test_score']]\n",
    "\n",
    "plt.plot(parameters['max_depth'], test_errors)\n",
    "plt.title('Error plot')\n",
    "plt.xlabel('Depth')\n",
    "plt.ylabel('Error')\n",
    "plt.show()"
   ]
  },
  {
   "cell_type": "markdown",
   "metadata": {},
   "source": [
    "Optimal depth is 51."
   ]
  },
  {
   "cell_type": "code",
   "execution_count": 68,
   "metadata": {
    "ExecuteTime": {
     "end_time": "2018-09-23T12:57:25.194546Z",
     "start_time": "2018-09-23T12:57:08.292496Z"
    },
    "_uuid": "3d3e27053e69e7a698a524aea95a53add48eb280"
   },
   "outputs": [
    {
     "data": {
      "text/plain": [
       "DecisionTreeClassifier(class_weight='balanced', criterion='gini',\n",
       "            max_depth=51, max_features=None, max_leaf_nodes=None,\n",
       "            min_impurity_decrease=0.0, min_impurity_split=None,\n",
       "            min_samples_leaf=1, min_samples_split=2,\n",
       "            min_weight_fraction_leaf=0.0, presort=False, random_state=None,\n",
       "            splitter='best')"
      ]
     },
     "execution_count": 68,
     "metadata": {},
     "output_type": "execute_result"
    }
   ],
   "source": [
    "# training final model\n",
    "classifier = DecisionTreeClassifier(class_weight='balanced',\n",
    "                                    max_depth=search_hyp.best_params_['max_depth'])\n",
    "classifier.fit(tfidfw2v_train, Y_train)"
   ]
  },
  {
   "cell_type": "code",
   "execution_count": 69,
   "metadata": {
    "ExecuteTime": {
     "end_time": "2018-09-23T12:57:25.312213Z",
     "start_time": "2018-09-23T12:57:25.196580Z"
    },
    "_uuid": "eaa2348f932a98fa9f8ad1b05d55b36dd8ef7c15"
   },
   "outputs": [],
   "source": [
    "# performence metrics\n",
    "\n",
    "from sklearn import metrics\n",
    "pred = classifier.predict(tfidfw2v_test)\n",
    "\n",
    "tr_score = classifier.score(tfidfw2v_train, Y_train)\n",
    "accuracy = metrics.accuracy_score(Y_test, pred)\n",
    "pre = metrics.precision_score(Y_test, pred)\n",
    "rec = metrics.recall_score(Y_test, pred)\n",
    "f1 = metrics.f1_score(Y_test, pred)"
   ]
  },
  {
   "cell_type": "code",
   "execution_count": 70,
   "metadata": {
    "ExecuteTime": {
     "end_time": "2018-09-23T12:57:25.409212Z",
     "start_time": "2018-09-23T12:57:25.313675Z"
    }
   },
   "outputs": [],
   "source": [
    "performence.append(['tf-idf word2vec', 'Grid Search', search_hyp.best_params_['max_depth'], \n",
    "                   tr_score, accuracy, pre, rec, f1])"
   ]
  },
  {
   "cell_type": "code",
   "execution_count": 71,
   "metadata": {
    "ExecuteTime": {
     "end_time": "2018-09-23T12:57:26.339936Z",
     "start_time": "2018-09-23T12:57:25.412504Z"
    },
    "_uuid": "830a7fa59c3cecd8f2085e9e3374d67a74aa6dd0"
   },
   "outputs": [
    {
     "data": {
      "text/plain": [
       "<matplotlib.axes._subplots.AxesSubplot at 0x7f76ee66d080>"
      ]
     },
     "execution_count": 71,
     "metadata": {},
     "output_type": "execute_result"
    },
    {
     "data": {
      "image/png": "[encoded data removed]",
      "text/plain": [
       "<Figure size 432x288 with 2 Axes>"
      ]
     },
     "metadata": {
      "needs_background": "light"
     },
     "output_type": "display_data"
    }
   ],
   "source": [
    "from sklearn.metrics import confusion_matrix\n",
    "cm = confusion_matrix(Y_test, pred)\n",
    "sns.heatmap(cm, annot=True, fmt='d')"
   ]
  },
  {
   "cell_type": "code",
   "execution_count": 72,
   "metadata": {
    "ExecuteTime": {
     "end_time": "2018-09-23T12:57:26.928332Z",
     "start_time": "2018-09-23T12:57:26.341457Z"
    }
   },
   "outputs": [],
   "source": [
    "export_graphviz(classifier, out_file='tree4.dot', max_depth=30)"
   ]
  },
  {
   "cell_type": "markdown",
   "metadata": {},
   "source": [
    "### Random Search\n",
    "\n",
    "* Searching randomly for best depth."
   ]
  },
  {
   "cell_type": "code",
   "execution_count": 73,
   "metadata": {
    "ExecuteTime": {
     "end_time": "2018-09-23T12:57:26.933268Z",
     "start_time": "2018-09-23T12:57:26.930026Z"
    }
   },
   "outputs": [],
   "source": [
    "# searching for best hyperparameter\n",
    "parameters = {'max_depth':[i for i in range(1, 152, 5)]}\n",
    "classifier_ = DecisionTreeClassifier(class_weight='balanced')\n",
    "\n",
    "search_hyp = RandomizedSearchCV(classifier_, parameters, cv=5, n_jobs=3)"
   ]
  },
  {
   "cell_type": "code",
   "execution_count": 74,
   "metadata": {
    "ExecuteTime": {
     "end_time": "2018-09-23T13:01:53.872332Z",
     "start_time": "2018-09-23T12:57:26.934880Z"
    }
   },
   "outputs": [
    {
     "data": {
      "text/plain": [
       "{'max_depth': 111}"
      ]
     },
     "execution_count": 74,
     "metadata": {},
     "output_type": "execute_result"
    }
   ],
   "source": [
    "search_hyp.fit(tfidfw2v_train, Y_train)\n",
    "search_hyp.best_params_"
   ]
  },
  {
   "cell_type": "code",
   "execution_count": 75,
   "metadata": {
    "ExecuteTime": {
     "end_time": "2018-09-23T13:01:54.009857Z",
     "start_time": "2018-09-23T13:01:53.875553Z"
    }
   },
   "outputs": [
    {
     "data": {
      "image/png": "[encoded data removed]",
      "text/plain": [
       "<Figure size 432x288 with 1 Axes>"
      ]
     },
     "metadata": {
      "needs_background": "light"
     },
     "output_type": "display_data"
    }
   ],
   "source": [
    "te = []\n",
    "for i in range(10):\n",
    "    te.append(search_hyp.cv_results_['params'][i]['max_depth'])\n",
    "indices = np.argsort(te).tolist()\n",
    "test_errors = [(1-i)*100 for i in search_hyp.cv_results_['mean_test_score']]\n",
    "\n",
    "temp1 = []\n",
    "temp2 = []\n",
    "for ind in indices:\n",
    "    temp1.append(te[ind])\n",
    "    temp2.append(test_errors[ind])\n",
    "    \n",
    "plt.plot(temp1, temp2)\n",
    "plt.title('Error Plot')\n",
    "plt.xlabel(\"Depth\")\n",
    "plt.ylabel(\"Error\")\n",
    "plt.show()"
   ]
  },
  {
   "cell_type": "markdown",
   "metadata": {},
   "source": [
    "Optimal depth is 111."
   ]
  },
  {
   "cell_type": "code",
   "execution_count": 76,
   "metadata": {
    "ExecuteTime": {
     "end_time": "2018-09-23T13:02:11.766223Z",
     "start_time": "2018-09-23T13:01:54.014120Z"
    }
   },
   "outputs": [
    {
     "data": {
      "text/plain": [
       "DecisionTreeClassifier(class_weight='balanced', criterion='gini',\n",
       "            max_depth=111, max_features=None, max_leaf_nodes=None,\n",
       "            min_impurity_decrease=0.0, min_impurity_split=None,\n",
       "            min_samples_leaf=1, min_samples_split=2,\n",
       "            min_weight_fraction_leaf=0.0, presort=False, random_state=None,\n",
       "            splitter='best')"
      ]
     },
     "execution_count": 76,
     "metadata": {},
     "output_type": "execute_result"
    }
   ],
   "source": [
    "# training final model\n",
    "classifier = DecisionTreeClassifier(class_weight='balanced',\n",
    "                                    max_depth=search_hyp.best_params_['max_depth'])\n",
    "classifier.fit(tfidfw2v_train, Y_train)"
   ]
  },
  {
   "cell_type": "code",
   "execution_count": 77,
   "metadata": {
    "ExecuteTime": {
     "end_time": "2018-09-23T13:02:11.893417Z",
     "start_time": "2018-09-23T13:02:11.767880Z"
    }
   },
   "outputs": [],
   "source": [
    "pred = classifier.predict(tfidfw2v_test)\n",
    "\n",
    "tr_score = classifier.score(tfidfw2v_train, Y_train)\n",
    "accuracy = metrics.accuracy_score(Y_test, pred)\n",
    "pre = metrics.precision_score(Y_test, pred)\n",
    "rec = metrics.recall_score(Y_test, pred)\n",
    "f1 = metrics.f1_score(Y_test, pred)"
   ]
  },
  {
   "cell_type": "code",
   "execution_count": 78,
   "metadata": {
    "ExecuteTime": {
     "end_time": "2018-09-23T13:02:12.621206Z",
     "start_time": "2018-09-23T13:02:11.895459Z"
    }
   },
   "outputs": [],
   "source": [
    "performence.append(['tf-idf word2vec', 'Random Search', search_hyp.best_params_['max_depth'], \n",
    "                   tr_score, accuracy, pre, rec, f1])"
   ]
  },
  {
   "cell_type": "code",
   "execution_count": 79,
   "metadata": {
    "ExecuteTime": {
     "end_time": "2018-09-23T13:02:13.536080Z",
     "start_time": "2018-09-23T13:02:12.623881Z"
    }
   },
   "outputs": [
    {
     "data": {
      "text/plain": [
       "<matplotlib.axes._subplots.AxesSubplot at 0x7f770b835358>"
      ]
     },
     "execution_count": 79,
     "metadata": {},
     "output_type": "execute_result"
    },
    {
     "data": {
      "image/png": "[encoded data removed]",
      "text/plain": [
       "<Figure size 432x288 with 2 Axes>"
      ]
     },
     "metadata": {
      "needs_background": "light"
     },
     "output_type": "display_data"
    }
   ],
   "source": [
    "from sklearn.metrics import confusion_matrix\n",
    "cm = confusion_matrix(Y_test, pred)\n",
    "sns.heatmap(cm, annot=True, fmt='d')"
   ]
  },
  {
   "cell_type": "code",
   "execution_count": 80,
   "metadata": {
    "ExecuteTime": {
     "end_time": "2018-09-23T13:02:14.165156Z",
     "start_time": "2018-09-23T13:02:13.542772Z"
    }
   },
   "outputs": [],
   "source": [
    "export_graphviz(classifier, out_file='tree5.dot', max_depth=30)"
   ]
  },
  {
   "cell_type": "markdown",
   "metadata": {
    "_uuid": "9bda945919b332b85f670cdddfc716e265d8c566"
   },
   "source": [
    "# Conclusion"
   ]
  },
  {
   "cell_type": "code",
   "execution_count": 81,
   "metadata": {
    "ExecuteTime": {
     "end_time": "2018-09-23T13:38:08.888308Z",
     "start_time": "2018-09-23T13:38:08.872596Z"
    }
   },
   "outputs": [
    {
     "data": {
      "text/html": [
       "<div>\n",
       "<style scoped>\n",
       "    .dataframe tbody tr th:only-of-type {\n",
       "        vertical-align: middle;\n",
       "    }\n",
       "\n",
       "    .dataframe tbody tr th {\n",
       "        vertical-align: top;\n",
       "    }\n",
       "\n",
       "    .dataframe thead th {\n",
       "        text-align: right;\n",
       "    }\n",
       "</style>\n",
       "<table border=\"1\" class=\"dataframe\">\n",
       "  <thead>\n",
       "    <tr style=\"text-align: right;\">\n",
       "      <th></th>\n",
       "      <th>Vectorizer</th>\n",
       "      <th>Search Algo</th>\n",
       "      <th>depth</th>\n",
       "      <th>Train accuracy</th>\n",
       "      <th>Test accuracy</th>\n",
       "      <th>Precision</th>\n",
       "      <th>Recall</th>\n",
       "      <th>f1-score</th>\n",
       "    </tr>\n",
       "  </thead>\n",
       "  <tbody>\n",
       "    <tr>\n",
       "      <th>0</th>\n",
       "      <td>Bag of Words</td>\n",
       "      <td>Grid Search</td>\n",
       "      <td>29</td>\n",
       "      <td>0.890471</td>\n",
       "      <td>0.800000</td>\n",
       "      <td>0.935071</td>\n",
       "      <td>0.829738</td>\n",
       "      <td>0.879261</td>\n",
       "    </tr>\n",
       "    <tr>\n",
       "      <th>1</th>\n",
       "      <td>Bag of Words</td>\n",
       "      <td>Random Search</td>\n",
       "      <td>30</td>\n",
       "      <td>0.894900</td>\n",
       "      <td>0.801400</td>\n",
       "      <td>0.934556</td>\n",
       "      <td>0.831979</td>\n",
       "      <td>0.880289</td>\n",
       "    </tr>\n",
       "    <tr>\n",
       "      <th>2</th>\n",
       "      <td>tf-idf</td>\n",
       "      <td>Grid Search</td>\n",
       "      <td>29</td>\n",
       "      <td>0.879243</td>\n",
       "      <td>0.781767</td>\n",
       "      <td>0.935078</td>\n",
       "      <td>0.807406</td>\n",
       "      <td>0.866565</td>\n",
       "    </tr>\n",
       "    <tr>\n",
       "      <th>3</th>\n",
       "      <td>tf-idf</td>\n",
       "      <td>Random Search</td>\n",
       "      <td>26</td>\n",
       "      <td>0.858229</td>\n",
       "      <td>0.766767</td>\n",
       "      <td>0.937339</td>\n",
       "      <td>0.786859</td>\n",
       "      <td>0.855532</td>\n",
       "    </tr>\n",
       "    <tr>\n",
       "      <th>4</th>\n",
       "      <td>Avg word2vec</td>\n",
       "      <td>Grid Search</td>\n",
       "      <td>126</td>\n",
       "      <td>0.999986</td>\n",
       "      <td>0.836100</td>\n",
       "      <td>0.906488</td>\n",
       "      <td>0.906798</td>\n",
       "      <td>0.906643</td>\n",
       "    </tr>\n",
       "    <tr>\n",
       "      <th>5</th>\n",
       "      <td>Avg word2vec</td>\n",
       "      <td>Random Search</td>\n",
       "      <td>111</td>\n",
       "      <td>0.999986</td>\n",
       "      <td>0.838700</td>\n",
       "      <td>0.906549</td>\n",
       "      <td>0.910027</td>\n",
       "      <td>0.908285</td>\n",
       "    </tr>\n",
       "    <tr>\n",
       "      <th>6</th>\n",
       "      <td>tf-idf word2vec</td>\n",
       "      <td>Grid Search</td>\n",
       "      <td>51</td>\n",
       "      <td>0.998914</td>\n",
       "      <td>0.829400</td>\n",
       "      <td>0.898932</td>\n",
       "      <td>0.907672</td>\n",
       "      <td>0.903281</td>\n",
       "    </tr>\n",
       "    <tr>\n",
       "      <th>7</th>\n",
       "      <td>tf-idf word2vec</td>\n",
       "      <td>Random Search</td>\n",
       "      <td>111</td>\n",
       "      <td>0.999986</td>\n",
       "      <td>0.829800</td>\n",
       "      <td>0.899127</td>\n",
       "      <td>0.907938</td>\n",
       "      <td>0.903511</td>\n",
       "    </tr>\n",
       "  </tbody>\n",
       "</table>\n",
       "</div>"
      ],
      "text/plain": [
       "        Vectorizer    Search Algo  depth  Train accuracy  Test accuracy  \\\n",
       "0     Bag of Words    Grid Search     29        0.890471       0.800000   \n",
       "1     Bag of Words  Random Search     30        0.894900       0.801400   \n",
       "2           tf-idf    Grid Search     29        0.879243       0.781767   \n",
       "3           tf-idf  Random Search     26        0.858229       0.766767   \n",
       "4     Avg word2vec    Grid Search    126        0.999986       0.836100   \n",
       "5     Avg word2vec  Random Search    111        0.999986       0.838700   \n",
       "6  tf-idf word2vec    Grid Search     51        0.998914       0.829400   \n",
       "7  tf-idf word2vec  Random Search    111        0.999986       0.829800   \n",
       "\n",
       "   Precision    Recall  f1-score  \n",
       "0   0.935071  0.829738  0.879261  \n",
       "1   0.934556  0.831979  0.880289  \n",
       "2   0.935078  0.807406  0.866565  \n",
       "3   0.937339  0.786859  0.855532  \n",
       "4   0.906488  0.906798  0.906643  \n",
       "5   0.906549  0.910027  0.908285  \n",
       "6   0.898932  0.907672  0.903281  \n",
       "7   0.899127  0.907938  0.903511  "
      ]
     },
     "execution_count": 81,
     "metadata": {},
     "output_type": "execute_result"
    }
   ],
   "source": [
    "pd.DataFrame(performence, columns=header)"
   ]
  },
  {
   "cell_type": "markdown",
   "metadata": {},
   "source": [
    "* Got good accuracy with Decision Trees of depth 126 & 111 and Average word2vec vectorizer.\n",
    "* Got better precision with Decision Trees of depth 29, 30, 26 and bag of words, tf-idf vectorizer."
   ]
  },
  {
   "cell_type": "code",
   "execution_count": null,
   "metadata": {},
   "outputs": [],
   "source": []
  }
 ],
 "metadata": {
  "kernelspec": {
   "display_name": "Python 3",
   "language": "python",
   "name": "python3"
  },
  "language_info": {
   "codemirror_mode": {
    "name": "ipython",
    "version": 3
   },
   "file_extension": ".py",
   "mimetype": "text/x-python",
   "name": "python",
   "nbconvert_exporter": "python",
   "pygments_lexer": "ipython3",
   "version": "3.5.2"
  }
 },
 "nbformat": 4,
 "nbformat_minor": 1
}
