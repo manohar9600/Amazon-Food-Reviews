{
 "cells": [
  {
   "cell_type": "markdown",
   "metadata": {},
   "source": [
    "# Amazon Fine Food Reviews Analysis\n",
    "\n",
    "\n",
    "Data Source: https://www.kaggle.com/snap/amazon-fine-food-reviews\n",
    "\n",
    "The Amazon Fine Food Reviews dataset consists of reviews of fine foods from Amazon.<br>\n",
    "\n",
    "Number of reviews: 568,454<br>\n",
    "Number of users: 256,059<br>\n",
    "Number of products: 74,258<br>\n",
    "Timespan: Oct 1999 - Oct 2012<br>\n",
    "Number of Attributes/Columns in data: 10 \n",
    "\n",
    "Attribute Information:\n",
    "\n",
    "1. Id\n",
    "2. ProductId - unique identifier for the product\n",
    "3. UserId - unqiue identifier for the user\n",
    "4. ProfileName\n",
    "5. HelpfulnessNumerator - number of users who found the review helpful\n",
    "6. HelpfulnessDenominator - number of users who indicated whether they found the review helpful or not\n",
    "7. Score - rating between 1 and 5\n",
    "8. Time - timestamp for the review\n",
    "9. Summary - brief summary of the review\n",
    "10. Text - text of the review\n",
    "\n",
    "\n",
    "#### Objective:\n",
    "Given a review, determine whether the review is positive (Rating of 4 or 5) or negative (rating of 1 or 2).\n",
    "\n",
    "<br>\n",
    "[Q] How to determine if a review is positive or negative?<br>\n",
    "<br> \n",
    "[Ans] We could use the Score/Rating. A rating of 4 or 5 could be cosnidered a positive review. A review of 1 or 2 could be considered negative. A review of 3 is nuetral and ignored. This is an approximate and proxy way of determining the polarity (positivity/negativity) of a review."
   ]
  },
  {
   "cell_type": "markdown",
   "metadata": {
    "_cell_guid": "b1076dfc-b9ad-4769-8c92-a6c4dae69d19",
    "_uuid": "8f2839f25d086af736a60e9eeb907d3b93b6e0e5"
   },
   "source": [
    "# Preprocessing "
   ]
  },
  {
   "cell_type": "code",
   "execution_count": 1,
   "metadata": {
    "ExecuteTime": {
     "end_time": "2018-10-15T05:05:46.318119Z",
     "start_time": "2018-10-15T05:05:45.794696Z"
    },
    "_uuid": "d98b4026e68f92b5bf12bd67d0a2b9b4d7c057b3"
   },
   "outputs": [],
   "source": [
    "import numpy as np\n",
    "import pandas as pd \n",
    "import matplotlib.pyplot as plt\n",
    "from sklearn.feature_extraction.text import CountVectorizer\n",
    "from sklearn.feature_extraction.text import TfidfVectorizer\n",
    "from sklearn import metrics\n",
    "import seaborn as sns\n",
    "import warnings\n",
    "import math\n",
    "import progressbar\n",
    "\n",
    "warnings.filterwarnings(\"ignore\")\n",
    "sns.set()\n",
    "bar = progressbar.ProgressBar(maxval=100, \\\n",
    "        widgets=[progressbar.Bar('=', '[', ']'), ' ', progressbar.Percentage()])"
   ]
  },
  {
   "cell_type": "markdown",
   "metadata": {},
   "source": [
    "* Loading Data from sql database. Ignored neutral reviews that is score=3. And data is sorted according to time."
   ]
  },
  {
   "cell_type": "code",
   "execution_count": 2,
   "metadata": {
    "ExecuteTime": {
     "end_time": "2018-10-15T05:05:59.525180Z",
     "start_time": "2018-10-15T05:05:46.409226Z"
    },
    "_uuid": "3545b70b1e3a9828a22aad57089993e35bdd137a"
   },
   "outputs": [
    {
     "data": {
      "text/html": [
       "<div>\n",
       "<style scoped>\n",
       "    .dataframe tbody tr th:only-of-type {\n",
       "        vertical-align: middle;\n",
       "    }\n",
       "\n",
       "    .dataframe tbody tr th {\n",
       "        vertical-align: top;\n",
       "    }\n",
       "\n",
       "    .dataframe thead th {\n",
       "        text-align: right;\n",
       "    }\n",
       "</style>\n",
       "<table border=\"1\" class=\"dataframe\">\n",
       "  <thead>\n",
       "    <tr style=\"text-align: right;\">\n",
       "      <th></th>\n",
       "      <th>Id</th>\n",
       "      <th>ProductId</th>\n",
       "      <th>UserId</th>\n",
       "      <th>ProfileName</th>\n",
       "      <th>HelpfulnessNumerator</th>\n",
       "      <th>HelpfulnessDenominator</th>\n",
       "      <th>Score</th>\n",
       "      <th>Time</th>\n",
       "      <th>Summary</th>\n",
       "      <th>Text</th>\n",
       "    </tr>\n",
       "  </thead>\n",
       "  <tbody>\n",
       "    <tr>\n",
       "      <th>0</th>\n",
       "      <td>150524</td>\n",
       "      <td>0006641040</td>\n",
       "      <td>ACITT7DI6IDDL</td>\n",
       "      <td>shari zychinski</td>\n",
       "      <td>0</td>\n",
       "      <td>0</td>\n",
       "      <td>5</td>\n",
       "      <td>939340800</td>\n",
       "      <td>EVERY book is educational</td>\n",
       "      <td>this witty little book makes my son laugh at l...</td>\n",
       "    </tr>\n",
       "    <tr>\n",
       "      <th>1</th>\n",
       "      <td>150501</td>\n",
       "      <td>0006641040</td>\n",
       "      <td>AJ46FKXOVC7NR</td>\n",
       "      <td>Nicholas A Mesiano</td>\n",
       "      <td>2</td>\n",
       "      <td>2</td>\n",
       "      <td>5</td>\n",
       "      <td>940809600</td>\n",
       "      <td>This whole series is great way to spend time w...</td>\n",
       "      <td>I can remember seeing the show when it aired o...</td>\n",
       "    </tr>\n",
       "    <tr>\n",
       "      <th>2</th>\n",
       "      <td>451856</td>\n",
       "      <td>B00004CXX9</td>\n",
       "      <td>AIUWLEQ1ADEG5</td>\n",
       "      <td>Elizabeth Medina</td>\n",
       "      <td>0</td>\n",
       "      <td>0</td>\n",
       "      <td>5</td>\n",
       "      <td>944092800</td>\n",
       "      <td>Entertainingl Funny!</td>\n",
       "      <td>Beetlejuice is a well written movie ..... ever...</td>\n",
       "    </tr>\n",
       "    <tr>\n",
       "      <th>3</th>\n",
       "      <td>230285</td>\n",
       "      <td>B00004RYGX</td>\n",
       "      <td>A344SMIA5JECGM</td>\n",
       "      <td>Vincent P. Ross</td>\n",
       "      <td>1</td>\n",
       "      <td>2</td>\n",
       "      <td>5</td>\n",
       "      <td>944438400</td>\n",
       "      <td>A modern day fairy tale</td>\n",
       "      <td>A twist of rumplestiskin captured on film, sta...</td>\n",
       "    </tr>\n",
       "    <tr>\n",
       "      <th>4</th>\n",
       "      <td>374359</td>\n",
       "      <td>B00004CI84</td>\n",
       "      <td>A344SMIA5JECGM</td>\n",
       "      <td>Vincent P. Ross</td>\n",
       "      <td>1</td>\n",
       "      <td>2</td>\n",
       "      <td>5</td>\n",
       "      <td>944438400</td>\n",
       "      <td>A modern day fairy tale</td>\n",
       "      <td>A twist of rumplestiskin captured on film, sta...</td>\n",
       "    </tr>\n",
       "  </tbody>\n",
       "</table>\n",
       "</div>"
      ],
      "text/plain": [
       "       Id   ProductId          UserId         ProfileName  \\\n",
       "0  150524  0006641040   ACITT7DI6IDDL     shari zychinski   \n",
       "1  150501  0006641040   AJ46FKXOVC7NR  Nicholas A Mesiano   \n",
       "2  451856  B00004CXX9   AIUWLEQ1ADEG5    Elizabeth Medina   \n",
       "3  230285  B00004RYGX  A344SMIA5JECGM     Vincent P. Ross   \n",
       "4  374359  B00004CI84  A344SMIA5JECGM     Vincent P. Ross   \n",
       "\n",
       "   HelpfulnessNumerator  HelpfulnessDenominator  Score       Time  \\\n",
       "0                     0                       0      5  939340800   \n",
       "1                     2                       2      5  940809600   \n",
       "2                     0                       0      5  944092800   \n",
       "3                     1                       2      5  944438400   \n",
       "4                     1                       2      5  944438400   \n",
       "\n",
       "                                             Summary  \\\n",
       "0                          EVERY book is educational   \n",
       "1  This whole series is great way to spend time w...   \n",
       "2                               Entertainingl Funny!   \n",
       "3                            A modern day fairy tale   \n",
       "4                            A modern day fairy tale   \n",
       "\n",
       "                                                Text  \n",
       "0  this witty little book makes my son laugh at l...  \n",
       "1  I can remember seeing the show when it aired o...  \n",
       "2  Beetlejuice is a well written movie ..... ever...  \n",
       "3  A twist of rumplestiskin captured on film, sta...  \n",
       "4  A twist of rumplestiskin captured on film, sta...  "
      ]
     },
     "execution_count": 2,
     "metadata": {},
     "output_type": "execute_result"
    }
   ],
   "source": [
    "import sqlite3\n",
    "\n",
    "conn = sqlite3.connect('Data/database.sqlite')\n",
    "\n",
    "data = pd.read_sql_query(\"select * from Reviews where Score !=3 order by Time\", conn)\n",
    "data.head()"
   ]
  },
  {
   "cell_type": "markdown",
   "metadata": {},
   "source": [
    "### Deduplication\n",
    "\n",
    "\n",
    "* Same review from a user to a product in different time indicates duplicate data.\n",
    "* Removed data that has same product ID, user id, score, text values."
   ]
  },
  {
   "cell_type": "code",
   "execution_count": 3,
   "metadata": {
    "ExecuteTime": {
     "end_time": "2018-10-15T05:06:00.650448Z",
     "start_time": "2018-10-15T05:05:59.528626Z"
    },
    "_uuid": "f90580278d19db7edc7924d47e993682dc962522"
   },
   "outputs": [],
   "source": [
    "# removing duplicates\n",
    "data = data.drop_duplicates(subset={'ProductId', 'UserId', 'Score', \n",
    "                            'Text'}, keep='first')"
   ]
  },
  {
   "cell_type": "markdown",
   "metadata": {},
   "source": [
    "### Data Cleaning\n",
    "\n",
    "* Removed html tags, punctuations from each sentence.\n",
    "* Each word is lowercased and removed stop words(a, an, the....).\n",
    "* Considered score 1 and 2 as negative review and scores 4 and 5 are considered as positive review.\n",
    "* For negative review '0' as label and for positive review '1' as label."
   ]
  },
  {
   "cell_type": "code",
   "execution_count": 4,
   "metadata": {
    "ExecuteTime": {
     "end_time": "2018-10-15T05:10:56.533322Z",
     "start_time": "2018-10-15T05:06:00.651942Z"
    },
    "_uuid": "41f698bce3bfc3a6e31af3fa5a1810f6a6d2272f"
   },
   "outputs": [
    {
     "name": "stderr",
     "output_type": "stream",
     "text": [
      "[========================================================================] 100%\n"
     ]
    }
   ],
   "source": [
    "from nltk.corpus import stopwords\n",
    "from nltk.stem import SnowballStemmer\n",
    "import re\n",
    "\n",
    "stop_words = set(stopwords.words('english'))\n",
    "snow = SnowballStemmer('english')\n",
    "pre_processed = []\n",
    "\n",
    "i = 0\n",
    "bar.maxval = len(data['Text'])\n",
    "bar.start()\n",
    "for sentence in data['Text']:    \n",
    "    sentence = str(sentence)\n",
    "    sentence = sentence.lower()\n",
    "    clnr = re.compile('<.*?>') # for cleaning html tags\n",
    "    sentence = re.sub(clnr, ' ', sentence)\n",
    "    sentence = re.sub(r'[?|!|\\'|\"|#]', r'', sentence)\n",
    "    sentence = re.sub(r'[.|,|)|(|\\|/]', r' ', sentence)\n",
    "    sentence = re.sub('</br>', ' ', sentence) # br tag\n",
    "    sentence = re.sub('\\s+',' ', sentence)\n",
    "    \n",
    "    words = [snow.stem(word) for word in sentence.split() \\\n",
    "             if word not in stop_words]\n",
    "    final_sentence = ''\n",
    "    for word in words:\n",
    "        final_sentence = final_sentence + word + ' '\n",
    "    pre_processed.append(final_sentence)\n",
    "    bar.update(i)\n",
    "    i += 1\n",
    "\n",
    "data['Text'] = pre_processed\n",
    "bar.finish()"
   ]
  },
  {
   "cell_type": "markdown",
   "metadata": {},
   "source": [
    "### Data Segmentation\n",
    "\n",
    "* First 10k review taken into consideration.\n",
    "* Taken only text column from data.\n",
    "* Data is divided according to time."
   ]
  },
  {
   "cell_type": "code",
   "execution_count": 5,
   "metadata": {
    "ExecuteTime": {
     "end_time": "2018-10-15T05:35:18.722816Z",
     "start_time": "2018-10-15T05:35:18.715597Z"
    },
    "_uuid": "6a339fe9d6f80aedf8e8cc2b95e1402b19a6b0cb"
   },
   "outputs": [],
   "source": [
    "data = data['Text'][0:100000]"
   ]
  },
  {
   "cell_type": "markdown",
   "metadata": {
    "_uuid": "7f97fbaa3ea1d48c163e38a6da90f927fab1a0fb"
   },
   "source": [
    "# Word2vec\n",
    "\n",
    "* Trained own word2vec using gensim module. Considered words which has frequency more than 5 in whole data.\n",
    "* Trained word2vec using Word2vec function from gensim.models.\n",
    "* Trained for vector of size 150. And converted each word into a vector of size 150.\n",
    "* Added all vectors of a sentence and divided with total number of vectors in sentence. So that we can get average word2vec value for each sentence."
   ]
  },
  {
   "cell_type": "code",
   "execution_count": 6,
   "metadata": {
    "ExecuteTime": {
     "end_time": "2018-10-15T05:36:00.662114Z",
     "start_time": "2018-10-15T05:35:19.540957Z"
    },
    "_uuid": "4013b0bb1f20f2a86373f8c1c13ea6f204b34992",
    "scrolled": true
   },
   "outputs": [],
   "source": [
    "# training word2vec on training data\n",
    "from gensim.models import Word2Vec\n",
    "sentences = []\n",
    "for row in data:\n",
    "    sentences.append([word for word in row.split()])\n",
    "\n",
    "w2v = Word2Vec(sentences, min_count=5, size=150, workers=3)\n",
    "avgw2v_data = []\n",
    "for row in sentences:\n",
    "    te = [0 for i in range(150)]\n",
    "    num = 0\n",
    "    for word in row:\n",
    "        try:\n",
    "            te += w2v[word]\n",
    "            num += 1\n",
    "        except:\n",
    "            pass\n",
    "    avgw2v_data.append(te/num)"
   ]
  },
  {
   "cell_type": "markdown",
   "metadata": {
    "_uuid": "04e8e63899ccdfdd72d1dc4dccc1e275d0bbe5f3"
   },
   "source": [
    "## DBSCAN Clustering \n",
    "\n",
    "* Clustering text data into different clusters.\n",
    "* Clustered using DBSCAN from sklearn.cluster module.\n",
    "* Trained on average word2vec data."
   ]
  },
  {
   "cell_type": "code",
   "execution_count": 7,
   "metadata": {
    "ExecuteTime": {
     "end_time": "2018-10-15T06:38:20.468708Z",
     "start_time": "2018-10-15T05:36:00.664328Z"
    },
    "_uuid": "cc09f4023dd015c4eca466fc2ab9a57621f9e7a6"
   },
   "outputs": [],
   "source": [
    "from sklearn.cluster import DBSCAN\n",
    "from sklearn.metrics import silhouette_score\n",
    "from sklearn.metrics import pairwise_distances\n",
    "\n",
    "sil_scores = []\n",
    "eps = [0.1, 0.3, 0.5, 1.0, 1.2, 1.5]\n",
    "for i in eps:\n",
    "    dbscan = DBSCAN(eps=i, n_jobs=3)\n",
    "    dbscan.fit(avgw2v_data)\n",
    "    score = silhouette_score(avgw2v_data, dbscan.labels_)\n",
    "    sil_scores.append(score)"
   ]
  },
  {
   "cell_type": "code",
   "execution_count": 8,
   "metadata": {
    "ExecuteTime": {
     "end_time": "2018-10-15T06:38:20.619383Z",
     "start_time": "2018-10-15T06:38:20.470403Z"
    },
    "_uuid": "92109ed7abff5bf6cd8e7b609e6cbf99541ed29e",
    "scrolled": false
   },
   "outputs": [
    {
     "data": {
      "image/png": "[encoded data removed]",
      "text/plain": [
       "<Figure size 432x288 with 1 Axes>"
      ]
     },
     "metadata": {
      "needs_background": "light"
     },
     "output_type": "display_data"
    }
   ],
   "source": [
    "plt.plot(eps, sil_scores, '--bo')\n",
    "plt.xlabel('number of clusters')\n",
    "plt.ylabel('silhouette score')\n",
    "plt.show()"
   ]
  },
  {
   "cell_type": "markdown",
   "metadata": {},
   "source": [
    "- According to elbow method, best model is of epsilon value 1.2."
   ]
  },
  {
   "cell_type": "code",
   "execution_count": 9,
   "metadata": {
    "ExecuteTime": {
     "end_time": "2018-10-15T06:53:01.554331Z",
     "start_time": "2018-10-15T06:38:20.625577Z"
    }
   },
   "outputs": [
    {
     "data": {
      "text/plain": [
       "DBSCAN(algorithm='auto', eps=1.2, leaf_size=30, metric='euclidean',\n",
       "    metric_params=None, min_samples=5, n_jobs=3, p=None)"
      ]
     },
     "execution_count": 9,
     "metadata": {},
     "output_type": "execute_result"
    }
   ],
   "source": [
    "dbscan = DBSCAN(eps=1.2, n_jobs=3)\n",
    "dbscan.fit(avgw2v_data)"
   ]
  },
  {
   "cell_type": "code",
   "execution_count": 10,
   "metadata": {
    "ExecuteTime": {
     "end_time": "2018-10-15T06:55:30.926203Z",
     "start_time": "2018-10-15T06:53:01.557036Z"
    }
   },
   "outputs": [],
   "source": [
    "performence = []\n",
    "sil_score = silhouette_score(avgw2v_data, dbscan.labels_)\n",
    "performence.append(['Avg word2vec', 1.2, sil_score])"
   ]
  },
  {
   "cell_type": "markdown",
   "metadata": {
    "_uuid": "bdde56c65062f270487ef85358cb5907b04a9c29"
   },
   "source": [
    "# Tf-IDF word2vec\n",
    "\n",
    "* Using pre-trained tf-idf vectors and word2vec of size 150.\n",
    "* Multiplying each word's word2vec vector and tf-idf value of that word in respected sentence.\n",
    "* Executing above step for each word in a sentence and took sum of values of all words in a sentence.\n",
    "* And this sum is divided by sum of tf-idf values of all words in sentences. Finally gives tf-idf word2vec values of size 150 for each sentence."
   ]
  },
  {
   "cell_type": "code",
   "execution_count": 11,
   "metadata": {
    "ExecuteTime": {
     "end_time": "2018-10-15T06:55:33.181770Z",
     "start_time": "2018-10-15T06:55:30.928190Z"
    }
   },
   "outputs": [],
   "source": [
    "# Training tf-idf\n",
    "from sklearn.feature_extraction.text import TfidfVectorizer\n",
    "\n",
    "tfidf_model = TfidfVectorizer(max_features=2000)\n",
    "tfidf_data = tfidf_model.fit_transform(data)"
   ]
  },
  {
   "cell_type": "code",
   "execution_count": 12,
   "metadata": {
    "ExecuteTime": {
     "end_time": "2018-10-15T06:55:33.921157Z",
     "start_time": "2018-10-15T06:55:33.183227Z"
    }
   },
   "outputs": [],
   "source": [
    "tfidf_data = tfidf_data.toarray()"
   ]
  },
  {
   "cell_type": "code",
   "execution_count": 13,
   "metadata": {
    "ExecuteTime": {
     "end_time": "2018-10-15T06:56:36.445566Z",
     "start_time": "2018-10-15T06:55:33.922629Z"
    },
    "_uuid": "646b3850d84e9cd1566b19b733b9ea00ee0100ff",
    "scrolled": true
   },
   "outputs": [],
   "source": [
    "sentences = []\n",
    "for row in data:\n",
    "    sentences.append([word for word in row.split()])\n",
    "\n",
    "tfidfw2v_data = []\n",
    "i = 0\n",
    "for row in sentences:\n",
    "    te = [0 for i in range(150)]\n",
    "    \n",
    "    temp_tfidf = []\n",
    "    for val in tfidf_data[i]:\n",
    "        if val != 0:\n",
    "            temp_tfidf.append(val)\n",
    "    \n",
    "    num = 0\n",
    "    tf_idf_sum = 0\n",
    "    for word in row:\n",
    "        try:\n",
    "            num += 1\n",
    "            tf_idf_sum = tf_idf_sum + temp_tfidf[num-1]\n",
    "            te += (temp_tfidf[num-1] * w2v[word])\n",
    "        except:\n",
    "            pass\n",
    "    try: # avoiding divide by zero\n",
    "        te = (float)(1/tf_idf_sum) * te\n",
    "    except:\n",
    "        pass\n",
    "    tfidfw2v_data.append(te)\n",
    "    i = i + 1"
   ]
  },
  {
   "cell_type": "markdown",
   "metadata": {
    "_uuid": "04e8e63899ccdfdd72d1dc4dccc1e275d0bbe5f3"
   },
   "source": [
    "## DBSCAN Clustering \n",
    "\n",
    "* Clustering text data into different clusters.\n",
    "* Clustered using DBSCAN from sklearn.cluster module.\n",
    "* Trained on tfidf word2vec data."
   ]
  },
  {
   "cell_type": "code",
   "execution_count": 14,
   "metadata": {
    "ExecuteTime": {
     "end_time": "2018-10-15T07:55:55.651364Z",
     "start_time": "2018-10-15T06:56:36.447017Z"
    },
    "_uuid": "cc09f4023dd015c4eca466fc2ab9a57621f9e7a6"
   },
   "outputs": [],
   "source": [
    "from sklearn.cluster import DBSCAN\n",
    "from sklearn.metrics import silhouette_score\n",
    "from sklearn.metrics import pairwise_distances\n",
    "\n",
    "sil_scores = []\n",
    "eps = [0.1, 0.3, 0.5, 1.0, 1.2, 1.5]\n",
    "for i in eps:\n",
    "    dbscan = DBSCAN(eps=i, n_jobs=3)\n",
    "    dbscan.fit(tfidfw2v_data)\n",
    "    score = silhouette_score(tfidfw2v_data, dbscan.labels_)\n",
    "    sil_scores.append(score)"
   ]
  },
  {
   "cell_type": "code",
   "execution_count": 15,
   "metadata": {
    "ExecuteTime": {
     "end_time": "2018-10-15T07:55:55.783679Z",
     "start_time": "2018-10-15T07:55:55.652926Z"
    },
    "_uuid": "92109ed7abff5bf6cd8e7b609e6cbf99541ed29e",
    "scrolled": false
   },
   "outputs": [
    {
     "data": {
      "image/png": "[encoded data removed]",
      "text/plain": [
       "<Figure size 432x288 with 1 Axes>"
      ]
     },
     "metadata": {
      "needs_background": "light"
     },
     "output_type": "display_data"
    }
   ],
   "source": [
    "plt.plot(eps, sil_scores, '--bo')\n",
    "plt.xlabel('number of clusters')\n",
    "plt.ylabel('silhouette score')\n",
    "plt.show()"
   ]
  },
  {
   "cell_type": "markdown",
   "metadata": {},
   "source": [
    "- Best model is of epsilon value 1.5."
   ]
  },
  {
   "cell_type": "code",
   "execution_count": 16,
   "metadata": {
    "ExecuteTime": {
     "end_time": "2018-10-15T08:14:39.260978Z",
     "start_time": "2018-10-15T07:55:55.799493Z"
    }
   },
   "outputs": [
    {
     "data": {
      "text/plain": [
       "DBSCAN(algorithm='auto', eps=1.5, leaf_size=30, metric='euclidean',\n",
       "    metric_params=None, min_samples=5, n_jobs=3, p=None)"
      ]
     },
     "execution_count": 16,
     "metadata": {},
     "output_type": "execute_result"
    }
   ],
   "source": [
    "dbscan = DBSCAN(eps=1.5, n_jobs=3)\n",
    "dbscan.fit(tfidfw2v_data)"
   ]
  },
  {
   "cell_type": "code",
   "execution_count": 17,
   "metadata": {
    "ExecuteTime": {
     "end_time": "2018-10-15T08:16:51.202325Z",
     "start_time": "2018-10-15T08:14:39.263158Z"
    }
   },
   "outputs": [],
   "source": [
    "sil_score = silhouette_score(tfidfw2v_data, dbscan.labels_)\n",
    "performence.append(['Avg word2vec', 1.5, sil_score])"
   ]
  },
  {
   "cell_type": "markdown",
   "metadata": {
    "_uuid": "9bda945919b332b85f670cdddfc716e265d8c566"
   },
   "source": [
    "# Conclusion"
   ]
  },
  {
   "cell_type": "code",
   "execution_count": 18,
   "metadata": {
    "ExecuteTime": {
     "end_time": "2018-10-15T08:16:51.213987Z",
     "start_time": "2018-10-15T08:16:51.204227Z"
    }
   },
   "outputs": [
    {
     "name": "stdout",
     "output_type": "stream",
     "text": [
      "Clustering with average word2vec: \n",
      "+--------------+-----+----------------------+\n",
      "|  Vectorizer  | eps |   silhouette score   |\n",
      "+--------------+-----+----------------------+\n",
      "| Avg word2vec | 1.2 | -0.11642803878810293 |\n",
      "+--------------+-----+----------------------+\n"
     ]
    }
   ],
   "source": [
    "print(\"Clustering with average word2vec: \")\n",
    "from prettytable import PrettyTable\n",
    "tb = PrettyTable()\n",
    "tb.field_names = ['Vectorizer', 'eps', 'silhouette score']\n",
    "tb.add_row(performence[0])\n",
    "print(tb)"
   ]
  },
  {
   "cell_type": "code",
   "execution_count": 19,
   "metadata": {
    "ExecuteTime": {
     "end_time": "2018-10-15T08:16:52.260127Z",
     "start_time": "2018-10-15T08:16:51.215901Z"
    }
   },
   "outputs": [
    {
     "name": "stdout",
     "output_type": "stream",
     "text": [
      "Clustering with tfidf word2vec: \n",
      "+--------------+-----+----------------------+\n",
      "|  Vectorizer  | eps |   silhouette score   |\n",
      "+--------------+-----+----------------------+\n",
      "| Avg word2vec | 1.5 | -0.10666282977529049 |\n",
      "+--------------+-----+----------------------+\n"
     ]
    }
   ],
   "source": [
    "print(\"Clustering with tfidf word2vec: \")\n",
    "from prettytable import PrettyTable\n",
    "tb = PrettyTable()\n",
    "tb.field_names = ['Vectorizer', 'eps', 'silhouette score']\n",
    "tb.add_row(performence[1])\n",
    "print(tb)"
   ]
  }
 ],
 "metadata": {
  "kernelspec": {
   "display_name": "Python 3",
   "language": "python",
   "name": "python3"
  },
  "language_info": {
   "codemirror_mode": {
    "name": "ipython",
    "version": 3
   },
   "file_extension": ".py",
   "mimetype": "text/x-python",
   "name": "python",
   "nbconvert_exporter": "python",
   "pygments_lexer": "ipython3",
   "version": "3.6.6"
  }
 },
 "nbformat": 4,
 "nbformat_minor": 1
}
