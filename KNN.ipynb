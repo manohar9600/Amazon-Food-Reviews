{
 "cells": [
  {
   "cell_type": "markdown",
   "metadata": {},
   "source": [
    "# Amazon Fine Food Reviews Analysis\n",
    "\n",
    "\n",
    "Data Source: https://www.kaggle.com/snap/amazon-fine-food-reviews\n",
    "\n",
    "The Amazon Fine Food Reviews dataset consists of reviews of fine foods from Amazon.<br>\n",
    "\n",
    "Number of reviews: 568,454<br>\n",
    "Number of users: 256,059<br>\n",
    "Number of products: 74,258<br>\n",
    "Timespan: Oct 1999 - Oct 2012<br>\n",
    "Number of Attributes/Columns in data: 10 \n",
    "\n",
    "Attribute Information:\n",
    "\n",
    "1. Id\n",
    "2. ProductId - unique identifier for the product\n",
    "3. UserId - unqiue identifier for the user\n",
    "4. ProfileName\n",
    "5. HelpfulnessNumerator - number of users who found the review helpful\n",
    "6. HelpfulnessDenominator - number of users who indicated whether they found the review helpful or not\n",
    "7. Score - rating between 1 and 5\n",
    "8. Time - timestamp for the review\n",
    "9. Summary - brief summary of the review\n",
    "10. Text - text of the review\n",
    "\n",
    "\n",
    "#### Objective:\n",
    "Given a review, determine whether the review is positive (Rating of 4 or 5) or negative (rating of 1 or 2).\n",
    "\n",
    "<br>\n",
    "[Q] How to determine if a review is positive or negative?<br>\n",
    "<br> \n",
    "[Ans] We could use the Score/Rating. A rating of 4 or 5 could be cosnidered a positive review. A review of 1 or 2 could be considered negative. A review of 3 is nuetral and ignored. This is an approximate and proxy way of determining the polarity (positivity/negativity) of a review."
   ]
  },
  {
   "cell_type": "markdown",
   "metadata": {
    "_cell_guid": "b1076dfc-b9ad-4769-8c92-a6c4dae69d19",
    "_uuid": "8f2839f25d086af736a60e9eeb907d3b93b6e0e5"
   },
   "source": [
    "# Preprocessing "
   ]
  },
  {
   "cell_type": "code",
   "execution_count": 1,
   "metadata": {
    "ExecuteTime": {
     "end_time": "2018-10-02T08:53:19.849468Z",
     "start_time": "2018-10-02T08:53:11.037612Z"
    },
    "_uuid": "d98b4026e68f92b5bf12bd67d0a2b9b4d7c057b3"
   },
   "outputs": [],
   "source": [
    "import numpy as np\n",
    "import pandas as pd \n",
    "import matplotlib.pyplot as plt\n",
    "from sklearn.feature_extraction.text import CountVectorizer\n",
    "from sklearn.feature_extraction.text import TfidfVectorizer\n",
    "from sklearn import metrics\n",
    "import seaborn as sns\n",
    "import warnings\n",
    "\n",
    "warnings.filterwarnings(\"ignore\")\n",
    "sns.set()"
   ]
  },
  {
   "cell_type": "markdown",
   "metadata": {},
   "source": [
    "* Loading Data from sql database. Ignored neutral reviews that is score=3. And data is sorted according to time."
   ]
  },
  {
   "cell_type": "code",
   "execution_count": 2,
   "metadata": {
    "ExecuteTime": {
     "end_time": "2018-09-23T10:39:11.681385Z",
     "start_time": "2018-09-23T10:39:07.842936Z"
    },
    "_uuid": "3545b70b1e3a9828a22aad57089993e35bdd137a"
   },
   "outputs": [
    {
     "data": {
      "text/html": [
       "<div>\n",
       "<style scoped>\n",
       "    .dataframe tbody tr th:only-of-type {\n",
       "        vertical-align: middle;\n",
       "    }\n",
       "\n",
       "    .dataframe tbody tr th {\n",
       "        vertical-align: top;\n",
       "    }\n",
       "\n",
       "    .dataframe thead th {\n",
       "        text-align: right;\n",
       "    }\n",
       "</style>\n",
       "<table border=\"1\" class=\"dataframe\">\n",
       "  <thead>\n",
       "    <tr style=\"text-align: right;\">\n",
       "      <th></th>\n",
       "      <th>Id</th>\n",
       "      <th>ProductId</th>\n",
       "      <th>UserId</th>\n",
       "      <th>ProfileName</th>\n",
       "      <th>HelpfulnessNumerator</th>\n",
       "      <th>HelpfulnessDenominator</th>\n",
       "      <th>Score</th>\n",
       "      <th>Time</th>\n",
       "      <th>Summary</th>\n",
       "      <th>Text</th>\n",
       "    </tr>\n",
       "  </thead>\n",
       "  <tbody>\n",
       "    <tr>\n",
       "      <th>0</th>\n",
       "      <td>150524</td>\n",
       "      <td>0006641040</td>\n",
       "      <td>ACITT7DI6IDDL</td>\n",
       "      <td>shari zychinski</td>\n",
       "      <td>0</td>\n",
       "      <td>0</td>\n",
       "      <td>5</td>\n",
       "      <td>939340800</td>\n",
       "      <td>EVERY book is educational</td>\n",
       "      <td>this witty little book makes my son laugh at l...</td>\n",
       "    </tr>\n",
       "    <tr>\n",
       "      <th>1</th>\n",
       "      <td>150501</td>\n",
       "      <td>0006641040</td>\n",
       "      <td>AJ46FKXOVC7NR</td>\n",
       "      <td>Nicholas A Mesiano</td>\n",
       "      <td>2</td>\n",
       "      <td>2</td>\n",
       "      <td>5</td>\n",
       "      <td>940809600</td>\n",
       "      <td>This whole series is great way to spend time w...</td>\n",
       "      <td>I can remember seeing the show when it aired o...</td>\n",
       "    </tr>\n",
       "    <tr>\n",
       "      <th>2</th>\n",
       "      <td>451856</td>\n",
       "      <td>B00004CXX9</td>\n",
       "      <td>AIUWLEQ1ADEG5</td>\n",
       "      <td>Elizabeth Medina</td>\n",
       "      <td>0</td>\n",
       "      <td>0</td>\n",
       "      <td>5</td>\n",
       "      <td>944092800</td>\n",
       "      <td>Entertainingl Funny!</td>\n",
       "      <td>Beetlejuice is a well written movie ..... ever...</td>\n",
       "    </tr>\n",
       "    <tr>\n",
       "      <th>3</th>\n",
       "      <td>230285</td>\n",
       "      <td>B00004RYGX</td>\n",
       "      <td>A344SMIA5JECGM</td>\n",
       "      <td>Vincent P. Ross</td>\n",
       "      <td>1</td>\n",
       "      <td>2</td>\n",
       "      <td>5</td>\n",
       "      <td>944438400</td>\n",
       "      <td>A modern day fairy tale</td>\n",
       "      <td>A twist of rumplestiskin captured on film, sta...</td>\n",
       "    </tr>\n",
       "    <tr>\n",
       "      <th>4</th>\n",
       "      <td>374359</td>\n",
       "      <td>B00004CI84</td>\n",
       "      <td>A344SMIA5JECGM</td>\n",
       "      <td>Vincent P. Ross</td>\n",
       "      <td>1</td>\n",
       "      <td>2</td>\n",
       "      <td>5</td>\n",
       "      <td>944438400</td>\n",
       "      <td>A modern day fairy tale</td>\n",
       "      <td>A twist of rumplestiskin captured on film, sta...</td>\n",
       "    </tr>\n",
       "  </tbody>\n",
       "</table>\n",
       "</div>"
      ],
      "text/plain": [
       "       Id   ProductId          UserId         ProfileName  \\\n",
       "0  150524  0006641040   ACITT7DI6IDDL     shari zychinski   \n",
       "1  150501  0006641040   AJ46FKXOVC7NR  Nicholas A Mesiano   \n",
       "2  451856  B00004CXX9   AIUWLEQ1ADEG5    Elizabeth Medina   \n",
       "3  230285  B00004RYGX  A344SMIA5JECGM     Vincent P. Ross   \n",
       "4  374359  B00004CI84  A344SMIA5JECGM     Vincent P. Ross   \n",
       "\n",
       "   HelpfulnessNumerator  HelpfulnessDenominator  Score       Time  \\\n",
       "0                     0                       0      5  939340800   \n",
       "1                     2                       2      5  940809600   \n",
       "2                     0                       0      5  944092800   \n",
       "3                     1                       2      5  944438400   \n",
       "4                     1                       2      5  944438400   \n",
       "\n",
       "                                             Summary  \\\n",
       "0                          EVERY book is educational   \n",
       "1  This whole series is great way to spend time w...   \n",
       "2                               Entertainingl Funny!   \n",
       "3                            A modern day fairy tale   \n",
       "4                            A modern day fairy tale   \n",
       "\n",
       "                                                Text  \n",
       "0  this witty little book makes my son laugh at l...  \n",
       "1  I can remember seeing the show when it aired o...  \n",
       "2  Beetlejuice is a well written movie ..... ever...  \n",
       "3  A twist of rumplestiskin captured on film, sta...  \n",
       "4  A twist of rumplestiskin captured on film, sta...  "
      ]
     },
     "execution_count": 2,
     "metadata": {},
     "output_type": "execute_result"
    }
   ],
   "source": [
    "import sqlite3\n",
    "\n",
    "conn = sqlite3.connect('Data/database.sqlite')\n",
    "\n",
    "data = pd.read_sql_query(\"select * from Reviews where Score !=3 order by Time\", conn)\n",
    "data.head()"
   ]
  },
  {
   "cell_type": "markdown",
   "metadata": {},
   "source": [
    "### Deduplication\n",
    "\n",
    "\n",
    "* Same review from a user to a product in different time indicates duplicate data.\n",
    "* Removed data that has same product ID, user id, score, text values."
   ]
  },
  {
   "cell_type": "code",
   "execution_count": 3,
   "metadata": {
    "ExecuteTime": {
     "end_time": "2018-09-23T10:39:12.563882Z",
     "start_time": "2018-09-23T10:39:11.683372Z"
    },
    "_uuid": "f90580278d19db7edc7924d47e993682dc962522"
   },
   "outputs": [],
   "source": [
    "# removing duplicates\n",
    "data = data.drop_duplicates(subset={'ProductId', 'UserId', 'Score', \n",
    "                            'Text'}, keep='first')"
   ]
  },
  {
   "cell_type": "markdown",
   "metadata": {},
   "source": [
    "### Data Cleaning\n",
    "\n",
    "* Removed html tags, punctuations from each sentence.\n",
    "* Each word is lowercased and removed stop words(a, an, the....).\n",
    "* Considered score 1 and 2 as negative review and scores 4 and 5 are considered as positive review.\n",
    "* For negative review '0' as label and for positive review '1' as label."
   ]
  },
  {
   "cell_type": "code",
   "execution_count": 4,
   "metadata": {
    "ExecuteTime": {
     "end_time": "2018-09-23T11:58:51.607645Z",
     "start_time": "2018-09-23T10:39:12.567260Z"
    },
    "_uuid": "41f698bce3bfc3a6e31af3fa5a1810f6a6d2272f"
   },
   "outputs": [
    {
     "name": "stdout",
     "output_type": "stream",
     "text": [
      "100.00 %\r"
     ]
    }
   ],
   "source": [
    "from nltk.corpus import stopwords\n",
    "from nltk.stem import SnowballStemmer\n",
    "import re\n",
    "\n",
    "snow = SnowballStemmer('english')\n",
    "pre_processed = []\n",
    "\n",
    "i = 0\n",
    "N = len(data['Text'])\n",
    "for sentence in data['Text']:    \n",
    "    sentence = str(sentence)\n",
    "    sentence = sentence.lower()\n",
    "    clnr = re.compile('<.*?>') # for cleaning html tags\n",
    "    sentence = re.sub(clnr, ' ', sentence)\n",
    "    sentence = re.sub(r'[?|!|\\'|\"|#]', r'', sentence)\n",
    "    sentence = re.sub(r'[.|,|)|(|\\|/]', r' ', sentence) \n",
    "    \n",
    "    words = [snow.stem(word) for word in sentence.split() \\\n",
    "             if word not in stopwords.words('english')]\n",
    "    final_sentence = ''\n",
    "    for word in words:\n",
    "        final_sentence = final_sentence + word + ' '\n",
    "    pre_processed.append(final_sentence)\n",
    "    print(\"{0:.2f} %\".format(i/N*100), end='\\r')\n",
    "    i += 1\n",
    "\n",
    "data['Text'] = pre_processed"
   ]
  },
  {
   "cell_type": "code",
   "execution_count": 5,
   "metadata": {
    "ExecuteTime": {
     "end_time": "2018-09-23T11:58:51.784518Z",
     "start_time": "2018-09-23T11:58:51.609502Z"
    }
   },
   "outputs": [],
   "source": [
    "sentiment = []\n",
    "\n",
    "for scr in data['Score']:\n",
    "    if scr < 3:\n",
    "        sentiment.append(0)\n",
    "    else:\n",
    "        sentiment.append(1)\n",
    "data['Sentiment'] = sentiment"
   ]
  },
  {
   "cell_type": "code",
   "execution_count": 2,
   "metadata": {
    "ExecuteTime": {
     "end_time": "2018-10-02T08:53:30.091683Z",
     "start_time": "2018-10-02T08:53:27.297180Z"
    }
   },
   "outputs": [
    {
     "data": {
      "text/html": [
       "<div>\n",
       "<style scoped>\n",
       "    .dataframe tbody tr th:only-of-type {\n",
       "        vertical-align: middle;\n",
       "    }\n",
       "\n",
       "    .dataframe tbody tr th {\n",
       "        vertical-align: top;\n",
       "    }\n",
       "\n",
       "    .dataframe thead th {\n",
       "        text-align: right;\n",
       "    }\n",
       "</style>\n",
       "<table border=\"1\" class=\"dataframe\">\n",
       "  <thead>\n",
       "    <tr style=\"text-align: right;\">\n",
       "      <th></th>\n",
       "      <th>Id</th>\n",
       "      <th>ProductId</th>\n",
       "      <th>UserId</th>\n",
       "      <th>ProfileName</th>\n",
       "      <th>HelpfulnessNumerator</th>\n",
       "      <th>HelpfulnessDenominator</th>\n",
       "      <th>Score</th>\n",
       "      <th>Time</th>\n",
       "      <th>Summary</th>\n",
       "      <th>Text</th>\n",
       "      <th>Sentiment</th>\n",
       "    </tr>\n",
       "  </thead>\n",
       "  <tbody>\n",
       "    <tr>\n",
       "      <th>0</th>\n",
       "      <td>150524</td>\n",
       "      <td>0006641040</td>\n",
       "      <td>ACITT7DI6IDDL</td>\n",
       "      <td>shari zychinski</td>\n",
       "      <td>0</td>\n",
       "      <td>0</td>\n",
       "      <td>5</td>\n",
       "      <td>939340800</td>\n",
       "      <td>EVERY book is educational</td>\n",
       "      <td>witti littl book make son laugh loud recit car...</td>\n",
       "      <td>1</td>\n",
       "    </tr>\n",
       "    <tr>\n",
       "      <th>1</th>\n",
       "      <td>150501</td>\n",
       "      <td>0006641040</td>\n",
       "      <td>AJ46FKXOVC7NR</td>\n",
       "      <td>Nicholas A Mesiano</td>\n",
       "      <td>2</td>\n",
       "      <td>2</td>\n",
       "      <td>5</td>\n",
       "      <td>940809600</td>\n",
       "      <td>This whole series is great way to spend time w...</td>\n",
       "      <td>rememb see show air televis year ago child sis...</td>\n",
       "      <td>1</td>\n",
       "    </tr>\n",
       "    <tr>\n",
       "      <th>2</th>\n",
       "      <td>451856</td>\n",
       "      <td>B00004CXX9</td>\n",
       "      <td>AIUWLEQ1ADEG5</td>\n",
       "      <td>Elizabeth Medina</td>\n",
       "      <td>0</td>\n",
       "      <td>0</td>\n",
       "      <td>5</td>\n",
       "      <td>944092800</td>\n",
       "      <td>Entertainingl Funny!</td>\n",
       "      <td>beetlejuic well written movi everyth excel act...</td>\n",
       "      <td>1</td>\n",
       "    </tr>\n",
       "    <tr>\n",
       "      <th>3</th>\n",
       "      <td>230285</td>\n",
       "      <td>B00004RYGX</td>\n",
       "      <td>A344SMIA5JECGM</td>\n",
       "      <td>Vincent P. Ross</td>\n",
       "      <td>1</td>\n",
       "      <td>2</td>\n",
       "      <td>5</td>\n",
       "      <td>944438400</td>\n",
       "      <td>A modern day fairy tale</td>\n",
       "      <td>twist rumplestiskin captur film star michael k...</td>\n",
       "      <td>1</td>\n",
       "    </tr>\n",
       "    <tr>\n",
       "      <th>4</th>\n",
       "      <td>374359</td>\n",
       "      <td>B00004CI84</td>\n",
       "      <td>A344SMIA5JECGM</td>\n",
       "      <td>Vincent P. Ross</td>\n",
       "      <td>1</td>\n",
       "      <td>2</td>\n",
       "      <td>5</td>\n",
       "      <td>944438400</td>\n",
       "      <td>A modern day fairy tale</td>\n",
       "      <td>twist rumplestiskin captur film star michael k...</td>\n",
       "      <td>1</td>\n",
       "    </tr>\n",
       "  </tbody>\n",
       "</table>\n",
       "</div>"
      ],
      "text/plain": [
       "       Id   ProductId          UserId         ProfileName  \\\n",
       "0  150524  0006641040   ACITT7DI6IDDL     shari zychinski   \n",
       "1  150501  0006641040   AJ46FKXOVC7NR  Nicholas A Mesiano   \n",
       "2  451856  B00004CXX9   AIUWLEQ1ADEG5    Elizabeth Medina   \n",
       "3  230285  B00004RYGX  A344SMIA5JECGM     Vincent P. Ross   \n",
       "4  374359  B00004CI84  A344SMIA5JECGM     Vincent P. Ross   \n",
       "\n",
       "   HelpfulnessNumerator  HelpfulnessDenominator  Score       Time  \\\n",
       "0                     0                       0      5  939340800   \n",
       "1                     2                       2      5  940809600   \n",
       "2                     0                       0      5  944092800   \n",
       "3                     1                       2      5  944438400   \n",
       "4                     1                       2      5  944438400   \n",
       "\n",
       "                                             Summary  \\\n",
       "0                          EVERY book is educational   \n",
       "1  This whole series is great way to spend time w...   \n",
       "2                               Entertainingl Funny!   \n",
       "3                            A modern day fairy tale   \n",
       "4                            A modern day fairy tale   \n",
       "\n",
       "                                                Text  Sentiment  \n",
       "0  witti littl book make son laugh loud recit car...          1  \n",
       "1  rememb see show air televis year ago child sis...          1  \n",
       "2  beetlejuic well written movi everyth excel act...          1  \n",
       "3  twist rumplestiskin captur film star michael k...          1  \n",
       "4  twist rumplestiskin captur film star michael k...          1  "
      ]
     },
     "execution_count": 2,
     "metadata": {},
     "output_type": "execute_result"
    }
   ],
   "source": [
    "# loading pre processed data from hard disk\n",
    "import pickle\n",
    "\n",
    "with open('Saved/PreProcessed.pkl', 'rb') as f:\n",
    "    data = pickle.load(f)\n",
    "data.head()"
   ]
  },
  {
   "cell_type": "markdown",
   "metadata": {},
   "source": [
    "### Data Segmentation\n",
    "\n",
    "* First 30k review taken into consideration.\n",
    "* Then data is divided in 70-30 ratio for training and testing purposes.\n",
    "* Data is divided according to time."
   ]
  },
  {
   "cell_type": "code",
   "execution_count": 3,
   "metadata": {
    "ExecuteTime": {
     "end_time": "2018-10-02T08:53:52.180810Z",
     "start_time": "2018-10-02T08:53:52.173933Z"
    },
    "_uuid": "6a339fe9d6f80aedf8e8cc2b95e1402b19a6b0cb"
   },
   "outputs": [],
   "source": [
    "te = int(3000 * 7)\n",
    "X_train = data['Text'][0:te]\n",
    "Y_train = data['Sentiment'][0:te]\n",
    "X_test = data['Text'][te:30000]\n",
    "Y_test = data['Sentiment'][te:30000]"
   ]
  },
  {
   "cell_type": "markdown",
   "metadata": {
    "_uuid": "6f316ce32a3bb0fef4e3aa053f67133373c8a4a4"
   },
   "source": [
    "# Bag of Words\n",
    "\n",
    "* Trained bag of words by using training data. Transformed training and testing data to numerical vectors.\n",
    "* Considered only top most 1000 important words.\n",
    "* Each sentence is converted into a vector of size 1000."
   ]
  },
  {
   "cell_type": "code",
   "execution_count": 5,
   "metadata": {
    "ExecuteTime": {
     "end_time": "2018-10-01T14:36:26.142470Z",
     "start_time": "2018-10-01T14:36:25.297042Z"
    },
    "_uuid": "80cdd79d76e82a14ec7969cd18c8c61c7f0be15c"
   },
   "outputs": [],
   "source": [
    "# Training Bag of words\n",
    "from sklearn.feature_extraction.text import CountVectorizer\n",
    "\n",
    "bow_model = CountVectorizer(max_features=1000, dtype=\"float\")\n",
    "bow_train = bow_model.fit_transform(X_train)\n",
    "bow_test = bow_model.transform(X_test)"
   ]
  },
  {
   "cell_type": "markdown",
   "metadata": {
    "_uuid": "04e8e63899ccdfdd72d1dc4dccc1e275d0bbe5f3"
   },
   "source": [
    "## KNN\n",
    "\n",
    "* Training Logistic Regression using KNeighborsClassifier from sklearn.neighbors module.\n",
    "* Trained on bag of words data."
   ]
  },
  {
   "cell_type": "markdown",
   "metadata": {},
   "source": [
    "## Brute force \n",
    "* brute force algorithm used to compute the nearest neighbors. "
   ]
  },
  {
   "cell_type": "markdown",
   "metadata": {},
   "source": [
    "#### Grid Search\n",
    "\n",
    "* Technique for searching for optimal depth."
   ]
  },
  {
   "cell_type": "code",
   "execution_count": 5,
   "metadata": {
    "ExecuteTime": {
     "end_time": "2018-10-01T11:20:47.391825Z",
     "start_time": "2018-10-01T11:20:46.400688Z"
    },
    "_uuid": "cc09f4023dd015c4eca466fc2ab9a57621f9e7a6"
   },
   "outputs": [],
   "source": [
    "# searching for best hyperparameter\n",
    "from sklearn.neighbors import KNeighborsClassifier\n",
    "from sklearn.model_selection import GridSearchCV\n",
    "from sklearn.model_selection import TimeSeriesSplit\n",
    "tscv = TimeSeriesSplit(n_splits=5)\n",
    "\n",
    "parameters = {'n_neighbors':[5, 20, 45]}\n",
    "classifier_ = KNeighborsClassifier(algorithm='brute')\n",
    "\n",
    "search_hyp = GridSearchCV(classifier_, parameters, cv=tscv, n_jobs=3)"
   ]
  },
  {
   "cell_type": "code",
   "execution_count": 6,
   "metadata": {
    "ExecuteTime": {
     "end_time": "2018-10-01T11:21:46.686878Z",
     "start_time": "2018-10-01T11:21:00.045926Z"
    },
    "_uuid": "92109ed7abff5bf6cd8e7b609e6cbf99541ed29e",
    "scrolled": true
   },
   "outputs": [
    {
     "name": "stdout",
     "output_type": "stream",
     "text": [
      "best parameters: \n",
      "{'n_neighbors': 45}\n"
     ]
    }
   ],
   "source": [
    "search_hyp.fit(bow_train, Y_train)\n",
    "print(\"best parameters: \")\n",
    "print(search_hyp.best_params_)\n",
    "classifier = search_hyp.best_estimator_"
   ]
  },
  {
   "cell_type": "code",
   "execution_count": 7,
   "metadata": {
    "ExecuteTime": {
     "end_time": "2018-10-01T11:21:50.189107Z",
     "start_time": "2018-10-01T11:21:49.363078Z"
    }
   },
   "outputs": [
    {
     "data": {
      "image/png": "[encoded data removed]",
      "text/plain": [
       "<Figure size 432x288 with 1 Axes>"
      ]
     },
     "metadata": {
      "needs_background": "light"
     },
     "output_type": "display_data"
    }
   ],
   "source": [
    "scores = [(1-i)*100 for i in search_hyp.cv_results_['mean_test_score']]\n",
    "    \n",
    "plt.plot(parameters['n_neighbors'], scores)\n",
    "plt.title('Error plot')\n",
    "plt.xlabel('n_neighbors')\n",
    "plt.ylabel('Error') \n",
    "plt.show()"
   ]
  },
  {
   "cell_type": "code",
   "execution_count": 8,
   "metadata": {
    "ExecuteTime": {
     "end_time": "2018-10-01T11:22:18.813874Z",
     "start_time": "2018-10-01T11:21:50.812020Z"
    },
    "_uuid": "eaa2348f932a98fa9f8ad1b05d55b36dd8ef7c15"
   },
   "outputs": [],
   "source": [
    "# performence metrics\n",
    "\n",
    "from sklearn import metrics\n",
    "pred = classifier.predict(bow_test)\n",
    "\n",
    "tr_score = classifier.score(bow_train, Y_train)\n",
    "accuracy = metrics.accuracy_score(Y_test, pred)\n",
    "pre = metrics.precision_score(Y_test, pred)\n",
    "rec = metrics.recall_score(Y_test, pred)\n",
    "f1 = metrics.f1_score(Y_test, pred)"
   ]
  },
  {
   "cell_type": "code",
   "execution_count": 9,
   "metadata": {
    "ExecuteTime": {
     "end_time": "2018-10-01T11:22:18.922030Z",
     "start_time": "2018-10-01T11:22:18.815963Z"
    }
   },
   "outputs": [],
   "source": [
    "from prettytable import PrettyTable\n",
    "tb1 = PrettyTable()\n",
    "tb1.field_names = ['Algorithm', 'n_neighbors', 'Train accuracy', \n",
    "                  'Test accuracy', 'Precision', 'Recall', 'f1-score'] \n",
    "tb1.add_row(['Bruteforce', search_hyp.best_params_['n_neighbors'], \n",
    "             round(tr_score, 2), round(accuracy, 2), \n",
    "             round(pre, 2), round(rec, 2), round(f1, 2)])"
   ]
  },
  {
   "cell_type": "code",
   "execution_count": 10,
   "metadata": {
    "ExecuteTime": {
     "end_time": "2018-10-01T11:22:19.576802Z",
     "start_time": "2018-10-01T11:22:18.926341Z"
    },
    "_uuid": "830a7fa59c3cecd8f2085e9e3374d67a74aa6dd0"
   },
   "outputs": [
    {
     "data": {
      "image/png": "[encoded data removed]",
      "text/plain": [
       "<Figure size 432x288 with 2 Axes>"
      ]
     },
     "metadata": {
      "needs_background": "light"
     },
     "output_type": "display_data"
    }
   ],
   "source": [
    "from sklearn.metrics import confusion_matrix\n",
    "cm = confusion_matrix(Y_test, pred)\n",
    "sns.heatmap(cm, annot=True, fmt='d')\n",
    "plt.show()"
   ]
  },
  {
   "cell_type": "markdown",
   "metadata": {},
   "source": [
    "## Kd Tree \n",
    "* kd tree algorithm used to compute the nearest neighbors. "
   ]
  },
  {
   "cell_type": "markdown",
   "metadata": {},
   "source": [
    "#### Grid Search\n",
    "\n",
    "* Technique for searching for optimal depth."
   ]
  },
  {
   "cell_type": "code",
   "execution_count": 12,
   "metadata": {
    "ExecuteTime": {
     "end_time": "2018-10-01T11:22:25.358261Z",
     "start_time": "2018-10-01T11:22:25.351747Z"
    },
    "_uuid": "cc09f4023dd015c4eca466fc2ab9a57621f9e7a6"
   },
   "outputs": [],
   "source": [
    "# searching for best hyperparameter\n",
    "from sklearn.neighbors import KNeighborsClassifier\n",
    "from sklearn.model_selection import GridSearchCV\n",
    "from sklearn.model_selection import TimeSeriesSplit\n",
    "tscv = TimeSeriesSplit(n_splits=5)\n",
    "\n",
    "parameters = {'n_neighbors':[5, 20, 45]}\n",
    "classifier_ = KNeighborsClassifier(algorithm='kd_tree', weights='distance')\n",
    "\n",
    "search_hyp = GridSearchCV(classifier_, parameters, cv=tscv, n_jobs=3)"
   ]
  },
  {
   "cell_type": "code",
   "execution_count": 13,
   "metadata": {
    "ExecuteTime": {
     "end_time": "2018-10-01T11:43:07.789139Z",
     "start_time": "2018-10-01T11:22:28.988999Z"
    },
    "_uuid": "92109ed7abff5bf6cd8e7b609e6cbf99541ed29e",
    "scrolled": false
   },
   "outputs": [
    {
     "name": "stdout",
     "output_type": "stream",
     "text": [
      "best parameters: \n",
      "{'n_neighbors': 5}\n"
     ]
    }
   ],
   "source": [
    "from sklearn.decomposition import TruncatedSVD\n",
    "tsvd = TruncatedSVD(n_components=500)\n",
    "tsvd_train = tsvd.fit_transform(bow_train)\n",
    "tsvd_test = tsvd.transform(bow_test)\n",
    "\n",
    "\n",
    "search_hyp.fit(tsvd_train, Y_train)\n",
    "print(\"best parameters: \")\n",
    "print(search_hyp.best_params_)\n",
    "classifier = search_hyp.best_estimator_"
   ]
  },
  {
   "cell_type": "code",
   "execution_count": 14,
   "metadata": {
    "ExecuteTime": {
     "end_time": "2018-10-01T11:43:14.963325Z",
     "start_time": "2018-10-01T11:43:14.786110Z"
    }
   },
   "outputs": [
    {
     "data": {
      "image/png": "[encoded data removed]",
      "text/plain": [
       "<Figure size 432x288 with 1 Axes>"
      ]
     },
     "metadata": {
      "needs_background": "light"
     },
     "output_type": "display_data"
    }
   ],
   "source": [
    "scores = [(1-i)*100 for i in search_hyp.cv_results_['mean_test_score']]\n",
    "    \n",
    "plt.plot(parameters['n_neighbors'], scores)\n",
    "plt.title('Error plot')\n",
    "plt.xlabel('n_neighbors')\n",
    "plt.ylabel('Error') \n",
    "plt.show()"
   ]
  },
  {
   "cell_type": "code",
   "execution_count": 15,
   "metadata": {
    "ExecuteTime": {
     "end_time": "2018-10-01T11:54:03.118609Z",
     "start_time": "2018-10-01T11:43:19.828277Z"
    },
    "_uuid": "eaa2348f932a98fa9f8ad1b05d55b36dd8ef7c15"
   },
   "outputs": [],
   "source": [
    "# performence metrics\n",
    "\n",
    "from sklearn import metrics\n",
    "pred = classifier.predict(tsvd_test)\n",
    "\n",
    "tr_score = classifier.score(tsvd_train, Y_train)\n",
    "accuracy = metrics.accuracy_score(Y_test, pred)\n",
    "pre = metrics.precision_score(Y_test, pred)\n",
    "rec = metrics.recall_score(Y_test, pred)\n",
    "f1 = metrics.f1_score(Y_test, pred)"
   ]
  },
  {
   "cell_type": "code",
   "execution_count": 16,
   "metadata": {
    "ExecuteTime": {
     "end_time": "2018-10-01T11:54:03.123601Z",
     "start_time": "2018-10-01T11:54:03.120494Z"
    }
   },
   "outputs": [],
   "source": [
    "tb1.add_row(['kd_tree', search_hyp.best_params_['n_neighbors'], \n",
    "             round(tr_score, 2), round(accuracy, 2), \n",
    "             round(pre, 2), round(rec, 2), round(f1, 2)])"
   ]
  },
  {
   "cell_type": "code",
   "execution_count": 17,
   "metadata": {
    "ExecuteTime": {
     "end_time": "2018-10-01T11:54:03.506688Z",
     "start_time": "2018-10-01T11:54:03.125162Z"
    },
    "_uuid": "830a7fa59c3cecd8f2085e9e3374d67a74aa6dd0"
   },
   "outputs": [
    {
     "data": {
      "image/png": "[encoded data removed]",
      "text/plain": [
       "<Figure size 432x288 with 2 Axes>"
      ]
     },
     "metadata": {
      "needs_background": "light"
     },
     "output_type": "display_data"
    }
   ],
   "source": [
    "from sklearn.metrics import confusion_matrix\n",
    "cm = confusion_matrix(Y_test, pred)\n",
    "sns.heatmap(cm, annot=True, fmt='d')\n",
    "plt.show()"
   ]
  },
  {
   "cell_type": "markdown",
   "metadata": {
    "_uuid": "98aa06dca82803f0f1ed6928077138f5783b7604"
   },
   "source": [
    "# Tf-Idf\n",
    "\n",
    "* Trained tf-idf by using training data. Transformed training and testing data to numerical vectors.\n",
    "* TfidfVectorizer from sklearn is used.\n",
    "* Considered only top most 1000 important words.\n",
    "* Each sentence is converted into a vector of size 1000."
   ]
  },
  {
   "cell_type": "code",
   "execution_count": 4,
   "metadata": {
    "ExecuteTime": {
     "end_time": "2018-10-02T08:54:04.496889Z",
     "start_time": "2018-10-02T08:54:02.966664Z"
    },
    "_uuid": "e74668b48d3ff78ae0fce6547611c3b35cc35305"
   },
   "outputs": [],
   "source": [
    "# Training tf-idf\n",
    "from sklearn.feature_extraction.text import TfidfVectorizer\n",
    "\n",
    "tfidf_model = TfidfVectorizer(max_features=1000)\n",
    "tfidf_train = tfidf_model.fit_transform(X_train)\n",
    "tfidf_test = tfidf_model.transform(X_test)"
   ]
  },
  {
   "cell_type": "markdown",
   "metadata": {
    "_uuid": "04e8e63899ccdfdd72d1dc4dccc1e275d0bbe5f3"
   },
   "source": [
    "## KNN\n",
    "\n",
    "* Training Logistic Regression using KNeighborsClassifier from sklearn.neighbors module.\n",
    "* Trained on Tfidf data."
   ]
  },
  {
   "cell_type": "markdown",
   "metadata": {},
   "source": [
    "## Brute force \n",
    "* brute force algorithm used to compute the nearest neighbors. "
   ]
  },
  {
   "cell_type": "markdown",
   "metadata": {},
   "source": [
    "#### Grid Search\n",
    "\n",
    "* Technique for searching for optimal depth."
   ]
  },
  {
   "cell_type": "code",
   "execution_count": 19,
   "metadata": {
    "ExecuteTime": {
     "end_time": "2018-10-01T12:08:54.045534Z",
     "start_time": "2018-10-01T12:08:54.038222Z"
    },
    "_uuid": "cc09f4023dd015c4eca466fc2ab9a57621f9e7a6"
   },
   "outputs": [],
   "source": [
    "# searching for best hyperparameter\n",
    "from sklearn.neighbors import KNeighborsClassifier\n",
    "from sklearn.model_selection import GridSearchCV\n",
    "from sklearn.model_selection import TimeSeriesSplit\n",
    "tscv = TimeSeriesSplit(n_splits=5)\n",
    "\n",
    "parameters = {'n_neighbors':[5, 20, 45]}\n",
    "classifier_ = KNeighborsClassifier(algorithm='brute')\n",
    "\n",
    "search_hyp = GridSearchCV(classifier_, parameters, cv=tscv, n_jobs=3)"
   ]
  },
  {
   "cell_type": "code",
   "execution_count": 20,
   "metadata": {
    "ExecuteTime": {
     "end_time": "2018-10-01T12:09:48.466747Z",
     "start_time": "2018-10-01T12:08:59.637683Z"
    },
    "_uuid": "92109ed7abff5bf6cd8e7b609e6cbf99541ed29e",
    "scrolled": true
   },
   "outputs": [
    {
     "name": "stdout",
     "output_type": "stream",
     "text": [
      "best parameters: \n",
      "{'n_neighbors': 45}\n"
     ]
    }
   ],
   "source": [
    "search_hyp.fit(tfidf_train, Y_train)\n",
    "print(\"best parameters: \")\n",
    "print(search_hyp.best_params_)\n",
    "classifier = search_hyp.best_estimator_"
   ]
  },
  {
   "cell_type": "code",
   "execution_count": 21,
   "metadata": {
    "ExecuteTime": {
     "end_time": "2018-10-01T12:09:48.607261Z",
     "start_time": "2018-10-01T12:09:48.468842Z"
    }
   },
   "outputs": [
    {
     "data": {
      "image/png": "[encoded data removed]",
      "text/plain": [
       "<Figure size 432x288 with 1 Axes>"
      ]
     },
     "metadata": {
      "needs_background": "light"
     },
     "output_type": "display_data"
    }
   ],
   "source": [
    "scores = [(1-i)*100 for i in search_hyp.cv_results_['mean_test_score']]\n",
    "    \n",
    "plt.plot(parameters['n_neighbors'], scores)\n",
    "plt.title('Error plot')\n",
    "plt.xlabel('n_neighbors')\n",
    "plt.ylabel('Error') \n",
    "plt.show()"
   ]
  },
  {
   "cell_type": "code",
   "execution_count": 22,
   "metadata": {
    "ExecuteTime": {
     "end_time": "2018-10-01T12:10:17.432561Z",
     "start_time": "2018-10-01T12:09:48.608691Z"
    },
    "_uuid": "eaa2348f932a98fa9f8ad1b05d55b36dd8ef7c15"
   },
   "outputs": [],
   "source": [
    "# performence metrics\n",
    "\n",
    "from sklearn import metrics\n",
    "pred = classifier.predict(tfidf_test)\n",
    "\n",
    "tr_score = classifier.score(tfidf_train, Y_train)\n",
    "accuracy = metrics.accuracy_score(Y_test, pred)\n",
    "pre = metrics.precision_score(Y_test, pred)\n",
    "rec = metrics.recall_score(Y_test, pred)\n",
    "f1 = metrics.f1_score(Y_test, pred)"
   ]
  },
  {
   "cell_type": "code",
   "execution_count": 23,
   "metadata": {
    "ExecuteTime": {
     "end_time": "2018-10-01T12:10:17.438951Z",
     "start_time": "2018-10-01T12:10:17.434252Z"
    }
   },
   "outputs": [],
   "source": [
    "from prettytable import PrettyTable\n",
    "tb2 = PrettyTable()\n",
    "tb2.field_names = ['Algorithm', 'n_neighbors', 'Train accuracy', \n",
    "                  'Test accuracy', 'Precision', 'Recall', 'f1-score'] \n",
    "tb2.add_row(['Bruteforce', search_hyp.best_params_['n_neighbors'], \n",
    "             round(tr_score, 2), round(accuracy, 2), \n",
    "             round(pre, 2), round(rec, 2), round(f1, 2)])"
   ]
  },
  {
   "cell_type": "code",
   "execution_count": 24,
   "metadata": {
    "ExecuteTime": {
     "end_time": "2018-10-01T12:10:17.814746Z",
     "start_time": "2018-10-01T12:10:17.441532Z"
    },
    "_uuid": "830a7fa59c3cecd8f2085e9e3374d67a74aa6dd0"
   },
   "outputs": [
    {
     "data": {
      "image/png": "[encoded data removed]",
      "text/plain": [
       "<Figure size 432x288 with 2 Axes>"
      ]
     },
     "metadata": {
      "needs_background": "light"
     },
     "output_type": "display_data"
    }
   ],
   "source": [
    "from sklearn.metrics import confusion_matrix\n",
    "cm = confusion_matrix(Y_test, pred)\n",
    "sns.heatmap(cm, annot=True, fmt='d')\n",
    "plt.show()"
   ]
  },
  {
   "cell_type": "markdown",
   "metadata": {},
   "source": [
    "## Kd Tree \n",
    "* kd tree algorithm used to compute the nearest neighbors. "
   ]
  },
  {
   "cell_type": "markdown",
   "metadata": {},
   "source": [
    "#### Grid Search\n",
    "\n",
    "* Technique for searching for optimal depth."
   ]
  },
  {
   "cell_type": "code",
   "execution_count": 25,
   "metadata": {
    "ExecuteTime": {
     "end_time": "2018-10-01T12:10:17.839080Z",
     "start_time": "2018-10-01T12:10:17.833912Z"
    },
    "_uuid": "cc09f4023dd015c4eca466fc2ab9a57621f9e7a6"
   },
   "outputs": [],
   "source": [
    "# searching for best hyperparameter\n",
    "from sklearn.neighbors import KNeighborsClassifier\n",
    "from sklearn.model_selection import GridSearchCV\n",
    "from sklearn.model_selection import TimeSeriesSplit\n",
    "tscv = TimeSeriesSplit(n_splits=5)\n",
    "\n",
    "parameters = {'n_neighbors':[5, 20, 45]}\n",
    "classifier_ = KNeighborsClassifier(algorithm='kd_tree', weights='distance')\n",
    "\n",
    "search_hyp = GridSearchCV(classifier_, parameters, cv=tscv, n_jobs=3)"
   ]
  },
  {
   "cell_type": "code",
   "execution_count": 26,
   "metadata": {
    "ExecuteTime": {
     "end_time": "2018-10-01T12:29:50.127085Z",
     "start_time": "2018-10-01T12:10:17.843812Z"
    },
    "_uuid": "92109ed7abff5bf6cd8e7b609e6cbf99541ed29e",
    "scrolled": false
   },
   "outputs": [
    {
     "name": "stdout",
     "output_type": "stream",
     "text": [
      "best parameters: \n",
      "{'n_neighbors': 45}\n"
     ]
    }
   ],
   "source": [
    "from sklearn.decomposition import TruncatedSVD\n",
    "tsvd = TruncatedSVD(n_components=500)\n",
    "tsvd_train = tsvd.fit_transform(tfidf_train)\n",
    "tsvd_test = tsvd.transform(tfidf_test)\n",
    "\n",
    "\n",
    "search_hyp.fit(tsvd_train, Y_train)\n",
    "print(\"best parameters: \")\n",
    "print(search_hyp.best_params_)\n",
    "classifier = search_hyp.best_estimator_"
   ]
  },
  {
   "cell_type": "code",
   "execution_count": 27,
   "metadata": {
    "ExecuteTime": {
     "end_time": "2018-10-01T12:29:50.271645Z",
     "start_time": "2018-10-01T12:29:50.129222Z"
    }
   },
   "outputs": [
    {
     "data": {
      "image/png": "[encoded data removed]",
      "text/plain": [
       "<Figure size 432x288 with 1 Axes>"
      ]
     },
     "metadata": {
      "needs_background": "light"
     },
     "output_type": "display_data"
    }
   ],
   "source": [
    "scores = [(1-i)*100 for i in search_hyp.cv_results_['mean_test_score']]\n",
    "    \n",
    "plt.plot(parameters['n_neighbors'], scores)\n",
    "plt.title('Error plot')\n",
    "plt.xlabel('n_neighbors')\n",
    "plt.ylabel('Error') \n",
    "plt.show()"
   ]
  },
  {
   "cell_type": "code",
   "execution_count": 28,
   "metadata": {
    "ExecuteTime": {
     "end_time": "2018-10-01T12:40:43.735607Z",
     "start_time": "2018-10-01T12:29:50.273477Z"
    },
    "_uuid": "eaa2348f932a98fa9f8ad1b05d55b36dd8ef7c15"
   },
   "outputs": [],
   "source": [
    "# performence metrics\n",
    "\n",
    "from sklearn import metrics\n",
    "pred = classifier.predict(tsvd_test)\n",
    "\n",
    "tr_score = classifier.score(tsvd_train, Y_train)\n",
    "accuracy = metrics.accuracy_score(Y_test, pred)\n",
    "pre = metrics.precision_score(Y_test, pred)\n",
    "rec = metrics.recall_score(Y_test, pred)\n",
    "f1 = metrics.f1_score(Y_test, pred)"
   ]
  },
  {
   "cell_type": "code",
   "execution_count": 29,
   "metadata": {
    "ExecuteTime": {
     "end_time": "2018-10-01T12:40:43.741159Z",
     "start_time": "2018-10-01T12:40:43.737615Z"
    }
   },
   "outputs": [],
   "source": [
    "tb2.add_row(['kd_tree', search_hyp.best_params_['n_neighbors'], \n",
    "             round(tr_score, 2), round(accuracy, 2), \n",
    "             round(pre, 2), round(rec, 2), round(f1, 2)])"
   ]
  },
  {
   "cell_type": "code",
   "execution_count": 30,
   "metadata": {
    "ExecuteTime": {
     "end_time": "2018-10-01T12:40:46.485214Z",
     "start_time": "2018-10-01T12:40:43.744977Z"
    },
    "_uuid": "830a7fa59c3cecd8f2085e9e3374d67a74aa6dd0",
    "scrolled": true
   },
   "outputs": [
    {
     "data": {
      "image/png": "[encoded data removed]",
      "text/plain": [
       "<Figure size 432x288 with 2 Axes>"
      ]
     },
     "metadata": {
      "needs_background": "light"
     },
     "output_type": "display_data"
    }
   ],
   "source": [
    "from sklearn.metrics import confusion_matrix\n",
    "cm = confusion_matrix(Y_test, pred)\n",
    "sns.heatmap(cm, annot=True, fmt='d')\n",
    "plt.show()"
   ]
  },
  {
   "cell_type": "markdown",
   "metadata": {},
   "source": [
    "# Word2vec\n",
    "\n",
    "* Trained own word2vec using gensim module. Considered words which has frequency more than 5 in whole data.\n",
    "* Trained word2vec using Word2vec function from gensim.models.\n",
    "* Trained for vector of size 150. And converted each word into a vector of size 150.\n",
    "* Added all vectors of a sentence and divided with total number of vectors in sentence. So that we can get average word2vec value for each sentence."
   ]
  },
  {
   "cell_type": "code",
   "execution_count": 5,
   "metadata": {
    "ExecuteTime": {
     "end_time": "2018-10-02T08:54:40.554070Z",
     "start_time": "2018-10-02T08:54:26.923994Z"
    }
   },
   "outputs": [],
   "source": [
    "import warnings\n",
    "warnings.filterwarnings(\"ignore\")\n",
    "\n",
    "# training word2vec on training data\n",
    "from gensim.models import Word2Vec\n",
    "sentences = []\n",
    "for row in X_train:\n",
    "    sentences.append([word for word in row.split()])\n",
    "\n",
    "w2v = Word2Vec(sentences, min_count=5, size=150, workers=3)\n",
    "avgw2v_train = []\n",
    "for row in sentences:\n",
    "    te = [0 for i in range(150)]\n",
    "    num = 0\n",
    "    for word in row:\n",
    "        try:\n",
    "            te += w2v[word]\n",
    "            num += 1\n",
    "        except:\n",
    "            pass\n",
    "    avgw2v_train.append(te/num)"
   ]
  },
  {
   "cell_type": "code",
   "execution_count": 6,
   "metadata": {
    "ExecuteTime": {
     "end_time": "2018-10-02T08:54:44.006711Z",
     "start_time": "2018-10-02T08:54:40.556142Z"
    }
   },
   "outputs": [],
   "source": [
    "# converting test data\n",
    "\n",
    "sentences = []\n",
    "for row in X_test:\n",
    "    sentences.append([word for word in row.split()])\n",
    "\n",
    "avgw2v_test = []\n",
    "for row in sentences:\n",
    "    te = [0 for i in range(150)]\n",
    "    num = 0\n",
    "    for word in row:\n",
    "        try:\n",
    "            te += w2v[word]\n",
    "            num += 1\n",
    "        except:\n",
    "            pass\n",
    "    avgw2v_test.append(te/num)"
   ]
  },
  {
   "cell_type": "markdown",
   "metadata": {
    "_uuid": "04e8e63899ccdfdd72d1dc4dccc1e275d0bbe5f3"
   },
   "source": [
    "## KNN\n",
    "\n",
    "* Training Logistic Regression using KNeighborsClassifier from sklearn.neighbors module.\n",
    "* Trained on average word2vec data."
   ]
  },
  {
   "cell_type": "markdown",
   "metadata": {},
   "source": [
    "## Brute force \n",
    "* brute force algorithm used to compute the nearest neighbors. "
   ]
  },
  {
   "cell_type": "markdown",
   "metadata": {},
   "source": [
    "#### Grid Search\n",
    "\n",
    "* Technique for searching for optimal depth."
   ]
  },
  {
   "cell_type": "code",
   "execution_count": 7,
   "metadata": {
    "ExecuteTime": {
     "end_time": "2018-10-02T10:16:31.009677Z",
     "start_time": "2018-10-02T10:16:31.005976Z"
    },
    "_uuid": "cc09f4023dd015c4eca466fc2ab9a57621f9e7a6"
   },
   "outputs": [],
   "source": [
    "# searching for best hyperparameter\n",
    "from sklearn.neighbors import KNeighborsClassifier\n",
    "from sklearn.model_selection import GridSearchCV\n",
    "from sklearn.model_selection import TimeSeriesSplit\n",
    "tscv = TimeSeriesSplit(n_splits=5)\n",
    "\n",
    "parameters = {'n_neighbors':[5, 20, 45]}\n",
    "classifier_ = KNeighborsClassifier(algorithm='brute')\n",
    "\n",
    "search_hyp = GridSearchCV(classifier_, parameters, cv=tscv, n_jobs=2)"
   ]
  },
  {
   "cell_type": "code",
   "execution_count": 8,
   "metadata": {
    "ExecuteTime": {
     "end_time": "2018-10-02T10:17:14.579453Z",
     "start_time": "2018-10-02T10:16:31.011572Z"
    },
    "_uuid": "92109ed7abff5bf6cd8e7b609e6cbf99541ed29e",
    "scrolled": true
   },
   "outputs": [
    {
     "name": "stdout",
     "output_type": "stream",
     "text": [
      "best parameters: \n",
      "{'n_neighbors': 45}\n"
     ]
    }
   ],
   "source": [
    "search_hyp.fit(avgw2v_train, Y_train)\n",
    "print(\"best parameters: \")\n",
    "print(search_hyp.best_params_)\n",
    "classifier = search_hyp.best_estimator_"
   ]
  },
  {
   "cell_type": "code",
   "execution_count": 9,
   "metadata": {
    "ExecuteTime": {
     "end_time": "2018-10-02T10:17:14.765094Z",
     "start_time": "2018-10-02T10:17:14.586029Z"
    }
   },
   "outputs": [
    {
     "data": {
      "image/png": "[encoded data removed]",
      "text/plain": [
       "<Figure size 432x288 with 1 Axes>"
      ]
     },
     "metadata": {
      "needs_background": "light"
     },
     "output_type": "display_data"
    }
   ],
   "source": [
    "scores = [(1-i)*100 for i in search_hyp.cv_results_['mean_test_score']]\n",
    "    \n",
    "plt.plot(parameters['n_neighbors'], scores)\n",
    "plt.title('Error plot')\n",
    "plt.xlabel('n_neighbors')\n",
    "plt.ylabel('Error') \n",
    "plt.show()"
   ]
  },
  {
   "cell_type": "code",
   "execution_count": 10,
   "metadata": {
    "ExecuteTime": {
     "end_time": "2018-10-02T10:17:29.776951Z",
     "start_time": "2018-10-02T10:17:14.766932Z"
    },
    "_uuid": "eaa2348f932a98fa9f8ad1b05d55b36dd8ef7c15"
   },
   "outputs": [],
   "source": [
    "# performence metrics\n",
    "\n",
    "from sklearn import metrics\n",
    "pred = classifier.predict(avgw2v_test)\n",
    "\n",
    "tr_score = classifier.score(avgw2v_train, Y_train)\n",
    "accuracy = metrics.accuracy_score(Y_test, pred)\n",
    "pre = metrics.precision_score(Y_test, pred)\n",
    "rec = metrics.recall_score(Y_test, pred)\n",
    "f1 = metrics.f1_score(Y_test, pred)"
   ]
  },
  {
   "cell_type": "code",
   "execution_count": 11,
   "metadata": {
    "ExecuteTime": {
     "end_time": "2018-10-02T10:17:29.783267Z",
     "start_time": "2018-10-02T10:17:29.778935Z"
    }
   },
   "outputs": [],
   "source": [
    "from prettytable import PrettyTable\n",
    "tb3 = PrettyTable()\n",
    "tb3.field_names = ['Algorithm', 'n_neighbors', 'Train accuracy', \n",
    "                  'Test accuracy', 'Precision', 'Recall', 'f1-score'] \n",
    "tb3.add_row(['Bruteforce', search_hyp.best_params_['n_neighbors'], \n",
    "             round(tr_score, 2), round(accuracy, 2), \n",
    "             round(pre, 2), round(rec, 2), round(f1, 2)])"
   ]
  },
  {
   "cell_type": "code",
   "execution_count": 12,
   "metadata": {
    "ExecuteTime": {
     "end_time": "2018-10-02T10:17:30.128292Z",
     "start_time": "2018-10-02T10:17:29.785296Z"
    },
    "_uuid": "830a7fa59c3cecd8f2085e9e3374d67a74aa6dd0"
   },
   "outputs": [
    {
     "data": {
      "image/png": "[encoded data removed]",
      "text/plain": [
       "<Figure size 432x288 with 2 Axes>"
      ]
     },
     "metadata": {
      "needs_background": "light"
     },
     "output_type": "display_data"
    }
   ],
   "source": [
    "from sklearn.metrics import confusion_matrix\n",
    "cm = confusion_matrix(Y_test, pred)\n",
    "sns.heatmap(cm, annot=True, fmt='d')\n",
    "plt.show()"
   ]
  },
  {
   "cell_type": "markdown",
   "metadata": {},
   "source": [
    "## Kd Tree \n",
    "* kd tree algorithm used to compute the nearest neighbors. "
   ]
  },
  {
   "cell_type": "markdown",
   "metadata": {},
   "source": [
    "#### Grid Search\n",
    "\n",
    "* Technique for searching for optimal depth."
   ]
  },
  {
   "cell_type": "code",
   "execution_count": 13,
   "metadata": {
    "ExecuteTime": {
     "end_time": "2018-10-02T10:17:30.144251Z",
     "start_time": "2018-10-02T10:17:30.139884Z"
    },
    "_uuid": "cc09f4023dd015c4eca466fc2ab9a57621f9e7a6"
   },
   "outputs": [],
   "source": [
    "# searching for best hyperparameter\n",
    "from sklearn.neighbors import KNeighborsClassifier\n",
    "from sklearn.model_selection import GridSearchCV\n",
    "from sklearn.model_selection import TimeSeriesSplit\n",
    "tscv = TimeSeriesSplit(n_splits=5)\n",
    "\n",
    "parameters = {'n_neighbors':[5, 20, 45]}\n",
    "classifier_ = KNeighborsClassifier(algorithm='kd_tree', weights='distance')\n",
    "\n",
    "search_hyp = GridSearchCV(classifier_, parameters, cv=tscv, n_jobs=2)"
   ]
  },
  {
   "cell_type": "code",
   "execution_count": 15,
   "metadata": {
    "ExecuteTime": {
     "end_time": "2018-10-02T10:21:29.754264Z",
     "start_time": "2018-10-02T10:17:30.146010Z"
    },
    "_uuid": "92109ed7abff5bf6cd8e7b609e6cbf99541ed29e",
    "scrolled": false
   },
   "outputs": [
    {
     "name": "stdout",
     "output_type": "stream",
     "text": [
      "best parameters: \n",
      "{'n_neighbors': 45}\n"
     ]
    }
   ],
   "source": [
    "from sklearn.decomposition import TruncatedSVD\n",
    "tsvd = TruncatedSVD(n_components=100)\n",
    "tsvd_train = tsvd.fit_transform(avgw2v_train)\n",
    "tsvd_test = tsvd.transform(avgw2v_test)\n",
    "\n",
    "\n",
    "search_hyp.fit(tsvd_train, Y_train)\n",
    "print(\"best parameters: \")\n",
    "print(search_hyp.best_params_)\n",
    "classifier = search_hyp.best_estimator_"
   ]
  },
  {
   "cell_type": "code",
   "execution_count": 16,
   "metadata": {
    "ExecuteTime": {
     "end_time": "2018-10-02T10:21:29.914215Z",
     "start_time": "2018-10-02T10:21:29.756535Z"
    }
   },
   "outputs": [
    {
     "data": {
      "image/png": "[encoded data removed]",
      "text/plain": [
       "<Figure size 432x288 with 1 Axes>"
      ]
     },
     "metadata": {
      "needs_background": "light"
     },
     "output_type": "display_data"
    }
   ],
   "source": [
    "scores = [(1-i)*100 for i in search_hyp.cv_results_['mean_test_score']]\n",
    "    \n",
    "plt.plot(parameters['n_neighbors'], scores)\n",
    "plt.title('Error plot')\n",
    "plt.xlabel('n_neighbors')\n",
    "plt.ylabel('Error') \n",
    "plt.show()"
   ]
  },
  {
   "cell_type": "code",
   "execution_count": 18,
   "metadata": {
    "ExecuteTime": {
     "end_time": "2018-10-02T10:23:25.135498Z",
     "start_time": "2018-10-02T10:21:29.916223Z"
    },
    "_uuid": "eaa2348f932a98fa9f8ad1b05d55b36dd8ef7c15"
   },
   "outputs": [],
   "source": [
    "# performence metrics\n",
    "\n",
    "from sklearn import metrics\n",
    "pred = classifier.predict(tsvd_test)\n",
    "\n",
    "tr_score = classifier.score(tsvd_train, Y_train)\n",
    "accuracy = metrics.accuracy_score(Y_test, pred)\n",
    "pre = metrics.precision_score(Y_test, pred)\n",
    "rec = metrics.recall_score(Y_test, pred)\n",
    "f1 = metrics.f1_score(Y_test, pred)"
   ]
  },
  {
   "cell_type": "code",
   "execution_count": 19,
   "metadata": {
    "ExecuteTime": {
     "end_time": "2018-10-02T10:23:25.142305Z",
     "start_time": "2018-10-02T10:23:25.137463Z"
    }
   },
   "outputs": [],
   "source": [
    "tb3.add_row(['kd_tree', search_hyp.best_params_['n_neighbors'], \n",
    "             round(tr_score, 2), round(accuracy, 2), \n",
    "             round(pre, 2), round(rec, 2), round(f1, 2)])"
   ]
  },
  {
   "cell_type": "code",
   "execution_count": 20,
   "metadata": {
    "ExecuteTime": {
     "end_time": "2018-10-02T10:23:26.284965Z",
     "start_time": "2018-10-02T10:23:25.146391Z"
    },
    "_uuid": "830a7fa59c3cecd8f2085e9e3374d67a74aa6dd0",
    "scrolled": true
   },
   "outputs": [
    {
     "data": {
      "image/png": "[encoded data removed]",
      "text/plain": [
       "<Figure size 432x288 with 2 Axes>"
      ]
     },
     "metadata": {
      "needs_background": "light"
     },
     "output_type": "display_data"
    }
   ],
   "source": [
    "from sklearn.metrics import confusion_matrix\n",
    "cm = confusion_matrix(Y_test, pred)\n",
    "sns.heatmap(cm, annot=True, fmt='d')\n",
    "plt.show()"
   ]
  },
  {
   "cell_type": "markdown",
   "metadata": {},
   "source": [
    "# Tf-IDF word2vec\n",
    "\n",
    "* Using pre-trained tf-idf vectors and word2vec of size 150.\n",
    "* Multiplying each word's word2vec vector and tf-idf value of that word in respected sentence.\n",
    "* Executing above step for each word in a sentence and took sum of values of all words in a sentence.\n",
    "* And this sum is divided by sum of tf-idf values of all words in sentences. Finally gives tf-idf word2vec values of size 150 for each sentence."
   ]
  },
  {
   "cell_type": "code",
   "execution_count": 21,
   "metadata": {
    "ExecuteTime": {
     "end_time": "2018-10-02T10:16:09.190425Z",
     "start_time": "2018-10-02T10:16:08.706754Z"
    }
   },
   "outputs": [],
   "source": [
    "tfidf_train = tfidf_train.toarray()\n",
    "tfidf_test = tfidf_test.toarray()"
   ]
  },
  {
   "cell_type": "code",
   "execution_count": 22,
   "metadata": {
    "ExecuteTime": {
     "end_time": "2018-10-02T10:16:25.477448Z",
     "start_time": "2018-10-02T10:16:09.192231Z"
    }
   },
   "outputs": [],
   "source": [
    "sentences = []\n",
    "for row in X_train:\n",
    "    sentences.append([word for word in row.split()])\n",
    "\n",
    "tfidfw2v_train = []\n",
    "i = 0\n",
    "for row in sentences:\n",
    "    te = [0 for i in range(150)]\n",
    "    \n",
    "    temp_tfidf = []\n",
    "    for val in tfidf_train[i]:\n",
    "        if val != 0:\n",
    "            temp_tfidf.append(val)\n",
    "    \n",
    "    num = 0\n",
    "    tf_idf_sum = 0\n",
    "    for word in row:\n",
    "        try:\n",
    "            num += 1\n",
    "            tf_idf_sum = tf_idf_sum + temp_tfidf[num-1]\n",
    "            te += (temp_tfidf[num-1] * w2v[word])\n",
    "        except:\n",
    "            pass\n",
    "    try: # avoiding divide by zero\n",
    "        te = (float)(1/tf_idf_sum) * te\n",
    "    except:\n",
    "        pass\n",
    "    tfidfw2v_train.append(te)\n",
    "    i = i + 1"
   ]
  },
  {
   "cell_type": "code",
   "execution_count": 23,
   "metadata": {
    "ExecuteTime": {
     "end_time": "2018-10-02T10:16:31.004173Z",
     "start_time": "2018-10-02T10:16:25.479333Z"
    }
   },
   "outputs": [],
   "source": [
    "sentences = []\n",
    "for row in X_test:\n",
    "    sentences.append([word for word in row.split()])\n",
    "\n",
    "tfidfw2v_test = []\n",
    "i = 0\n",
    "for row in sentences:\n",
    "    te = [0 for i in range(150)]\n",
    "    \n",
    "    temp_tfidf = []\n",
    "    for val in tfidf_test[i]:\n",
    "        if val != 0:\n",
    "            temp_tfidf.append(val)\n",
    "    \n",
    "    num = 0\n",
    "    tf_idf_sum = 0\n",
    "    for word in row:\n",
    "        try:\n",
    "            num += 1\n",
    "            tf_idf_sum = tf_idf_sum + temp_tfidf[num-1]\n",
    "            te += (temp_tfidf[num-1] * w2v[word])\n",
    "        except:\n",
    "            pass\n",
    "    try: # avoiding divide by zero\n",
    "        te = (float)(1/tf_idf_sum) * te\n",
    "    except:\n",
    "        pass\n",
    "    tfidfw2v_test.append(te)\n",
    "    i = i + 1"
   ]
  },
  {
   "cell_type": "markdown",
   "metadata": {
    "_uuid": "04e8e63899ccdfdd72d1dc4dccc1e275d0bbe5f3"
   },
   "source": [
    "## KNN\n",
    "\n",
    "* Training Logistic Regression using KNeighborsClassifier from sklearn.neighbors module.\n",
    "* Trained on Tfidf data."
   ]
  },
  {
   "cell_type": "markdown",
   "metadata": {},
   "source": [
    "## Brute force \n",
    "* brute force algorithm used to compute the nearest neighbors. "
   ]
  },
  {
   "cell_type": "markdown",
   "metadata": {},
   "source": [
    "#### Grid Search\n",
    "\n",
    "* Technique for searching for optimal depth."
   ]
  },
  {
   "cell_type": "code",
   "execution_count": 24,
   "metadata": {
    "ExecuteTime": {
     "end_time": "2018-10-02T10:16:31.009677Z",
     "start_time": "2018-10-02T10:16:31.005976Z"
    },
    "_uuid": "cc09f4023dd015c4eca466fc2ab9a57621f9e7a6"
   },
   "outputs": [],
   "source": [
    "# searching for best hyperparameter\n",
    "from sklearn.neighbors import KNeighborsClassifier\n",
    "from sklearn.model_selection import GridSearchCV\n",
    "from sklearn.model_selection import TimeSeriesSplit\n",
    "tscv = TimeSeriesSplit(n_splits=5)\n",
    "\n",
    "parameters = {'n_neighbors':[5, 20, 45]}\n",
    "classifier_ = KNeighborsClassifier(algorithm='brute')\n",
    "\n",
    "search_hyp = GridSearchCV(classifier_, parameters, cv=tscv, n_jobs=2)"
   ]
  },
  {
   "cell_type": "code",
   "execution_count": 25,
   "metadata": {
    "ExecuteTime": {
     "end_time": "2018-10-02T10:17:14.579453Z",
     "start_time": "2018-10-02T10:16:31.011572Z"
    },
    "_uuid": "92109ed7abff5bf6cd8e7b609e6cbf99541ed29e",
    "scrolled": true
   },
   "outputs": [
    {
     "name": "stdout",
     "output_type": "stream",
     "text": [
      "best parameters: \n",
      "{'n_neighbors': 45}\n"
     ]
    }
   ],
   "source": [
    "search_hyp.fit(tfidfw2v_train, Y_train)\n",
    "print(\"best parameters: \")\n",
    "print(search_hyp.best_params_)\n",
    "classifier = search_hyp.best_estimator_"
   ]
  },
  {
   "cell_type": "code",
   "execution_count": 26,
   "metadata": {
    "ExecuteTime": {
     "end_time": "2018-10-02T10:17:14.765094Z",
     "start_time": "2018-10-02T10:17:14.586029Z"
    }
   },
   "outputs": [
    {
     "data": {
      "image/png": "[encoded data removed]",
      "text/plain": [
       "<Figure size 432x288 with 1 Axes>"
      ]
     },
     "metadata": {
      "needs_background": "light"
     },
     "output_type": "display_data"
    }
   ],
   "source": [
    "scores = [(1-i)*100 for i in search_hyp.cv_results_['mean_test_score']]\n",
    "    \n",
    "plt.plot(parameters['n_neighbors'], scores)\n",
    "plt.title('Error plot')\n",
    "plt.xlabel('n_neighbors')\n",
    "plt.ylabel('Error') \n",
    "plt.show()"
   ]
  },
  {
   "cell_type": "code",
   "execution_count": 27,
   "metadata": {
    "ExecuteTime": {
     "end_time": "2018-10-02T10:17:29.776951Z",
     "start_time": "2018-10-02T10:17:14.766932Z"
    },
    "_uuid": "eaa2348f932a98fa9f8ad1b05d55b36dd8ef7c15"
   },
   "outputs": [],
   "source": [
    "# performence metrics\n",
    "\n",
    "from sklearn import metrics\n",
    "pred = classifier.predict(tfidfw2v_test)\n",
    "\n",
    "tr_score = classifier.score(tfidfw2v_train, Y_train)\n",
    "accuracy = metrics.accuracy_score(Y_test, pred)\n",
    "pre = metrics.precision_score(Y_test, pred)\n",
    "rec = metrics.recall_score(Y_test, pred)\n",
    "f1 = metrics.f1_score(Y_test, pred)"
   ]
  },
  {
   "cell_type": "code",
   "execution_count": 28,
   "metadata": {
    "ExecuteTime": {
     "end_time": "2018-10-02T10:17:29.783267Z",
     "start_time": "2018-10-02T10:17:29.778935Z"
    }
   },
   "outputs": [],
   "source": [
    "from prettytable import PrettyTable\n",
    "tb4 = PrettyTable()\n",
    "tb4.field_names = ['Algorithm', 'n_neighbors', 'Train accuracy', \n",
    "                  'Test accuracy', 'Precision', 'Recall', 'f1-score'] \n",
    "tb4.add_row(['Bruteforce', search_hyp.best_params_['n_neighbors'], \n",
    "             round(tr_score, 2), round(accuracy, 2), \n",
    "             round(pre, 2), round(rec, 2), round(f1, 2)])"
   ]
  },
  {
   "cell_type": "code",
   "execution_count": 29,
   "metadata": {
    "ExecuteTime": {
     "end_time": "2018-10-02T10:17:30.128292Z",
     "start_time": "2018-10-02T10:17:29.785296Z"
    },
    "_uuid": "830a7fa59c3cecd8f2085e9e3374d67a74aa6dd0"
   },
   "outputs": [
    {
     "data": {
      "image/png": "[encoded data removed]",
      "text/plain": [
       "<Figure size 432x288 with 2 Axes>"
      ]
     },
     "metadata": {
      "needs_background": "light"
     },
     "output_type": "display_data"
    }
   ],
   "source": [
    "from sklearn.metrics import confusion_matrix\n",
    "cm = confusion_matrix(Y_test, pred)\n",
    "sns.heatmap(cm, annot=True, fmt='d')\n",
    "plt.show()"
   ]
  },
  {
   "cell_type": "markdown",
   "metadata": {},
   "source": [
    "## Kd Tree \n",
    "* kd tree algorithm used to compute the nearest neighbors. "
   ]
  },
  {
   "cell_type": "markdown",
   "metadata": {},
   "source": [
    "#### Grid Search\n",
    "\n",
    "* Technique for searching for optimal depth."
   ]
  },
  {
   "cell_type": "code",
   "execution_count": 30,
   "metadata": {
    "ExecuteTime": {
     "end_time": "2018-10-02T10:17:30.144251Z",
     "start_time": "2018-10-02T10:17:30.139884Z"
    },
    "_uuid": "cc09f4023dd015c4eca466fc2ab9a57621f9e7a6"
   },
   "outputs": [],
   "source": [
    "# searching for best hyperparameter\n",
    "from sklearn.neighbors import KNeighborsClassifier\n",
    "from sklearn.model_selection import GridSearchCV\n",
    "from sklearn.model_selection import TimeSeriesSplit\n",
    "tscv = TimeSeriesSplit(n_splits=5)\n",
    "\n",
    "parameters = {'n_neighbors':[5, 20, 45]}\n",
    "classifier_ = KNeighborsClassifier(algorithm='kd_tree', weights='distance')\n",
    "\n",
    "search_hyp = GridSearchCV(classifier_, parameters, cv=tscv, n_jobs=2)"
   ]
  },
  {
   "cell_type": "code",
   "execution_count": 31,
   "metadata": {
    "ExecuteTime": {
     "end_time": "2018-10-02T10:21:29.754264Z",
     "start_time": "2018-10-02T10:17:30.146010Z"
    },
    "_uuid": "92109ed7abff5bf6cd8e7b609e6cbf99541ed29e",
    "scrolled": false
   },
   "outputs": [
    {
     "name": "stdout",
     "output_type": "stream",
     "text": [
      "best parameters: \n",
      "{'n_neighbors': 45}\n"
     ]
    }
   ],
   "source": [
    "from sklearn.decomposition import TruncatedSVD\n",
    "tsvd = TruncatedSVD(n_components=100)\n",
    "tsvd_train = tsvd.fit_transform(tfidfw2v_train)\n",
    "tsvd_test = tsvd.transform(tfidfw2v_test)\n",
    "\n",
    "\n",
    "search_hyp.fit(tsvd_train, Y_train)\n",
    "print(\"best parameters: \")\n",
    "print(search_hyp.best_params_)\n",
    "classifier = search_hyp.best_estimator_"
   ]
  },
  {
   "cell_type": "code",
   "execution_count": 32,
   "metadata": {
    "ExecuteTime": {
     "end_time": "2018-10-02T10:21:29.914215Z",
     "start_time": "2018-10-02T10:21:29.756535Z"
    }
   },
   "outputs": [
    {
     "data": {
      "image/png": "[encoded data removed]",
      "text/plain": [
       "<Figure size 432x288 with 1 Axes>"
      ]
     },
     "metadata": {
      "needs_background": "light"
     },
     "output_type": "display_data"
    }
   ],
   "source": [
    "scores = [(1-i)*100 for i in search_hyp.cv_results_['mean_test_score']]\n",
    "    \n",
    "plt.plot(parameters['n_neighbors'], scores)\n",
    "plt.title('Error plot')\n",
    "plt.xlabel('n_neighbors')\n",
    "plt.ylabel('Error') \n",
    "plt.show()"
   ]
  },
  {
   "cell_type": "code",
   "execution_count": 33,
   "metadata": {
    "ExecuteTime": {
     "end_time": "2018-10-02T10:23:25.135498Z",
     "start_time": "2018-10-02T10:21:29.916223Z"
    },
    "_uuid": "eaa2348f932a98fa9f8ad1b05d55b36dd8ef7c15"
   },
   "outputs": [],
   "source": [
    "# performence metrics\n",
    "\n",
    "from sklearn import metrics\n",
    "pred = classifier.predict(tsvd_test)\n",
    "\n",
    "tr_score = classifier.score(tsvd_train, Y_train)\n",
    "accuracy = metrics.accuracy_score(Y_test, pred)\n",
    "pre = metrics.precision_score(Y_test, pred)\n",
    "rec = metrics.recall_score(Y_test, pred)\n",
    "f1 = metrics.f1_score(Y_test, pred)"
   ]
  },
  {
   "cell_type": "code",
   "execution_count": 34,
   "metadata": {
    "ExecuteTime": {
     "end_time": "2018-10-02T10:23:25.142305Z",
     "start_time": "2018-10-02T10:23:25.137463Z"
    }
   },
   "outputs": [],
   "source": [
    "tb4.add_row(['kd_tree', search_hyp.best_params_['n_neighbors'], \n",
    "             round(tr_score, 2), round(accuracy, 2), \n",
    "             round(pre, 2), round(rec, 2), round(f1, 2)])"
   ]
  },
  {
   "cell_type": "code",
   "execution_count": 35,
   "metadata": {
    "ExecuteTime": {
     "end_time": "2018-10-02T10:23:26.284965Z",
     "start_time": "2018-10-02T10:23:25.146391Z"
    },
    "_uuid": "830a7fa59c3cecd8f2085e9e3374d67a74aa6dd0",
    "scrolled": true
   },
   "outputs": [
    {
     "data": {
      "image/png": "[encoded data removed]",
      "text/plain": [
       "<Figure size 432x288 with 2 Axes>"
      ]
     },
     "metadata": {
      "needs_background": "light"
     },
     "output_type": "display_data"
    }
   ],
   "source": [
    "from sklearn.metrics import confusion_matrix\n",
    "cm = confusion_matrix(Y_test, pred)\n",
    "sns.heatmap(cm, annot=True, fmt='d')\n",
    "plt.show()"
   ]
  },
  {
   "cell_type": "markdown",
   "metadata": {
    "_uuid": "9bda945919b332b85f670cdddfc716e265d8c566"
   },
   "source": [
    "# Conclusion"
   ]
  },
  {
   "cell_type": "code",
   "execution_count": 35,
   "metadata": {
    "ExecuteTime": {
     "end_time": "2018-10-01T14:34:32.547735Z",
     "start_time": "2018-10-01T14:34:32.360748Z"
    }
   },
   "outputs": [
    {
     "name": "stdout",
     "output_type": "stream",
     "text": [
      "KNN performence with bag of words: \n",
      "+------------+-------------+----------------+---------------+-----------+--------+----------+\n",
      "| Algorithm  | n_neighbors | Train accuracy | Test accuracy | Precision | Recall | f1-score |\n",
      "+------------+-------------+----------------+---------------+-----------+--------+----------+\n",
      "| Bruteforce |      45     |      0.89      |      0.88     |    0.89   |  0.99  |   0.94   |\n",
      "|  kd_tree   |      5      |      1.0       |      0.87     |    0.9    |  0.95  |   0.93   |\n",
      "+------------+-------------+----------------+---------------+-----------+--------+----------+\n"
     ]
    }
   ],
   "source": [
    "print(\"KNN performence with bag of words: \")\n",
    "print(tb1)"
   ]
  },
  {
   "cell_type": "code",
   "execution_count": 36,
   "metadata": {
    "ExecuteTime": {
     "end_time": "2018-10-01T14:34:41.651514Z",
     "start_time": "2018-10-01T14:34:41.639116Z"
    }
   },
   "outputs": [
    {
     "name": "stdout",
     "output_type": "stream",
     "text": [
      "KNN performence with tf-idf: \n",
      "+------------+-------------+----------------+---------------+-----------+--------+----------+\n",
      "| Algorithm  | n_neighbors | Train accuracy | Test accuracy | Precision | Recall | f1-score |\n",
      "+------------+-------------+----------------+---------------+-----------+--------+----------+\n",
      "| Bruteforce |      45     |      0.9       |      0.89     |    0.89   |  1.0   |   0.94   |\n",
      "|  kd_tree   |      45     |      1.0       |      0.89     |    0.89   |  1.0   |   0.94   |\n",
      "+------------+-------------+----------------+---------------+-----------+--------+----------+\n"
     ]
    }
   ],
   "source": [
    "print(\"KNN performence with tf-idf: \")\n",
    "print(tb2)"
   ]
  },
  {
   "cell_type": "code",
   "execution_count": 36,
   "metadata": {
    "ExecuteTime": {
     "end_time": "2018-10-02T10:23:26.362033Z",
     "start_time": "2018-10-02T10:23:26.354668Z"
    }
   },
   "outputs": [
    {
     "name": "stdout",
     "output_type": "stream",
     "text": [
      "KNN performence with average word2vec: \n",
      "+------------+-------------+----------------+---------------+-----------+--------+----------+\n",
      "| Algorithm  | n_neighbors | Train accuracy | Test accuracy | Precision | Recall | f1-score |\n",
      "+------------+-------------+----------------+---------------+-----------+--------+----------+\n",
      "| Bruteforce |      45     |      0.9       |      0.89     |    0.89   |  1.0   |   0.94   |\n",
      "|  kd_tree   |      45     |      1.0       |      0.89     |    0.89   |  1.0   |   0.94   |\n",
      "+------------+-------------+----------------+---------------+-----------+--------+----------+\n"
     ]
    }
   ],
   "source": [
    "print(\"KNN performence with average word2vec: \")\n",
    "print(tb3)"
   ]
  },
  {
   "cell_type": "code",
   "execution_count": 37,
   "metadata": {
    "ExecuteTime": {
     "end_time": "2018-10-02T10:23:26.425600Z",
     "start_time": "2018-10-02T10:23:26.366400Z"
    }
   },
   "outputs": [
    {
     "name": "stdout",
     "output_type": "stream",
     "text": [
      "KNN performence with tf-idf word2vec: \n",
      "+------------+-------------+----------------+---------------+-----------+--------+----------+\n",
      "| Algorithm  | n_neighbors | Train accuracy | Test accuracy | Precision | Recall | f1-score |\n",
      "+------------+-------------+----------------+---------------+-----------+--------+----------+\n",
      "| Bruteforce |      45     |      0.9       |      0.89     |    0.89   |  1.0   |   0.94   |\n",
      "|  kd_tree   |      45     |      1.0       |      0.89     |    0.89   |  1.0   |   0.94   |\n",
      "+------------+-------------+----------------+---------------+-----------+--------+----------+\n"
     ]
    }
   ],
   "source": [
    "print(\"KNN performence with tf-idf word2vec: \")\n",
    "print(tb4)"
   ]
  },
  {
   "cell_type": "markdown",
   "metadata": {},
   "source": [
    "* KNN of number of neighbors 45 with tf-idf, average word2vec and tfidf word2vec vectorization given best results."
   ]
  },
  {
   "cell_type": "code",
   "execution_count": null,
   "metadata": {},
   "outputs": [],
   "source": []
  }
 ],
 "metadata": {
  "kernelspec": {
   "display_name": "Python 3",
   "language": "python",
   "name": "python3"
  },
  "language_info": {
   "codemirror_mode": {
    "name": "ipython",
    "version": 3
   },
   "file_extension": ".py",
   "mimetype": "text/x-python",
   "name": "python",
   "nbconvert_exporter": "python",
   "pygments_lexer": "ipython3",
   "version": "3.5.2"
  }
 },
 "nbformat": 4,
 "nbformat_minor": 1
}
