{
 "cells": [
  {
   "cell_type": "markdown",
   "metadata": {},
   "source": [
    "# Amazon Fine Food Reviews Analysis\n",
    "\n",
    "\n",
    "Data Source: https://www.kaggle.com/snap/amazon-fine-food-reviews\n",
    "\n",
    "The Amazon Fine Food Reviews dataset consists of reviews of fine foods from Amazon.<br>\n",
    "\n",
    "Number of reviews: 568,454<br>\n",
    "Number of users: 256,059<br>\n",
    "Number of products: 74,258<br>\n",
    "Timespan: Oct 1999 - Oct 2012<br>\n",
    "Number of Attributes/Columns in data: 10 \n",
    "\n",
    "Attribute Information:\n",
    "\n",
    "1. Id\n",
    "2. ProductId - unique identifier for the product\n",
    "3. UserId - unqiue identifier for the user\n",
    "4. ProfileName\n",
    "5. HelpfulnessNumerator - number of users who found the review helpful\n",
    "6. HelpfulnessDenominator - number of users who indicated whether they found the review helpful or not\n",
    "7. Score - rating between 1 and 5\n",
    "8. Time - timestamp for the review\n",
    "9. Summary - brief summary of the review\n",
    "10. Text - text of the review\n",
    "\n",
    "\n",
    "#### Objective:\n",
    "Given a review, determine whether the review is positive (Rating of 4 or 5) or negative (rating of 1 or 2).\n",
    "\n",
    "<br>\n",
    "[Q] How to determine if a review is positive or negative?<br>\n",
    "<br> \n",
    "[Ans] We could use the Score/Rating. A rating of 4 or 5 could be cosnidered a positive review. A review of 1 or 2 could be considered negative. A review of 3 is nuetral and ignored. This is an approximate and proxy way of determining the polarity (positivity/negativity) of a review."
   ]
  },
  {
   "cell_type": "markdown",
   "metadata": {
    "_cell_guid": "b1076dfc-b9ad-4769-8c92-a6c4dae69d19",
    "_uuid": "8f2839f25d086af736a60e9eeb907d3b93b6e0e5"
   },
   "source": [
    "# Preprocessing "
   ]
  },
  {
   "cell_type": "code",
   "execution_count": 1,
   "metadata": {
    "ExecuteTime": {
     "end_time": "2018-10-02T11:51:52.174541Z",
     "start_time": "2018-10-02T11:51:51.551745Z"
    },
    "_uuid": "d98b4026e68f92b5bf12bd67d0a2b9b4d7c057b3"
   },
   "outputs": [],
   "source": [
    "import numpy as np\n",
    "import pandas as pd \n",
    "import matplotlib.pyplot as plt\n",
    "from sklearn.feature_extraction.text import CountVectorizer\n",
    "from sklearn.feature_extraction.text import TfidfVectorizer\n",
    "from sklearn import metrics\n",
    "import seaborn as sns\n",
    "import warnings\n",
    "\n",
    "warnings.filterwarnings(\"ignore\")\n",
    "sns.set()"
   ]
  },
  {
   "cell_type": "markdown",
   "metadata": {},
   "source": [
    "* Loading Data from sql database. Ignored neutral reviews that is score=3. And data is sorted according to time."
   ]
  },
  {
   "cell_type": "code",
   "execution_count": 2,
   "metadata": {
    "ExecuteTime": {
     "end_time": "2018-09-23T10:39:11.681385Z",
     "start_time": "2018-09-23T10:39:07.842936Z"
    },
    "_uuid": "3545b70b1e3a9828a22aad57089993e35bdd137a"
   },
   "outputs": [
    {
     "data": {
      "text/html": [
       "<div>\n",
       "<style scoped>\n",
       "    .dataframe tbody tr th:only-of-type {\n",
       "        vertical-align: middle;\n",
       "    }\n",
       "\n",
       "    .dataframe tbody tr th {\n",
       "        vertical-align: top;\n",
       "    }\n",
       "\n",
       "    .dataframe thead th {\n",
       "        text-align: right;\n",
       "    }\n",
       "</style>\n",
       "<table border=\"1\" class=\"dataframe\">\n",
       "  <thead>\n",
       "    <tr style=\"text-align: right;\">\n",
       "      <th></th>\n",
       "      <th>Id</th>\n",
       "      <th>ProductId</th>\n",
       "      <th>UserId</th>\n",
       "      <th>ProfileName</th>\n",
       "      <th>HelpfulnessNumerator</th>\n",
       "      <th>HelpfulnessDenominator</th>\n",
       "      <th>Score</th>\n",
       "      <th>Time</th>\n",
       "      <th>Summary</th>\n",
       "      <th>Text</th>\n",
       "    </tr>\n",
       "  </thead>\n",
       "  <tbody>\n",
       "    <tr>\n",
       "      <th>0</th>\n",
       "      <td>150524</td>\n",
       "      <td>0006641040</td>\n",
       "      <td>ACITT7DI6IDDL</td>\n",
       "      <td>shari zychinski</td>\n",
       "      <td>0</td>\n",
       "      <td>0</td>\n",
       "      <td>5</td>\n",
       "      <td>939340800</td>\n",
       "      <td>EVERY book is educational</td>\n",
       "      <td>this witty little book makes my son laugh at l...</td>\n",
       "    </tr>\n",
       "    <tr>\n",
       "      <th>1</th>\n",
       "      <td>150501</td>\n",
       "      <td>0006641040</td>\n",
       "      <td>AJ46FKXOVC7NR</td>\n",
       "      <td>Nicholas A Mesiano</td>\n",
       "      <td>2</td>\n",
       "      <td>2</td>\n",
       "      <td>5</td>\n",
       "      <td>940809600</td>\n",
       "      <td>This whole series is great way to spend time w...</td>\n",
       "      <td>I can remember seeing the show when it aired o...</td>\n",
       "    </tr>\n",
       "    <tr>\n",
       "      <th>2</th>\n",
       "      <td>451856</td>\n",
       "      <td>B00004CXX9</td>\n",
       "      <td>AIUWLEQ1ADEG5</td>\n",
       "      <td>Elizabeth Medina</td>\n",
       "      <td>0</td>\n",
       "      <td>0</td>\n",
       "      <td>5</td>\n",
       "      <td>944092800</td>\n",
       "      <td>Entertainingl Funny!</td>\n",
       "      <td>Beetlejuice is a well written movie ..... ever...</td>\n",
       "    </tr>\n",
       "    <tr>\n",
       "      <th>3</th>\n",
       "      <td>230285</td>\n",
       "      <td>B00004RYGX</td>\n",
       "      <td>A344SMIA5JECGM</td>\n",
       "      <td>Vincent P. Ross</td>\n",
       "      <td>1</td>\n",
       "      <td>2</td>\n",
       "      <td>5</td>\n",
       "      <td>944438400</td>\n",
       "      <td>A modern day fairy tale</td>\n",
       "      <td>A twist of rumplestiskin captured on film, sta...</td>\n",
       "    </tr>\n",
       "    <tr>\n",
       "      <th>4</th>\n",
       "      <td>374359</td>\n",
       "      <td>B00004CI84</td>\n",
       "      <td>A344SMIA5JECGM</td>\n",
       "      <td>Vincent P. Ross</td>\n",
       "      <td>1</td>\n",
       "      <td>2</td>\n",
       "      <td>5</td>\n",
       "      <td>944438400</td>\n",
       "      <td>A modern day fairy tale</td>\n",
       "      <td>A twist of rumplestiskin captured on film, sta...</td>\n",
       "    </tr>\n",
       "  </tbody>\n",
       "</table>\n",
       "</div>"
      ],
      "text/plain": [
       "       Id   ProductId          UserId         ProfileName  \\\n",
       "0  150524  0006641040   ACITT7DI6IDDL     shari zychinski   \n",
       "1  150501  0006641040   AJ46FKXOVC7NR  Nicholas A Mesiano   \n",
       "2  451856  B00004CXX9   AIUWLEQ1ADEG5    Elizabeth Medina   \n",
       "3  230285  B00004RYGX  A344SMIA5JECGM     Vincent P. Ross   \n",
       "4  374359  B00004CI84  A344SMIA5JECGM     Vincent P. Ross   \n",
       "\n",
       "   HelpfulnessNumerator  HelpfulnessDenominator  Score       Time  \\\n",
       "0                     0                       0      5  939340800   \n",
       "1                     2                       2      5  940809600   \n",
       "2                     0                       0      5  944092800   \n",
       "3                     1                       2      5  944438400   \n",
       "4                     1                       2      5  944438400   \n",
       "\n",
       "                                             Summary  \\\n",
       "0                          EVERY book is educational   \n",
       "1  This whole series is great way to spend time w...   \n",
       "2                               Entertainingl Funny!   \n",
       "3                            A modern day fairy tale   \n",
       "4                            A modern day fairy tale   \n",
       "\n",
       "                                                Text  \n",
       "0  this witty little book makes my son laugh at l...  \n",
       "1  I can remember seeing the show when it aired o...  \n",
       "2  Beetlejuice is a well written movie ..... ever...  \n",
       "3  A twist of rumplestiskin captured on film, sta...  \n",
       "4  A twist of rumplestiskin captured on film, sta...  "
      ]
     },
     "execution_count": 2,
     "metadata": {},
     "output_type": "execute_result"
    }
   ],
   "source": [
    "import sqlite3\n",
    "\n",
    "conn = sqlite3.connect('Data/database.sqlite')\n",
    "\n",
    "data = pd.read_sql_query(\"select * from Reviews where Score !=3 order by Time\", conn)\n",
    "data.head()"
   ]
  },
  {
   "cell_type": "markdown",
   "metadata": {},
   "source": [
    "### Deduplication\n",
    "\n",
    "\n",
    "* Same review from a user to a product in different time indicates duplicate data.\n",
    "* Removed data that has same product ID, user id, score, text values."
   ]
  },
  {
   "cell_type": "code",
   "execution_count": 3,
   "metadata": {
    "ExecuteTime": {
     "end_time": "2018-09-23T10:39:12.563882Z",
     "start_time": "2018-09-23T10:39:11.683372Z"
    },
    "_uuid": "f90580278d19db7edc7924d47e993682dc962522"
   },
   "outputs": [],
   "source": [
    "# removing duplicates\n",
    "data = data.drop_duplicates(subset={'ProductId', 'UserId', 'Score', \n",
    "                            'Text'}, keep='first')"
   ]
  },
  {
   "cell_type": "markdown",
   "metadata": {},
   "source": [
    "### Data Cleaning\n",
    "\n",
    "* Removed html tags, punctuations from each sentence.\n",
    "* Each word is lowercased and removed stop words(a, an, the....).\n",
    "* Considered score 1 and 2 as negative review and scores 4 and 5 are considered as positive review.\n",
    "* For negative review '0' as label and for positive review '1' as label."
   ]
  },
  {
   "cell_type": "code",
   "execution_count": 4,
   "metadata": {
    "ExecuteTime": {
     "end_time": "2018-09-23T11:58:51.607645Z",
     "start_time": "2018-09-23T10:39:12.567260Z"
    },
    "_uuid": "41f698bce3bfc3a6e31af3fa5a1810f6a6d2272f"
   },
   "outputs": [
    {
     "name": "stdout",
     "output_type": "stream",
     "text": [
      "100.00 %\r"
     ]
    }
   ],
   "source": [
    "from nltk.corpus import stopwords\n",
    "from nltk.stem import SnowballStemmer\n",
    "import re\n",
    "\n",
    "snow = SnowballStemmer('english')\n",
    "pre_processed = []\n",
    "\n",
    "i = 0\n",
    "N = len(data['Text'])\n",
    "for sentence in data['Text']:    \n",
    "    sentence = str(sentence)\n",
    "    sentence = sentence.lower()\n",
    "    clnr = re.compile('<.*?>') # for cleaning html tags\n",
    "    sentence = re.sub(clnr, ' ', sentence)\n",
    "    sentence = re.sub(r'[?|!|\\'|\"|#]', r'', sentence)\n",
    "    sentence = re.sub(r'[.|,|)|(|\\|/]', r' ', sentence) \n",
    "    \n",
    "    words = [snow.stem(word) for word in sentence.split() \\\n",
    "             if word not in stopwords.words('english')]\n",
    "    final_sentence = ''\n",
    "    for word in words:\n",
    "        final_sentence = final_sentence + word + ' '\n",
    "    pre_processed.append(final_sentence)\n",
    "    print(\"{0:.2f} %\".format(i/N*100), end='\\r')\n",
    "    i += 1\n",
    "\n",
    "data['Text'] = pre_processed"
   ]
  },
  {
   "cell_type": "code",
   "execution_count": 5,
   "metadata": {
    "ExecuteTime": {
     "end_time": "2018-09-23T11:58:51.784518Z",
     "start_time": "2018-09-23T11:58:51.609502Z"
    }
   },
   "outputs": [],
   "source": [
    "sentiment = []\n",
    "\n",
    "for scr in data['Score']:\n",
    "    if scr < 3:\n",
    "        sentiment.append(0)\n",
    "    else:\n",
    "        sentiment.append(1)\n",
    "data['Sentiment'] = sentiment"
   ]
  },
  {
   "cell_type": "code",
   "execution_count": 2,
   "metadata": {
    "ExecuteTime": {
     "end_time": "2018-10-02T11:52:00.085159Z",
     "start_time": "2018-10-02T11:51:59.408305Z"
    }
   },
   "outputs": [
    {
     "data": {
      "text/html": [
       "<div>\n",
       "<style scoped>\n",
       "    .dataframe tbody tr th:only-of-type {\n",
       "        vertical-align: middle;\n",
       "    }\n",
       "\n",
       "    .dataframe tbody tr th {\n",
       "        vertical-align: top;\n",
       "    }\n",
       "\n",
       "    .dataframe thead th {\n",
       "        text-align: right;\n",
       "    }\n",
       "</style>\n",
       "<table border=\"1\" class=\"dataframe\">\n",
       "  <thead>\n",
       "    <tr style=\"text-align: right;\">\n",
       "      <th></th>\n",
       "      <th>Id</th>\n",
       "      <th>ProductId</th>\n",
       "      <th>UserId</th>\n",
       "      <th>ProfileName</th>\n",
       "      <th>HelpfulnessNumerator</th>\n",
       "      <th>HelpfulnessDenominator</th>\n",
       "      <th>Score</th>\n",
       "      <th>Time</th>\n",
       "      <th>Summary</th>\n",
       "      <th>Text</th>\n",
       "      <th>Sentiment</th>\n",
       "    </tr>\n",
       "  </thead>\n",
       "  <tbody>\n",
       "    <tr>\n",
       "      <th>0</th>\n",
       "      <td>150524</td>\n",
       "      <td>0006641040</td>\n",
       "      <td>ACITT7DI6IDDL</td>\n",
       "      <td>shari zychinski</td>\n",
       "      <td>0</td>\n",
       "      <td>0</td>\n",
       "      <td>5</td>\n",
       "      <td>939340800</td>\n",
       "      <td>EVERY book is educational</td>\n",
       "      <td>witti littl book make son laugh loud recit car...</td>\n",
       "      <td>1</td>\n",
       "    </tr>\n",
       "    <tr>\n",
       "      <th>1</th>\n",
       "      <td>150501</td>\n",
       "      <td>0006641040</td>\n",
       "      <td>AJ46FKXOVC7NR</td>\n",
       "      <td>Nicholas A Mesiano</td>\n",
       "      <td>2</td>\n",
       "      <td>2</td>\n",
       "      <td>5</td>\n",
       "      <td>940809600</td>\n",
       "      <td>This whole series is great way to spend time w...</td>\n",
       "      <td>rememb see show air televis year ago child sis...</td>\n",
       "      <td>1</td>\n",
       "    </tr>\n",
       "    <tr>\n",
       "      <th>2</th>\n",
       "      <td>451856</td>\n",
       "      <td>B00004CXX9</td>\n",
       "      <td>AIUWLEQ1ADEG5</td>\n",
       "      <td>Elizabeth Medina</td>\n",
       "      <td>0</td>\n",
       "      <td>0</td>\n",
       "      <td>5</td>\n",
       "      <td>944092800</td>\n",
       "      <td>Entertainingl Funny!</td>\n",
       "      <td>beetlejuic well written movi everyth excel act...</td>\n",
       "      <td>1</td>\n",
       "    </tr>\n",
       "    <tr>\n",
       "      <th>3</th>\n",
       "      <td>230285</td>\n",
       "      <td>B00004RYGX</td>\n",
       "      <td>A344SMIA5JECGM</td>\n",
       "      <td>Vincent P. Ross</td>\n",
       "      <td>1</td>\n",
       "      <td>2</td>\n",
       "      <td>5</td>\n",
       "      <td>944438400</td>\n",
       "      <td>A modern day fairy tale</td>\n",
       "      <td>twist rumplestiskin captur film star michael k...</td>\n",
       "      <td>1</td>\n",
       "    </tr>\n",
       "    <tr>\n",
       "      <th>4</th>\n",
       "      <td>374359</td>\n",
       "      <td>B00004CI84</td>\n",
       "      <td>A344SMIA5JECGM</td>\n",
       "      <td>Vincent P. Ross</td>\n",
       "      <td>1</td>\n",
       "      <td>2</td>\n",
       "      <td>5</td>\n",
       "      <td>944438400</td>\n",
       "      <td>A modern day fairy tale</td>\n",
       "      <td>twist rumplestiskin captur film star michael k...</td>\n",
       "      <td>1</td>\n",
       "    </tr>\n",
       "  </tbody>\n",
       "</table>\n",
       "</div>"
      ],
      "text/plain": [
       "       Id   ProductId          UserId         ProfileName  \\\n",
       "0  150524  0006641040   ACITT7DI6IDDL     shari zychinski   \n",
       "1  150501  0006641040   AJ46FKXOVC7NR  Nicholas A Mesiano   \n",
       "2  451856  B00004CXX9   AIUWLEQ1ADEG5    Elizabeth Medina   \n",
       "3  230285  B00004RYGX  A344SMIA5JECGM     Vincent P. Ross   \n",
       "4  374359  B00004CI84  A344SMIA5JECGM     Vincent P. Ross   \n",
       "\n",
       "   HelpfulnessNumerator  HelpfulnessDenominator  Score       Time  \\\n",
       "0                     0                       0      5  939340800   \n",
       "1                     2                       2      5  940809600   \n",
       "2                     0                       0      5  944092800   \n",
       "3                     1                       2      5  944438400   \n",
       "4                     1                       2      5  944438400   \n",
       "\n",
       "                                             Summary  \\\n",
       "0                          EVERY book is educational   \n",
       "1  This whole series is great way to spend time w...   \n",
       "2                               Entertainingl Funny!   \n",
       "3                            A modern day fairy tale   \n",
       "4                            A modern day fairy tale   \n",
       "\n",
       "                                                Text  Sentiment  \n",
       "0  witti littl book make son laugh loud recit car...          1  \n",
       "1  rememb see show air televis year ago child sis...          1  \n",
       "2  beetlejuic well written movi everyth excel act...          1  \n",
       "3  twist rumplestiskin captur film star michael k...          1  \n",
       "4  twist rumplestiskin captur film star michael k...          1  "
      ]
     },
     "execution_count": 2,
     "metadata": {},
     "output_type": "execute_result"
    }
   ],
   "source": [
    "# loading pre processed data from hard disk\n",
    "import pickle\n",
    "\n",
    "with open('Saved/PreProcessed.pkl', 'rb') as f:\n",
    "    data = pickle.load(f)\n",
    "data.head()"
   ]
  },
  {
   "cell_type": "markdown",
   "metadata": {},
   "source": [
    "### Data Segmentation\n",
    "\n",
    "* First 100k review taken into consideration.\n",
    "* Then data is divided in 70-30 ratio for training and testing purposes.\n",
    "* Data is divided according to time."
   ]
  },
  {
   "cell_type": "code",
   "execution_count": 3,
   "metadata": {
    "ExecuteTime": {
     "end_time": "2018-10-02T11:52:00.742468Z",
     "start_time": "2018-10-02T11:52:00.738380Z"
    },
    "_uuid": "6a339fe9d6f80aedf8e8cc2b95e1402b19a6b0cb"
   },
   "outputs": [],
   "source": [
    "te = int(10000 * 7)\n",
    "X_train = data['Text'][0:te]\n",
    "Y_train = data['Sentiment'][0:te]\n",
    "X_test = data['Text'][te:100000]\n",
    "Y_test = data['Sentiment'][te:100000]"
   ]
  },
  {
   "cell_type": "markdown",
   "metadata": {
    "_uuid": "6f316ce32a3bb0fef4e3aa053f67133373c8a4a4"
   },
   "source": [
    "# Bag of Words\n",
    "\n",
    "* Trained bag of words by using training data. Transformed training and testing data to numerical vectors.\n",
    "* Considered only top most 2000 important words.\n",
    "* Each sentence is converted into a vector of size 2000."
   ]
  },
  {
   "cell_type": "code",
   "execution_count": 4,
   "metadata": {
    "ExecuteTime": {
     "end_time": "2018-10-02T11:52:05.285220Z",
     "start_time": "2018-10-02T11:52:01.569224Z"
    },
    "_uuid": "80cdd79d76e82a14ec7969cd18c8c61c7f0be15c"
   },
   "outputs": [],
   "source": [
    "# Training Bag of words\n",
    "from sklearn.feature_extraction.text import CountVectorizer\n",
    "\n",
    "bow_model = CountVectorizer(max_features=2000, dtype=\"float\")\n",
    "bow_train = bow_model.fit_transform(X_train)\n",
    "bow_test = bow_model.transform(X_test)"
   ]
  },
  {
   "cell_type": "markdown",
   "metadata": {
    "_uuid": "04e8e63899ccdfdd72d1dc4dccc1e275d0bbe5f3"
   },
   "source": [
    "## Logistic Regression\n",
    "\n",
    "* Training Logistic Regression using LogisticRegression from sklearn.linear_model module.\n",
    "* Trained on bag of words data."
   ]
  },
  {
   "cell_type": "markdown",
   "metadata": {},
   "source": [
    "#### Grid Search\n",
    "\n",
    "* Technique for searching for optimal depth."
   ]
  },
  {
   "cell_type": "code",
   "execution_count": 5,
   "metadata": {
    "ExecuteTime": {
     "end_time": "2018-10-02T11:52:05.320442Z",
     "start_time": "2018-10-02T11:52:05.287232Z"
    },
    "_uuid": "cc09f4023dd015c4eca466fc2ab9a57621f9e7a6"
   },
   "outputs": [],
   "source": [
    "# searching for best hyperparameter\n",
    "from sklearn.linear_model import LogisticRegression\n",
    "from sklearn.model_selection import GridSearchCV\n",
    "from sklearn.model_selection import TimeSeriesSplit\n",
    "tscv = TimeSeriesSplit(n_splits=5)\n",
    "\n",
    "parameters = {'penalty':['l1', 'l2'],\n",
    "              'C':[0.001, 0.01, 0.1, 1, 10]}\n",
    "classifier_ = LogisticRegression(class_weight='balanced')\n",
    "\n",
    "search_hyp = GridSearchCV(classifier_, parameters, cv=tscv, n_jobs=3)"
   ]
  },
  {
   "cell_type": "code",
   "execution_count": 6,
   "metadata": {
    "ExecuteTime": {
     "end_time": "2018-10-02T11:52:25.719454Z",
     "start_time": "2018-10-02T11:52:05.322301Z"
    },
    "_uuid": "92109ed7abff5bf6cd8e7b609e6cbf99541ed29e",
    "scrolled": false
   },
   "outputs": [
    {
     "name": "stdout",
     "output_type": "stream",
     "text": [
      "best parameters: \n",
      "{'C': 1, 'penalty': 'l2'}\n"
     ]
    }
   ],
   "source": [
    "search_hyp.fit(bow_train, Y_train)\n",
    "print(\"best parameters: \")\n",
    "print(search_hyp.best_params_)\n",
    "classifier = search_hyp.best_estimator_"
   ]
  },
  {
   "cell_type": "code",
   "execution_count": 7,
   "metadata": {
    "ExecuteTime": {
     "end_time": "2018-10-02T11:52:26.272846Z",
     "start_time": "2018-10-02T11:52:25.721865Z"
    }
   },
   "outputs": [
    {
     "data": {
      "image/png": "[encoded data removed]",
      "text/plain": [
       "<Figure size 432x288 with 1 Axes>"
      ]
     },
     "metadata": {
      "needs_background": "light"
     },
     "output_type": "display_data"
    }
   ],
   "source": [
    "scores = search_hyp.cv_results_['mean_test_score']\n",
    "test_errorsC = []\n",
    "for i in range(0, len(scores), 2):\n",
    "    best_error = 100 - \\\n",
    "                sorted([scores[i], scores[i+1]])[1]\n",
    "    test_errorsC.append(best_error)\n",
    "    \n",
    "plt.plot(parameters['C'], test_errorsC)\n",
    "plt.title('Error plot')\n",
    "plt.xlabel('C')\n",
    "plt.ylabel('Error') \n",
    "plt.show()"
   ]
  },
  {
   "cell_type": "code",
   "execution_count": 8,
   "metadata": {
    "ExecuteTime": {
     "end_time": "2018-10-02T11:52:26.314191Z",
     "start_time": "2018-10-02T11:52:26.274979Z"
    },
    "_uuid": "eaa2348f932a98fa9f8ad1b05d55b36dd8ef7c15"
   },
   "outputs": [],
   "source": [
    "# performence metrics\n",
    "\n",
    "from sklearn import metrics\n",
    "pred = classifier.predict(bow_test)\n",
    "\n",
    "tr_score = classifier.score(bow_train, Y_train)\n",
    "accuracy = metrics.accuracy_score(Y_test, pred)\n",
    "pre = metrics.precision_score(Y_test, pred)\n",
    "rec = metrics.recall_score(Y_test, pred)\n",
    "f1 = metrics.f1_score(Y_test, pred)"
   ]
  },
  {
   "cell_type": "code",
   "execution_count": 9,
   "metadata": {
    "ExecuteTime": {
     "end_time": "2018-10-02T11:52:26.730674Z",
     "start_time": "2018-10-02T11:52:26.316177Z"
    }
   },
   "outputs": [],
   "source": [
    "from prettytable import PrettyTable\n",
    "tb1 = PrettyTable()\n",
    "tb1.field_names = ['Search Algo', 'Regularizor', 'C', 'Train accuracy', \n",
    "                  'Test accuracy', 'Precision', 'Recall', 'f1-score'] \n",
    "tb1.add_row(['Grid Search', search_hyp.best_params_['penalty'], \n",
    "             search_hyp.best_params_['C'], round(tr_score, 2), \n",
    "             round(accuracy, 2), round(pre, 2), round(rec, 2), \n",
    "             round(f1, 2)])"
   ]
  },
  {
   "cell_type": "code",
   "execution_count": 10,
   "metadata": {
    "ExecuteTime": {
     "end_time": "2018-10-02T11:52:27.644430Z",
     "start_time": "2018-10-02T11:52:26.732828Z"
    },
    "_uuid": "830a7fa59c3cecd8f2085e9e3374d67a74aa6dd0"
   },
   "outputs": [
    {
     "data": {
      "image/png": "[encoded data removed]",
      "text/plain": [
       "<Figure size 432x288 with 2 Axes>"
      ]
     },
     "metadata": {
      "needs_background": "light"
     },
     "output_type": "display_data"
    }
   ],
   "source": [
    "from sklearn.metrics import confusion_matrix\n",
    "cm = confusion_matrix(Y_test, pred)\n",
    "sns.heatmap(cm, annot=True, fmt='d')\n",
    "plt.show()"
   ]
  },
  {
   "cell_type": "code",
   "execution_count": 11,
   "metadata": {
    "ExecuteTime": {
     "end_time": "2018-10-02T11:52:28.782080Z",
     "start_time": "2018-10-02T11:52:27.660217Z"
    }
   },
   "outputs": [
    {
     "data": {
      "image/png": "[encoded data removed]",
      "text/plain": [
       "<Figure size 432x288 with 1 Axes>"
      ]
     },
     "metadata": {
      "needs_background": "light"
     },
     "output_type": "display_data"
    }
   ],
   "source": [
    "from wordcloud import WordCloud\n",
    "\n",
    "te = {}\n",
    "indices = np.array(list(map(abs, classifier.coef_))).argsort()[0][1970:2000]\n",
    "indices = indices.tolist()\n",
    "for ind_ in indices:\n",
    "    for word in bow_model.vocabulary_:\n",
    "        if bow_model.vocabulary_[word] == ind_:\n",
    "            te[word] = classifier.coef_[0][ind_]\n",
    "    \n",
    "wordcloud = WordCloud(width = 800, height = 600, \n",
    "                background_color ='white').generate_from_frequencies(te)\n",
    "plt.imshow(wordcloud)\n",
    "plt.show()"
   ]
  },
  {
   "cell_type": "markdown",
   "metadata": {},
   "source": [
    "### Random Search\n",
    "\n",
    "* Searching randomly for best depth."
   ]
  },
  {
   "cell_type": "code",
   "execution_count": 12,
   "metadata": {
    "ExecuteTime": {
     "end_time": "2018-10-02T11:52:28.798679Z",
     "start_time": "2018-10-02T11:52:28.795214Z"
    }
   },
   "outputs": [],
   "source": [
    "# searching for best hyperparameter\n",
    "from sklearn.model_selection import RandomizedSearchCV\n",
    "C = np.random.uniform(low=0.001, high=10, size=50)\n",
    "\n",
    "parameters = {'penalty':['l1', 'l2'],\n",
    "              'C':C}\n",
    "classifier_ = LogisticRegression(class_weight='balanced')\n",
    "\n",
    "search_hyp = RandomizedSearchCV(classifier_, parameters, cv=tscv, n_jobs=3)"
   ]
  },
  {
   "cell_type": "code",
   "execution_count": 13,
   "metadata": {
    "ExecuteTime": {
     "end_time": "2018-10-02T11:53:15.372009Z",
     "start_time": "2018-10-02T11:52:28.800321Z"
    }
   },
   "outputs": [
    {
     "name": "stdout",
     "output_type": "stream",
     "text": [
      "best parameters: \n",
      "{'C': 1.520177165720327, 'penalty': 'l2'}\n"
     ]
    }
   ],
   "source": [
    "search_hyp.fit(bow_train, Y_train)\n",
    "print(\"best parameters: \")\n",
    "print(search_hyp.best_params_)\n",
    "classifier = search_hyp.best_estimator_"
   ]
  },
  {
   "cell_type": "code",
   "execution_count": 14,
   "metadata": {
    "ExecuteTime": {
     "end_time": "2018-10-02T11:53:15.504855Z",
     "start_time": "2018-10-02T11:53:15.374419Z"
    }
   },
   "outputs": [
    {
     "data": {
      "image/png": "[encoded data removed]",
      "text/plain": [
       "<Figure size 432x288 with 1 Axes>"
      ]
     },
     "metadata": {
      "needs_background": "light"
     },
     "output_type": "display_data"
    }
   ],
   "source": [
    "te = []\n",
    "for i in range(10):\n",
    "    te.append(search_hyp.cv_results_['params'][i]['C'])\n",
    "indices = np.argsort(te).tolist()\n",
    "test_errors = [(1-i)*100 for i in search_hyp.cv_results_['mean_test_score']]\n",
    "\n",
    "temp1 = []\n",
    "temp2 = []\n",
    "for ind in indices:\n",
    "    temp1.append(te[ind])\n",
    "    temp2.append(test_errors[ind])\n",
    "    \n",
    "plt.plot(temp1, temp2)\n",
    "plt.title('Error Plot')\n",
    "plt.xlabel(\"C\")\n",
    "plt.ylabel(\"Error\")\n",
    "plt.show()"
   ]
  },
  {
   "cell_type": "code",
   "execution_count": 15,
   "metadata": {
    "ExecuteTime": {
     "end_time": "2018-10-02T11:53:15.544884Z",
     "start_time": "2018-10-02T11:53:15.508683Z"
    }
   },
   "outputs": [],
   "source": [
    "pred = classifier.predict(bow_test)\n",
    "\n",
    "tr_score = classifier.score(bow_train, Y_train)\n",
    "accuracy = metrics.accuracy_score(Y_test, pred)\n",
    "pre = metrics.precision_score(Y_test, pred)\n",
    "rec = metrics.recall_score(Y_test, pred)\n",
    "f1 = metrics.f1_score(Y_test, pred)"
   ]
  },
  {
   "cell_type": "code",
   "execution_count": 16,
   "metadata": {
    "ExecuteTime": {
     "end_time": "2018-10-02T11:53:15.600811Z",
     "start_time": "2018-10-02T11:53:15.546762Z"
    }
   },
   "outputs": [],
   "source": [
    "tb1.add_row(['Random Search', search_hyp.best_params_['penalty'], \n",
    "             round(search_hyp.best_params_['C'], 3), round(tr_score, 2), \n",
    "             round(accuracy, 2), round(pre, 2), round(rec, 2), \n",
    "             round(f1, 2)])"
   ]
  },
  {
   "cell_type": "code",
   "execution_count": 17,
   "metadata": {
    "ExecuteTime": {
     "end_time": "2018-10-02T11:53:15.885354Z",
     "start_time": "2018-10-02T11:53:15.602773Z"
    }
   },
   "outputs": [
    {
     "data": {
      "image/png": "[encoded data removed]",
      "text/plain": [
       "<Figure size 432x288 with 2 Axes>"
      ]
     },
     "metadata": {
      "needs_background": "light"
     },
     "output_type": "display_data"
    }
   ],
   "source": [
    "from sklearn.metrics import confusion_matrix\n",
    "cm = confusion_matrix(Y_test, pred)\n",
    "sns.heatmap(cm, annot=True, fmt='d')\n",
    "plt.show() "
   ]
  },
  {
   "cell_type": "code",
   "execution_count": 18,
   "metadata": {
    "ExecuteTime": {
     "end_time": "2018-10-02T11:53:15.904187Z",
     "start_time": "2018-10-02T11:53:15.897132Z"
    }
   },
   "outputs": [
    {
     "name": "stdout",
     "output_type": "stream",
     "text": [
      "+---------------+-------------+------+----------------+---------------+-----------+--------+----------+\n",
      "|  Search Algo  | Regularizor |  C   | Train accuracy | Test accuracy | Precision | Recall | f1-score |\n",
      "+---------------+-------------+------+----------------+---------------+-----------+--------+----------+\n",
      "|  Grid Search  |      l2     |  1   |      0.91      |      0.86     |    0.96   |  0.88  |   0.92   |\n",
      "| Random Search |      l2     | 1.52 |      0.91      |      0.86     |    0.96   |  0.88  |   0.92   |\n",
      "+---------------+-------------+------+----------------+---------------+-----------+--------+----------+\n"
     ]
    }
   ],
   "source": [
    "print(tb1)"
   ]
  },
  {
   "cell_type": "code",
   "execution_count": 19,
   "metadata": {
    "ExecuteTime": {
     "end_time": "2018-10-02T11:53:16.352069Z",
     "start_time": "2018-10-02T11:53:15.909584Z"
    }
   },
   "outputs": [
    {
     "data": {
      "image/png": "[encoded data removed]",
      "text/plain": [
       "<Figure size 432x288 with 1 Axes>"
      ]
     },
     "metadata": {
      "needs_background": "light"
     },
     "output_type": "display_data"
    }
   ],
   "source": [
    "from wordcloud import WordCloud\n",
    "\n",
    "te = {}\n",
    "indices = np.array(list(map(abs, classifier.coef_[0]))).argsort()[1970:2000]\n",
    "indices = indices.tolist()\n",
    "for ind_ in indices:\n",
    "    for word in bow_model.vocabulary_:\n",
    "        if bow_model.vocabulary_[word] == ind_:\n",
    "            te[word] = classifier.coef_[0][ind_]\n",
    "    \n",
    "wordcloud = WordCloud(width = 800, height = 600, \n",
    "                background_color ='white').generate_from_frequencies(te)\n",
    "plt.imshow(wordcloud)\n",
    "plt.show()"
   ]
  },
  {
   "cell_type": "code",
   "execution_count": 35,
   "metadata": {
    "ExecuteTime": {
     "end_time": "2018-10-02T12:03:38.355736Z",
     "start_time": "2018-10-02T12:03:34.367646Z"
    }
   },
   "outputs": [
    {
     "name": "stdout",
     "output_type": "stream",
     "text": [
      "percentage change of weights:  0.0\n"
     ]
    }
   ],
   "source": [
    "def cal_percChange(array1, array2):\n",
    "    change = 0\n",
    "    for i in range(array1.shape[0]):\n",
    "        if array1[i] != array2[i]:\n",
    "            change += 1\n",
    "    p_change = (change / array1.shape[0]) * 100\n",
    "    return p_change\n",
    "            \n",
    "# pertubation test\n",
    "from sklearn.metrics import mean_absolute_error\n",
    "prev_weights = classifier.coef_[0]\n",
    "\n",
    "noise_data = bow_train.todense()\n",
    "noise_data[878] += 0.01\n",
    "classifier = LogisticRegression(penalty='l2', class_weight='balanced',\n",
    "                                C=search_hyp.best_params_['C']) \n",
    "classifier.fit(noise_data, Y_train)\n",
    "new_weights = classifier.coef_[0]\n",
    "perc_change = cal_percChange(prev_weights, new_weights)\n",
    "print('percentage change of weights: ', perc_change)"
   ]
  },
  {
   "cell_type": "markdown",
   "metadata": {},
   "source": [
    "- There is 0% of change. So no multicollinearity exists."
   ]
  },
  {
   "cell_type": "markdown",
   "metadata": {},
   "source": [
    "#### sparsity check"
   ]
  },
  {
   "cell_type": "code",
   "execution_count": 36,
   "metadata": {
    "ExecuteTime": {
     "end_time": "2018-10-02T12:04:29.565145Z",
     "start_time": "2018-10-02T12:04:24.700496Z"
    }
   },
   "outputs": [
    {
     "data": {
      "image/png": "[encoded data removed]",
      "text/plain": [
       "<Figure size 432x288 with 1 Axes>"
      ]
     },
     "metadata": {
      "needs_background": "light"
     },
     "output_type": "display_data"
    }
   ],
   "source": [
    "C = [0.001, 0.01, 0.1, 1, 10]\n",
    "sparsity = []\n",
    "for c in C:\n",
    "    classifier = LogisticRegression(C=c, penalty='l1', class_weight='balanced')\n",
    "    classifier.fit(bow_train, Y_train)\n",
    "    weights = classifier.coef_[0] \n",
    "    sparsity.append(np.count_nonzero(weights))\n",
    "    \n",
    "### plotting sparsity to C valuse\n",
    "plt.plot(C, sparsity)\n",
    "plt.title('sparsity graph to C value')\n",
    "plt.xlabel('C')\n",
    "plt.ylabel('sparsity graph')\n",
    "plt.show()"
   ]
  },
  {
   "cell_type": "markdown",
   "metadata": {},
   "source": [
    "* As we can observe that as C value increases sparsity increases."
   ]
  },
  {
   "cell_type": "markdown",
   "metadata": {
    "_uuid": "98aa06dca82803f0f1ed6928077138f5783b7604"
   },
   "source": [
    "# Tf-Idf\n",
    "\n",
    "* Trained tf-idf by using training data. Transformed training and testing data to numerical vectors.\n",
    "* TfidfVectorizer from sklearn is used.\n",
    "* Considered only top most 2000 important words.\n",
    "* Each sentence is converted into a vector of size 2000."
   ]
  },
  {
   "cell_type": "code",
   "execution_count": 40,
   "metadata": {
    "ExecuteTime": {
     "end_time": "2018-10-02T12:05:10.487987Z",
     "start_time": "2018-10-02T12:05:06.815776Z"
    },
    "_uuid": "e74668b48d3ff78ae0fce6547611c3b35cc35305"
   },
   "outputs": [],
   "source": [
    "# Training tf-idf\n",
    "from sklearn.feature_extraction.text import TfidfVectorizer\n",
    "\n",
    "tfidf_model = TfidfVectorizer(max_features=2000)\n",
    "tfidf_train = tfidf_model.fit_transform(X_train)\n",
    "tfidf_test = tfidf_model.transform(X_test)"
   ]
  },
  {
   "cell_type": "markdown",
   "metadata": {
    "_uuid": "04e8e63899ccdfdd72d1dc4dccc1e275d0bbe5f3"
   },
   "source": [
    "## Logistic Regression\n",
    "\n",
    "* Training Logistic Regression using LogisticRegression from sklearn.linear_model module.\n",
    "* Trained on Tf-idf data."
   ]
  },
  {
   "cell_type": "markdown",
   "metadata": {},
   "source": [
    "### L1 - regularizor\n",
    "* Using l1 type regularization term as penalty for loss in logistic Regression."
   ]
  },
  {
   "cell_type": "markdown",
   "metadata": {},
   "source": [
    "#### Grid Search\n",
    "\n",
    "* Technique for searching for optimal depth."
   ]
  },
  {
   "cell_type": "code",
   "execution_count": 41,
   "metadata": {
    "ExecuteTime": {
     "end_time": "2018-10-02T12:05:10.493498Z",
     "start_time": "2018-10-02T12:05:10.490051Z"
    },
    "_uuid": "cc09f4023dd015c4eca466fc2ab9a57621f9e7a6"
   },
   "outputs": [],
   "source": [
    "# searching for best hyperparameter\n",
    "from sklearn.linear_model import LogisticRegression\n",
    "from sklearn.model_selection import GridSearchCV\n",
    "from sklearn.model_selection import TimeSeriesSplit\n",
    "tscv = TimeSeriesSplit(n_splits=5)\n",
    "\n",
    "parameters = {'C':[0.001, 0.01, 0.1, 1, 10]}\n",
    "classifier_ = LogisticRegression(penalty='l1', class_weight='balanced')\n",
    "\n",
    "search_hyp = GridSearchCV(classifier_, parameters, cv=tscv, n_jobs=3)"
   ]
  },
  {
   "cell_type": "code",
   "execution_count": 42,
   "metadata": {
    "ExecuteTime": {
     "end_time": "2018-10-02T12:05:18.488093Z",
     "start_time": "2018-10-02T12:05:10.495244Z"
    },
    "_uuid": "92109ed7abff5bf6cd8e7b609e6cbf99541ed29e",
    "scrolled": false
   },
   "outputs": [
    {
     "data": {
      "text/plain": [
       "{'C': 10}"
      ]
     },
     "execution_count": 42,
     "metadata": {},
     "output_type": "execute_result"
    }
   ],
   "source": [
    "search_hyp.fit(tfidf_train, Y_train)\n",
    "search_hyp.best_params_"
   ]
  },
  {
   "cell_type": "code",
   "execution_count": 43,
   "metadata": {
    "ExecuteTime": {
     "end_time": "2018-10-02T12:05:18.689596Z",
     "start_time": "2018-10-02T12:05:18.490419Z"
    }
   },
   "outputs": [
    {
     "data": {
      "image/png": "[encoded data removed]",
      "text/plain": [
       "<Figure size 432x288 with 1 Axes>"
      ]
     },
     "metadata": {
      "needs_background": "light"
     },
     "output_type": "display_data"
    }
   ],
   "source": [
    "test_errors = [(1-i)*100 for i in search_hyp.cv_results_['mean_test_score']]\n",
    "\n",
    "plt.plot(parameters['C'], test_errors)\n",
    "plt.title('Error plot')\n",
    "plt.xlabel('C')\n",
    "plt.ylabel('Error') \n",
    "plt.show()"
   ]
  },
  {
   "cell_type": "markdown",
   "metadata": {},
   "source": [
    "Optimal C is 10."
   ]
  },
  {
   "cell_type": "code",
   "execution_count": 44,
   "metadata": {
    "ExecuteTime": {
     "end_time": "2018-10-02T12:05:21.148087Z",
     "start_time": "2018-10-02T12:05:18.691771Z"
    },
    "_uuid": "3d3e27053e69e7a698a524aea95a53add48eb280"
   },
   "outputs": [
    {
     "data": {
      "text/plain": [
       "LogisticRegression(C=10, class_weight='balanced', dual=False,\n",
       "          fit_intercept=True, intercept_scaling=1, max_iter=100,\n",
       "          multi_class='ovr', n_jobs=1, penalty='l1', random_state=None,\n",
       "          solver='liblinear', tol=0.0001, verbose=0, warm_start=False)"
      ]
     },
     "execution_count": 44,
     "metadata": {},
     "output_type": "execute_result"
    }
   ],
   "source": [
    "# training final model\n",
    "classifier = LogisticRegression(penalty='l1', class_weight='balanced',\n",
    "                                    C=search_hyp.best_params_['C'])\n",
    "classifier.fit(tfidf_train, Y_train)"
   ]
  },
  {
   "cell_type": "code",
   "execution_count": 45,
   "metadata": {
    "ExecuteTime": {
     "end_time": "2018-10-02T12:05:21.190463Z",
     "start_time": "2018-10-02T12:05:21.150059Z"
    },
    "_uuid": "eaa2348f932a98fa9f8ad1b05d55b36dd8ef7c15"
   },
   "outputs": [],
   "source": [
    "# performence metrics\n",
    "\n",
    "from sklearn import metrics\n",
    "pred = classifier.predict(tfidf_test)\n",
    "\n",
    "tr_score = classifier.score(tfidf_train, Y_train)\n",
    "accuracy = metrics.accuracy_score(Y_test, pred)\n",
    "pre = metrics.precision_score(Y_test, pred)\n",
    "rec = metrics.recall_score(Y_test, pred)\n",
    "f1 = metrics.f1_score(Y_test, pred)"
   ]
  },
  {
   "cell_type": "code",
   "execution_count": 46,
   "metadata": {
    "ExecuteTime": {
     "end_time": "2018-10-02T12:05:21.235874Z",
     "start_time": "2018-10-02T12:05:21.193262Z"
    }
   },
   "outputs": [],
   "source": [
    "from prettytable import PrettyTable\n",
    "tb2 = PrettyTable()\n",
    "tb2.field_names = ['Search Algo', 'Regularizor', 'C', 'Train accuracy', \n",
    "                  'Test accuracy', 'Precision', 'Recall', 'f1-score'] \n",
    "tb2.add_row(['Grid Search', 'L1', search_hyp.best_params_['C'], \n",
    "            round(tr_score, 2), round(accuracy, 2), round(pre, 2), \n",
    "            round(rec, 2), round(f1, 2)])"
   ]
  },
  {
   "cell_type": "code",
   "execution_count": 47,
   "metadata": {
    "ExecuteTime": {
     "end_time": "2018-10-02T12:05:21.487674Z",
     "start_time": "2018-10-02T12:05:21.237902Z"
    },
    "_uuid": "830a7fa59c3cecd8f2085e9e3374d67a74aa6dd0"
   },
   "outputs": [
    {
     "data": {
      "image/png": "[encoded data removed]",
      "text/plain": [
       "<Figure size 432x288 with 2 Axes>"
      ]
     },
     "metadata": {
      "needs_background": "light"
     },
     "output_type": "display_data"
    }
   ],
   "source": [
    "from sklearn.metrics import confusion_matrix\n",
    "cm = confusion_matrix(Y_test, pred)\n",
    "sns.heatmap(cm, annot=True, fmt='d')\n",
    "plt.show()"
   ]
  },
  {
   "cell_type": "code",
   "execution_count": 48,
   "metadata": {
    "ExecuteTime": {
     "end_time": "2018-10-02T12:05:21.878372Z",
     "start_time": "2018-10-02T12:05:21.489535Z"
    }
   },
   "outputs": [
    {
     "data": {
      "image/png": "[encoded data removed]",
      "text/plain": [
       "<Figure size 432x288 with 1 Axes>"
      ]
     },
     "metadata": {
      "needs_background": "light"
     },
     "output_type": "display_data"
    }
   ],
   "source": [
    "from wordcloud import WordCloud\n",
    "\n",
    "te = {}\n",
    "indices = np.array(list(map(abs, classifier.coef_))).argsort()[0][1970:2000]\n",
    "indices = indices.tolist()\n",
    "for ind_ in indices:\n",
    "    for word in tfidf_model.vocabulary_:\n",
    "        if tfidf_model.vocabulary_[word] == ind_:\n",
    "            te[word] = classifier.coef_[0][ind_]\n",
    "    \n",
    "wordcloud = WordCloud(width = 800, height = 600, \n",
    "                background_color ='white').generate_from_frequencies(te)\n",
    "plt.imshow(wordcloud)\n",
    "plt.show()"
   ]
  },
  {
   "cell_type": "markdown",
   "metadata": {},
   "source": [
    "### Random Search\n",
    "\n",
    "* Searching randomly for best depth."
   ]
  },
  {
   "cell_type": "code",
   "execution_count": 73,
   "metadata": {
    "ExecuteTime": {
     "end_time": "2018-10-02T12:09:17.932072Z",
     "start_time": "2018-10-02T12:09:17.928787Z"
    }
   },
   "outputs": [],
   "source": [
    "# searching for best hyperparameter\n",
    "from sklearn.model_selection import RandomizedSearchCV\n",
    "C = np.random.uniform(low=0.001, high=10, size=50)\n",
    "\n",
    "parameters = {'C':C}\n",
    "classifier_ = LogisticRegression(penalty='l1', class_weight='balanced')\n",
    "\n",
    "search_hyp = RandomizedSearchCV(classifier_, parameters, cv=tscv, n_jobs=3)"
   ]
  },
  {
   "cell_type": "code",
   "execution_count": 74,
   "metadata": {
    "ExecuteTime": {
     "end_time": "2018-10-02T12:09:39.477653Z",
     "start_time": "2018-10-02T12:09:17.934028Z"
    }
   },
   "outputs": [
    {
     "data": {
      "text/plain": [
       "{'C': 4.6989205350556515}"
      ]
     },
     "execution_count": 74,
     "metadata": {},
     "output_type": "execute_result"
    }
   ],
   "source": [
    "search_hyp.fit(tfidf_train, Y_train)\n",
    "search_hyp.best_params_"
   ]
  },
  {
   "cell_type": "code",
   "execution_count": 75,
   "metadata": {
    "ExecuteTime": {
     "end_time": "2018-10-02T12:09:39.645911Z",
     "start_time": "2018-10-02T12:09:39.479665Z"
    }
   },
   "outputs": [
    {
     "data": {
      "image/png": "[encoded data removed]",
      "text/plain": [
       "<Figure size 432x288 with 1 Axes>"
      ]
     },
     "metadata": {
      "needs_background": "light"
     },
     "output_type": "display_data"
    }
   ],
   "source": [
    "te = []\n",
    "for i in range(10):\n",
    "    te.append(search_hyp.cv_results_['params'][i]['C'])\n",
    "indices = np.argsort(te).tolist()\n",
    "test_errors = [(1-i)*100 for i in search_hyp.cv_results_['mean_test_score']]\n",
    "\n",
    "temp1 = []\n",
    "temp2 = []\n",
    "for ind in indices:\n",
    "    temp1.append(te[ind])\n",
    "    temp2.append(test_errors[ind])\n",
    "    \n",
    "plt.plot(temp1, temp2)\n",
    "plt.title('Error Plot')\n",
    "plt.xlabel(\"C\")\n",
    "plt.ylabel(\"Error\")\n",
    "plt.show()"
   ]
  },
  {
   "cell_type": "markdown",
   "metadata": {},
   "source": [
    "Optimal C is 4.69."
   ]
  },
  {
   "cell_type": "code",
   "execution_count": 76,
   "metadata": {
    "ExecuteTime": {
     "end_time": "2018-10-02T12:09:42.110508Z",
     "start_time": "2018-10-02T12:09:39.647839Z"
    }
   },
   "outputs": [
    {
     "data": {
      "text/plain": [
       "LogisticRegression(C=4.6989205350556515, class_weight='balanced', dual=False,\n",
       "          fit_intercept=True, intercept_scaling=1, max_iter=100,\n",
       "          multi_class='ovr', n_jobs=1, penalty='l1', random_state=None,\n",
       "          solver='liblinear', tol=0.0001, verbose=0, warm_start=False)"
      ]
     },
     "execution_count": 76,
     "metadata": {},
     "output_type": "execute_result"
    }
   ],
   "source": [
    "# training final model\n",
    "classifier = LogisticRegression(penalty='l1', class_weight='balanced',\n",
    "                                C=search_hyp.best_params_['C']) \n",
    "classifier.fit(tfidf_train, Y_train)"
   ]
  },
  {
   "cell_type": "code",
   "execution_count": 77,
   "metadata": {
    "ExecuteTime": {
     "end_time": "2018-10-02T12:09:42.146341Z",
     "start_time": "2018-10-02T12:09:42.112928Z"
    }
   },
   "outputs": [],
   "source": [
    "pred = classifier.predict(tfidf_test)\n",
    "\n",
    "tr_score = classifier.score(tfidf_train, Y_train)\n",
    "accuracy = metrics.accuracy_score(Y_test, pred)\n",
    "pre = metrics.precision_score(Y_test, pred)\n",
    "rec = metrics.recall_score(Y_test, pred)\n",
    "f1 = metrics.f1_score(Y_test, pred)"
   ]
  },
  {
   "cell_type": "code",
   "execution_count": 78,
   "metadata": {
    "ExecuteTime": {
     "end_time": "2018-10-02T12:09:42.187954Z",
     "start_time": "2018-10-02T12:09:42.148691Z"
    }
   },
   "outputs": [],
   "source": [
    "tb2.add_row(['Random Search', 'L1', round(search_hyp.best_params_['C'], 3), \n",
    "            round(tr_score, 2), round(accuracy, 2), round(pre, 2), \n",
    "            round(rec, 2), round(f1, 2)]) "
   ]
  },
  {
   "cell_type": "code",
   "execution_count": 79,
   "metadata": {
    "ExecuteTime": {
     "end_time": "2018-10-02T12:09:42.732299Z",
     "start_time": "2018-10-02T12:09:42.189625Z"
    }
   },
   "outputs": [
    {
     "data": {
      "image/png": "[encoded data removed]",
      "text/plain": [
       "<Figure size 432x288 with 2 Axes>"
      ]
     },
     "metadata": {
      "needs_background": "light"
     },
     "output_type": "display_data"
    }
   ],
   "source": [
    "from sklearn.metrics import confusion_matrix\n",
    "cm = confusion_matrix(Y_test, pred)\n",
    "sns.heatmap(cm, annot=True, fmt='d')\n",
    "plt.show()"
   ]
  },
  {
   "cell_type": "code",
   "execution_count": 80,
   "metadata": {
    "ExecuteTime": {
     "end_time": "2018-10-02T12:09:43.141369Z",
     "start_time": "2018-10-02T12:09:42.748185Z"
    }
   },
   "outputs": [
    {
     "data": {
      "image/png": "[encoded data removed]",
      "text/plain": [
       "<Figure size 432x288 with 1 Axes>"
      ]
     },
     "metadata": {
      "needs_background": "light"
     },
     "output_type": "display_data"
    }
   ],
   "source": [
    "from wordcloud import WordCloud\n",
    "\n",
    "te = {}\n",
    "indices = np.array(list(map(abs, classifier.coef_[0]))).argsort()[1970:2000]\n",
    "indices = indices.tolist()\n",
    "for ind_ in indices:\n",
    "    for word in tfidf_model.vocabulary_:\n",
    "        if tfidf_model.vocabulary_[word] == ind_:\n",
    "            te[word] = classifier.coef_[0][ind_]\n",
    "    \n",
    "wordcloud = WordCloud(width = 800, height = 600, \n",
    "                background_color ='white').generate_from_frequencies(te)\n",
    "plt.imshow(wordcloud)\n",
    "plt.show()"
   ]
  },
  {
   "cell_type": "code",
   "execution_count": 83,
   "metadata": {
    "ExecuteTime": {
     "end_time": "2018-10-02T12:11:24.222913Z",
     "start_time": "2018-10-02T12:11:21.161065Z"
    }
   },
   "outputs": [
    {
     "name": "stdout",
     "output_type": "stream",
     "text": [
      "percentage change of weights:  95.19999999999999\n"
     ]
    }
   ],
   "source": [
    "# pertubation test\n",
    "\n",
    "from sklearn.metrics import mean_absolute_error\n",
    "prev_weights = classifier.coef_[0]\n",
    "\n",
    "noise_data = tfidf_train.todense()\n",
    "noise_data[878] += 0.01\n",
    "classifier = LogisticRegression(penalty='l1', class_weight='balanced',\n",
    "                                C=search_hyp.best_params_['C']) \n",
    "classifier.fit(noise_data, Y_train)\n",
    "new_weights = classifier.coef_[0]\n",
    "change = cal_percChange(prev_weights, new_weights)\n",
    "print('percentage change of weights: ', change)"
   ]
  },
  {
   "cell_type": "markdown",
   "metadata": {},
   "source": [
    "- Percentage change of weights is large. So multicollinearity exists."
   ]
  },
  {
   "cell_type": "markdown",
   "metadata": {},
   "source": [
    "### L2 - regularizor\n",
    "* Using l2 type regularization term as penalty for loss in logistic Regression."
   ]
  },
  {
   "cell_type": "markdown",
   "metadata": {},
   "source": [
    "#### Grid Search\n",
    "\n",
    "* Technique for searching for optimal depth."
   ]
  },
  {
   "cell_type": "code",
   "execution_count": 84,
   "metadata": {
    "ExecuteTime": {
     "end_time": "2018-10-02T12:11:48.678958Z",
     "start_time": "2018-10-02T12:11:48.672536Z"
    },
    "_uuid": "cc09f4023dd015c4eca466fc2ab9a57621f9e7a6"
   },
   "outputs": [],
   "source": [
    "# searching for best hyperparameter\n",
    "from sklearn.linear_model import LogisticRegression\n",
    "from sklearn.model_selection import GridSearchCV\n",
    "from sklearn.model_selection import TimeSeriesSplit\n",
    "tscv = TimeSeriesSplit(n_splits=5)\n",
    "\n",
    "parameters = {'C':[0.001, 0.01, 0.1, 1, 10]}\n",
    "classifier_ = LogisticRegression(penalty='l2', class_weight='balanced')\n",
    "\n",
    "search_hyp = GridSearchCV(classifier_, parameters, cv=tscv, n_jobs=3)"
   ]
  },
  {
   "cell_type": "code",
   "execution_count": 85,
   "metadata": {
    "ExecuteTime": {
     "end_time": "2018-10-02T12:11:54.639417Z",
     "start_time": "2018-10-02T12:11:49.395519Z"
    },
    "_uuid": "92109ed7abff5bf6cd8e7b609e6cbf99541ed29e",
    "scrolled": false
   },
   "outputs": [
    {
     "data": {
      "text/plain": [
       "{'C': 10}"
      ]
     },
     "execution_count": 85,
     "metadata": {},
     "output_type": "execute_result"
    }
   ],
   "source": [
    "search_hyp.fit(tfidf_train, Y_train)\n",
    "search_hyp.best_params_"
   ]
  },
  {
   "cell_type": "code",
   "execution_count": 86,
   "metadata": {
    "ExecuteTime": {
     "end_time": "2018-10-02T12:11:54.781429Z",
     "start_time": "2018-10-02T12:11:54.641574Z"
    }
   },
   "outputs": [
    {
     "data": {
      "image/png": "[encoded data removed]",
      "text/plain": [
       "<Figure size 432x288 with 1 Axes>"
      ]
     },
     "metadata": {
      "needs_background": "light"
     },
     "output_type": "display_data"
    }
   ],
   "source": [
    "test_errors = [(1-i)*100 for i in search_hyp.cv_results_['mean_test_score']]\n",
    "\n",
    "plt.plot(parameters['C'], test_errors)\n",
    "plt.title('Error plot')\n",
    "plt.xlabel('C')\n",
    "plt.ylabel('Error') \n",
    "plt.show()"
   ]
  },
  {
   "cell_type": "markdown",
   "metadata": {},
   "source": [
    "Optimal C is 10."
   ]
  },
  {
   "cell_type": "code",
   "execution_count": 87,
   "metadata": {
    "ExecuteTime": {
     "end_time": "2018-10-02T12:11:57.471818Z",
     "start_time": "2018-10-02T12:11:54.783287Z"
    },
    "_uuid": "3d3e27053e69e7a698a524aea95a53add48eb280"
   },
   "outputs": [
    {
     "data": {
      "text/plain": [
       "LogisticRegression(C=10, class_weight='balanced', dual=False,\n",
       "          fit_intercept=True, intercept_scaling=1, max_iter=100,\n",
       "          multi_class='ovr', n_jobs=1, penalty='l2', random_state=None,\n",
       "          solver='liblinear', tol=0.0001, verbose=0, warm_start=False)"
      ]
     },
     "execution_count": 87,
     "metadata": {},
     "output_type": "execute_result"
    }
   ],
   "source": [
    "# training final model\n",
    "classifier = LogisticRegression(penalty='l2', class_weight='balanced',\n",
    "                                    C=search_hyp.best_params_['C'])\n",
    "classifier.fit(tfidf_train, Y_train)"
   ]
  },
  {
   "cell_type": "code",
   "execution_count": 88,
   "metadata": {
    "ExecuteTime": {
     "end_time": "2018-10-02T12:11:57.508268Z",
     "start_time": "2018-10-02T12:11:57.474015Z"
    },
    "_uuid": "eaa2348f932a98fa9f8ad1b05d55b36dd8ef7c15"
   },
   "outputs": [],
   "source": [
    "# performence metrics\n",
    "\n",
    "from sklearn import metrics\n",
    "pred = classifier.predict(tfidf_test)\n",
    "\n",
    "tr_score = classifier.score(tfidf_train, Y_train)\n",
    "accuracy = metrics.accuracy_score(Y_test, pred)\n",
    "pre = metrics.precision_score(Y_test, pred)\n",
    "rec = metrics.recall_score(Y_test, pred)\n",
    "f1 = metrics.f1_score(Y_test, pred)"
   ]
  },
  {
   "cell_type": "code",
   "execution_count": 89,
   "metadata": {
    "ExecuteTime": {
     "end_time": "2018-10-02T12:11:57.561515Z",
     "start_time": "2018-10-02T12:11:57.511000Z"
    }
   },
   "outputs": [],
   "source": [
    "tb2.add_row(['Grid Search', 'L2', search_hyp.best_params_['C'], \n",
    "            round(tr_score, 2), round(accuracy, 2), round(pre, 2), \n",
    "            round(rec, 2), round(f1, 2)])"
   ]
  },
  {
   "cell_type": "code",
   "execution_count": 90,
   "metadata": {
    "ExecuteTime": {
     "end_time": "2018-10-02T12:11:57.799374Z",
     "start_time": "2018-10-02T12:11:57.563465Z"
    },
    "_uuid": "830a7fa59c3cecd8f2085e9e3374d67a74aa6dd0"
   },
   "outputs": [
    {
     "data": {
      "image/png": "[encoded data removed]",
      "text/plain": [
       "<Figure size 432x288 with 2 Axes>"
      ]
     },
     "metadata": {
      "needs_background": "light"
     },
     "output_type": "display_data"
    }
   ],
   "source": [
    "from sklearn.metrics import confusion_matrix\n",
    "cm = confusion_matrix(Y_test, pred)\n",
    "sns.heatmap(cm, annot=True, fmt='d')\n",
    "plt.show()"
   ]
  },
  {
   "cell_type": "code",
   "execution_count": 91,
   "metadata": {
    "ExecuteTime": {
     "end_time": "2018-10-02T12:11:58.189609Z",
     "start_time": "2018-10-02T12:11:57.801396Z"
    }
   },
   "outputs": [
    {
     "data": {
      "image/png": "[encoded data removed]",
      "text/plain": [
       "<Figure size 432x288 with 1 Axes>"
      ]
     },
     "metadata": {
      "needs_background": "light"
     },
     "output_type": "display_data"
    }
   ],
   "source": [
    "from wordcloud import WordCloud\n",
    "\n",
    "te = {}\n",
    "indices = np.array(list(map(abs, classifier.coef_))).argsort()[0][1970:2000]\n",
    "indices = indices.tolist()\n",
    "for ind_ in indices:\n",
    "    for word in tfidf_model.vocabulary_:\n",
    "        if tfidf_model.vocabulary_[word] == ind_:\n",
    "            te[word] = classifier.coef_[0][ind_]\n",
    "    \n",
    "wordcloud = WordCloud(width = 800, height = 600, \n",
    "                background_color ='white').generate_from_frequencies(te)\n",
    "plt.imshow(wordcloud)\n",
    "plt.show()"
   ]
  },
  {
   "cell_type": "markdown",
   "metadata": {},
   "source": [
    "### Random Search\n",
    "\n",
    "* Searching randomly for best depth."
   ]
  },
  {
   "cell_type": "code",
   "execution_count": 92,
   "metadata": {
    "ExecuteTime": {
     "end_time": "2018-10-02T12:11:58.199633Z",
     "start_time": "2018-10-02T12:11:58.191838Z"
    }
   },
   "outputs": [],
   "source": [
    "# searching for best hyperparameter\n",
    "from sklearn.model_selection import RandomizedSearchCV\n",
    "C = np.random.uniform(low=0.001, high=10, size=50)\n",
    "\n",
    "parameters = {'C':C}\n",
    "classifier_ = LogisticRegression(penalty='l2', class_weight='balanced')\n",
    "\n",
    "search_hyp = RandomizedSearchCV(classifier_, parameters, cv=tscv, n_jobs=3)"
   ]
  },
  {
   "cell_type": "code",
   "execution_count": 93,
   "metadata": {
    "ExecuteTime": {
     "end_time": "2018-10-02T12:12:52.209124Z",
     "start_time": "2018-10-02T12:11:58.308460Z"
    }
   },
   "outputs": [
    {
     "data": {
      "text/plain": [
       "{'C': 0.5015477301865224}"
      ]
     },
     "execution_count": 93,
     "metadata": {},
     "output_type": "execute_result"
    }
   ],
   "source": [
    "search_hyp.fit(bow_train, Y_train)\n",
    "search_hyp.best_params_"
   ]
  },
  {
   "cell_type": "code",
   "execution_count": 94,
   "metadata": {
    "ExecuteTime": {
     "end_time": "2018-10-02T12:12:52.417387Z",
     "start_time": "2018-10-02T12:12:52.214971Z"
    }
   },
   "outputs": [
    {
     "data": {
      "image/png": "[encoded data removed]",
      "text/plain": [
       "<Figure size 432x288 with 1 Axes>"
      ]
     },
     "metadata": {
      "needs_background": "light"
     },
     "output_type": "display_data"
    }
   ],
   "source": [
    "te = []\n",
    "for i in range(10):\n",
    "    te.append(search_hyp.cv_results_['params'][i]['C'])\n",
    "indices = np.argsort(te).tolist()\n",
    "test_errors = [(1-i)*100 for i in search_hyp.cv_results_['mean_test_score']]\n",
    "\n",
    "temp1 = []\n",
    "temp2 = []\n",
    "for ind in indices:\n",
    "    temp1.append(te[ind])\n",
    "    temp2.append(test_errors[ind])\n",
    "    \n",
    "plt.plot(temp1, temp2)\n",
    "plt.title('Error Plot')\n",
    "plt.xlabel(\"C\")\n",
    "plt.ylabel(\"Error\")\n",
    "plt.show()"
   ]
  },
  {
   "cell_type": "markdown",
   "metadata": {},
   "source": [
    "Optimal C is 0.501."
   ]
  },
  {
   "cell_type": "code",
   "execution_count": 95,
   "metadata": {
    "ExecuteTime": {
     "end_time": "2018-10-02T12:12:53.234445Z",
     "start_time": "2018-10-02T12:12:52.423372Z"
    }
   },
   "outputs": [
    {
     "data": {
      "text/plain": [
       "LogisticRegression(C=0.5015477301865224, class_weight='balanced', dual=False,\n",
       "          fit_intercept=True, intercept_scaling=1, max_iter=100,\n",
       "          multi_class='ovr', n_jobs=1, penalty='l2', random_state=None,\n",
       "          solver='liblinear', tol=0.0001, verbose=0, warm_start=False)"
      ]
     },
     "execution_count": 95,
     "metadata": {},
     "output_type": "execute_result"
    }
   ],
   "source": [
    "# training final model\n",
    "classifier = LogisticRegression(penalty='l2', class_weight='balanced',\n",
    "                                C=search_hyp.best_params_['C']) \n",
    "classifier.fit(tfidf_train, Y_train)"
   ]
  },
  {
   "cell_type": "code",
   "execution_count": 96,
   "metadata": {
    "ExecuteTime": {
     "end_time": "2018-10-02T12:12:53.277567Z",
     "start_time": "2018-10-02T12:12:53.237027Z"
    }
   },
   "outputs": [],
   "source": [
    "pred = classifier.predict(tfidf_test)\n",
    "\n",
    "tr_score = classifier.score(tfidf_train, Y_train)\n",
    "accuracy = metrics.accuracy_score(Y_test, pred)\n",
    "pre = metrics.precision_score(Y_test, pred)\n",
    "rec = metrics.recall_score(Y_test, pred)\n",
    "f1 = metrics.f1_score(Y_test, pred)"
   ]
  },
  {
   "cell_type": "code",
   "execution_count": 97,
   "metadata": {
    "ExecuteTime": {
     "end_time": "2018-10-02T12:12:53.308003Z",
     "start_time": "2018-10-02T12:12:53.280355Z"
    }
   },
   "outputs": [],
   "source": [
    "tb2.add_row(['Random Search', 'L2', round(search_hyp.best_params_['C'], 3), \n",
    "            round(tr_score, 2), round(accuracy, 2), round(pre, 2), \n",
    "            round(rec, 2), round(f1, 2)]) "
   ]
  },
  {
   "cell_type": "code",
   "execution_count": 98,
   "metadata": {
    "ExecuteTime": {
     "end_time": "2018-10-02T12:12:53.596063Z",
     "start_time": "2018-10-02T12:12:53.310652Z"
    }
   },
   "outputs": [
    {
     "data": {
      "image/png": "[encoded data removed]",
      "text/plain": [
       "<Figure size 432x288 with 2 Axes>"
      ]
     },
     "metadata": {
      "needs_background": "light"
     },
     "output_type": "display_data"
    }
   ],
   "source": [
    "from sklearn.metrics import confusion_matrix\n",
    "cm = confusion_matrix(Y_test, pred)\n",
    "sns.heatmap(cm, annot=True, fmt='d')\n",
    "plt.show()"
   ]
  },
  {
   "cell_type": "code",
   "execution_count": 99,
   "metadata": {
    "ExecuteTime": {
     "end_time": "2018-10-02T12:12:54.036352Z",
     "start_time": "2018-10-02T12:12:53.599152Z"
    }
   },
   "outputs": [
    {
     "data": {
      "image/png": "[encoded data removed]",
      "text/plain": [
       "<Figure size 432x288 with 1 Axes>"
      ]
     },
     "metadata": {
      "needs_background": "light"
     },
     "output_type": "display_data"
    }
   ],
   "source": [
    "from wordcloud import WordCloud\n",
    "\n",
    "te = {}\n",
    "indices = np.array(list(map(abs, classifier.coef_[0]))).argsort()[1970:2000]\n",
    "indices = indices.tolist()\n",
    "for ind_ in indices:\n",
    "    for word in tfidf_model.vocabulary_:\n",
    "        if tfidf_model.vocabulary_[word] == ind_:\n",
    "            te[word] = classifier.coef_[0][ind_]\n",
    "    \n",
    "wordcloud = WordCloud(width = 800, height = 600, \n",
    "                background_color ='white').generate_from_frequencies(te)\n",
    "plt.imshow(wordcloud)\n",
    "plt.show()"
   ]
  },
  {
   "cell_type": "code",
   "execution_count": 103,
   "metadata": {
    "ExecuteTime": {
     "end_time": "2018-10-02T12:14:45.517029Z",
     "start_time": "2018-10-02T12:14:43.895056Z"
    }
   },
   "outputs": [
    {
     "name": "stdout",
     "output_type": "stream",
     "text": [
      "percentage change of weights:  0.0\n"
     ]
    }
   ],
   "source": [
    "# pertubation test\n",
    "\n",
    "from sklearn.metrics import mean_absolute_error\n",
    "prev_weights = classifier.coef_[0]\n",
    "\n",
    "noise_data = tfidf_train.todense()\n",
    "noise_data[878] += 0.01\n",
    "classifier = LogisticRegression(penalty='l2', class_weight='balanced',\n",
    "                                C=search_hyp.best_params_['C']) \n",
    "classifier.fit(noise_data, Y_train)\n",
    "new_weights = classifier.coef_[0]\n",
    "change = cal_percChange(prev_weights, new_weights)\n",
    "print('percentage change of weights: ', change)"
   ]
  },
  {
   "cell_type": "markdown",
   "metadata": {},
   "source": [
    "- Percentage change is zero. So no multicollinearity exists."
   ]
  },
  {
   "cell_type": "markdown",
   "metadata": {},
   "source": [
    "# Word2vec\n",
    "\n",
    "* Trained own word2vec using gensim module. Considered words which has frequency more than 5 in whole data.\n",
    "* Trained word2vec using Word2vec function from gensim.models.\n",
    "* Trained for vector of size 150. And converted each word into a vector of size 150.\n",
    "* Added all vectors of a sentence and divided with total number of vectors in sentence. So that we can get average word2vec value for each sentence."
   ]
  },
  {
   "cell_type": "code",
   "execution_count": 74,
   "metadata": {
    "ExecuteTime": {
     "end_time": "2018-09-30T10:35:14.253166Z",
     "start_time": "2018-09-30T10:34:40.967096Z"
    }
   },
   "outputs": [],
   "source": [
    "# training word2vec on training data\n",
    "from gensim.models import Word2Vec\n",
    "sentences = []\n",
    "for row in X_train:\n",
    "    sentences.append([word for word in row.split()])\n",
    "\n",
    "w2v = Word2Vec(sentences, min_count=5, size=150, workers=3)\n",
    "avgw2v_train = []\n",
    "for row in sentences:\n",
    "    te = [0 for i in range(150)]\n",
    "    num = 0\n",
    "    for word in row:\n",
    "        try:\n",
    "            te += w2v[word]\n",
    "            num += 1\n",
    "        except:\n",
    "            pass\n",
    "    avgw2v_train.append(te/num)"
   ]
  },
  {
   "cell_type": "code",
   "execution_count": 75,
   "metadata": {
    "ExecuteTime": {
     "end_time": "2018-09-30T10:35:24.668176Z",
     "start_time": "2018-09-30T10:35:14.255118Z"
    }
   },
   "outputs": [],
   "source": [
    "# converting test data\n",
    "\n",
    "sentences = []\n",
    "for row in X_test:\n",
    "    sentences.append([word for word in row.split()])\n",
    "\n",
    "avgw2v_test = []\n",
    "for row in sentences:\n",
    "    te = [0 for i in range(150)]\n",
    "    num = 0\n",
    "    for word in row:\n",
    "        try:\n",
    "            te += w2v[word]\n",
    "            num += 1\n",
    "        except:\n",
    "            pass\n",
    "    avgw2v_test.append(te/num)"
   ]
  },
  {
   "cell_type": "markdown",
   "metadata": {
    "_uuid": "04e8e63899ccdfdd72d1dc4dccc1e275d0bbe5f3"
   },
   "source": [
    "## Logistic Regression\n",
    "\n",
    "* Training Logistic Regression using LogisticRegression from sklearn.linear_model module.\n",
    "* Trained on Average word2vec data."
   ]
  },
  {
   "cell_type": "markdown",
   "metadata": {},
   "source": [
    "### L1 - regularizor\n",
    "* Using l1 type regularization term as penalty for loss in logistic Regression."
   ]
  },
  {
   "cell_type": "markdown",
   "metadata": {},
   "source": [
    "#### Grid Search\n",
    "\n",
    "* Technique for searching for optimal depth."
   ]
  },
  {
   "cell_type": "code",
   "execution_count": 76,
   "metadata": {
    "ExecuteTime": {
     "end_time": "2018-09-30T10:35:24.674823Z",
     "start_time": "2018-09-30T10:35:24.669825Z"
    },
    "_uuid": "cc09f4023dd015c4eca466fc2ab9a57621f9e7a6"
   },
   "outputs": [],
   "source": [
    "# searching for best hyperparameter\n",
    "from sklearn.linear_model import LogisticRegression\n",
    "from sklearn.model_selection import GridSearchCV\n",
    "from sklearn.model_selection import TimeSeriesSplit\n",
    "tscv = TimeSeriesSplit(n_splits=5)\n",
    "\n",
    "parameters = {'C':[0.001, 0.01, 0.1, 1, 10]}\n",
    "classifier_ = LogisticRegression(penalty='l1', class_weight='balanced')\n",
    "\n",
    "search_hyp = GridSearchCV(classifier_, parameters, cv=tscv, n_jobs=3)"
   ]
  },
  {
   "cell_type": "code",
   "execution_count": 77,
   "metadata": {
    "ExecuteTime": {
     "end_time": "2018-09-30T10:41:47.166318Z",
     "start_time": "2018-09-30T10:35:24.676263Z"
    },
    "_uuid": "92109ed7abff5bf6cd8e7b609e6cbf99541ed29e",
    "scrolled": false
   },
   "outputs": [
    {
     "data": {
      "text/plain": [
       "{'C': 10}"
      ]
     },
     "execution_count": 77,
     "metadata": {},
     "output_type": "execute_result"
    }
   ],
   "source": [
    "search_hyp.fit(avgw2v_train, Y_train)\n",
    "search_hyp.best_params_"
   ]
  },
  {
   "cell_type": "code",
   "execution_count": 78,
   "metadata": {
    "ExecuteTime": {
     "end_time": "2018-09-30T10:41:47.346209Z",
     "start_time": "2018-09-30T10:41:47.169053Z"
    }
   },
   "outputs": [
    {
     "data": {
      "image/png": "[encoded data removed]",
      "text/plain": [
       "<Figure size 432x288 with 1 Axes>"
      ]
     },
     "metadata": {
      "needs_background": "light"
     },
     "output_type": "display_data"
    }
   ],
   "source": [
    "test_errors = [(1-i)*100 for i in search_hyp.cv_results_['mean_test_score']]\n",
    "\n",
    "plt.plot(parameters['C'], test_errors)\n",
    "plt.title('Error plot')\n",
    "plt.xlabel('C')\n",
    "plt.ylabel('Error') \n",
    "plt.show()"
   ]
  },
  {
   "cell_type": "markdown",
   "metadata": {},
   "source": [
    "Optimal C is 10."
   ]
  },
  {
   "cell_type": "code",
   "execution_count": 79,
   "metadata": {
    "ExecuteTime": {
     "end_time": "2018-09-30T10:43:20.567416Z",
     "start_time": "2018-09-30T10:41:47.350298Z"
    },
    "_uuid": "3d3e27053e69e7a698a524aea95a53add48eb280"
   },
   "outputs": [
    {
     "data": {
      "text/plain": [
       "LogisticRegression(C=10, class_weight='balanced', dual=False,\n",
       "          fit_intercept=True, intercept_scaling=1, max_iter=100,\n",
       "          multi_class='ovr', n_jobs=1, penalty='l1', random_state=None,\n",
       "          solver='liblinear', tol=0.0001, verbose=0, warm_start=False)"
      ]
     },
     "execution_count": 79,
     "metadata": {},
     "output_type": "execute_result"
    }
   ],
   "source": [
    "# training final model\n",
    "classifier = LogisticRegression(penalty='l1', class_weight='balanced',\n",
    "                                    C=search_hyp.best_params_['C'])\n",
    "classifier.fit(avgw2v_train, Y_train)"
   ]
  },
  {
   "cell_type": "code",
   "execution_count": 80,
   "metadata": {
    "ExecuteTime": {
     "end_time": "2018-09-30T10:43:20.714725Z",
     "start_time": "2018-09-30T10:43:20.569401Z"
    },
    "_uuid": "eaa2348f932a98fa9f8ad1b05d55b36dd8ef7c15"
   },
   "outputs": [],
   "source": [
    "# performence metrics\n",
    "\n",
    "from sklearn import metrics\n",
    "pred = classifier.predict(avgw2v_test)\n",
    "\n",
    "tr_score = classifier.score(avgw2v_train, Y_train)\n",
    "accuracy = metrics.accuracy_score(Y_test, pred)\n",
    "pre = metrics.precision_score(Y_test, pred)\n",
    "rec = metrics.recall_score(Y_test, pred)\n",
    "f1 = metrics.f1_score(Y_test, pred)"
   ]
  },
  {
   "cell_type": "code",
   "execution_count": 81,
   "metadata": {
    "ExecuteTime": {
     "end_time": "2018-09-30T10:43:20.781354Z",
     "start_time": "2018-09-30T10:43:20.716596Z"
    }
   },
   "outputs": [],
   "source": [
    "from prettytable import PrettyTable\n",
    "tb3 = PrettyTable()\n",
    "tb3.field_names = ['Search Algo', 'Regularizor', 'C', 'Train accuracy', \n",
    "                  'Test accuracy', 'Precision', 'Recall', 'f1-score'] \n",
    "tb3.add_row(['Grid Search', 'L1', search_hyp.best_params_['C'], \n",
    "            round(tr_score, 2), round(accuracy, 2), round(pre, 2), \n",
    "            round(rec, 2), round(f1, 2)])"
   ]
  },
  {
   "cell_type": "code",
   "execution_count": 82,
   "metadata": {
    "ExecuteTime": {
     "end_time": "2018-09-30T10:43:21.009640Z",
     "start_time": "2018-09-30T10:43:20.786361Z"
    },
    "_uuid": "830a7fa59c3cecd8f2085e9e3374d67a74aa6dd0"
   },
   "outputs": [
    {
     "data": {
      "image/png": "[encoded data removed]",
      "text/plain": [
       "<Figure size 432x288 with 2 Axes>"
      ]
     },
     "metadata": {
      "needs_background": "light"
     },
     "output_type": "display_data"
    }
   ],
   "source": [
    "from sklearn.metrics import confusion_matrix\n",
    "cm = confusion_matrix(Y_test, pred)\n",
    "sns.heatmap(cm, annot=True, fmt='d')\n",
    "plt.show()"
   ]
  },
  {
   "cell_type": "markdown",
   "metadata": {},
   "source": [
    "### Random Search\n",
    "\n",
    "* Searching randomly for best depth."
   ]
  },
  {
   "cell_type": "code",
   "execution_count": 83,
   "metadata": {
    "ExecuteTime": {
     "end_time": "2018-09-30T10:43:22.719315Z",
     "start_time": "2018-09-30T10:43:21.011614Z"
    }
   },
   "outputs": [],
   "source": [
    "# searching for best hyperparameter\n",
    "from sklearn.model_selection import RandomizedSearchCV\n",
    "C = np.random.uniform(low=0.001, high=10, size=50)\n",
    "\n",
    "parameters = {'C':C}\n",
    "classifier_ = LogisticRegression(penalty='l1', class_weight='balanced')\n",
    "\n",
    "search_hyp = RandomizedSearchCV(classifier_, parameters, cv=tscv, n_jobs=3)"
   ]
  },
  {
   "cell_type": "code",
   "execution_count": 85,
   "metadata": {
    "ExecuteTime": {
     "end_time": "2018-09-30T11:20:24.623076Z",
     "start_time": "2018-09-30T11:02:25.597461Z"
    }
   },
   "outputs": [
    {
     "data": {
      "text/plain": [
       "{'C': 8.60632059226799}"
      ]
     },
     "execution_count": 85,
     "metadata": {},
     "output_type": "execute_result"
    }
   ],
   "source": [
    "search_hyp.fit(avgw2v_train, Y_train)\n",
    "search_hyp.best_params_"
   ]
  },
  {
   "cell_type": "code",
   "execution_count": 86,
   "metadata": {
    "ExecuteTime": {
     "end_time": "2018-09-30T11:20:24.754218Z",
     "start_time": "2018-09-30T11:20:24.625185Z"
    }
   },
   "outputs": [
    {
     "data": {
      "image/png": "[encoded data removed]",
      "text/plain": [
       "<Figure size 432x288 with 1 Axes>"
      ]
     },
     "metadata": {
      "needs_background": "light"
     },
     "output_type": "display_data"
    }
   ],
   "source": [
    "te = []\n",
    "for i in range(10):\n",
    "    te.append(search_hyp.cv_results_['params'][i]['C'])\n",
    "indices = np.argsort(te).tolist()\n",
    "test_errors = [(1-i)*100 for i in search_hyp.cv_results_['mean_test_score']]\n",
    "\n",
    "temp1 = []\n",
    "temp2 = []\n",
    "for ind in indices:\n",
    "    temp1.append(te[ind])\n",
    "    temp2.append(test_errors[ind])\n",
    "    \n",
    "plt.plot(temp1, temp2)\n",
    "plt.title('Error Plot')\n",
    "plt.xlabel(\"C\")\n",
    "plt.ylabel(\"Error\")\n",
    "plt.show()"
   ]
  },
  {
   "cell_type": "markdown",
   "metadata": {},
   "source": [
    "Optimal C is 5.192."
   ]
  },
  {
   "cell_type": "code",
   "execution_count": 87,
   "metadata": {
    "ExecuteTime": {
     "end_time": "2018-09-30T11:21:57.031925Z",
     "start_time": "2018-09-30T11:20:24.755774Z"
    }
   },
   "outputs": [
    {
     "data": {
      "text/plain": [
       "LogisticRegression(C=8.60632059226799, class_weight='balanced', dual=False,\n",
       "          fit_intercept=True, intercept_scaling=1, max_iter=100,\n",
       "          multi_class='ovr', n_jobs=1, penalty='l1', random_state=None,\n",
       "          solver='liblinear', tol=0.0001, verbose=0, warm_start=False)"
      ]
     },
     "execution_count": 87,
     "metadata": {},
     "output_type": "execute_result"
    }
   ],
   "source": [
    "# training final model\n",
    "classifier = LogisticRegression(penalty='l1', class_weight='balanced',\n",
    "                                C=search_hyp.best_params_['C']) \n",
    "classifier.fit(avgw2v_train, Y_train)"
   ]
  },
  {
   "cell_type": "code",
   "execution_count": 88,
   "metadata": {
    "ExecuteTime": {
     "end_time": "2018-09-30T11:21:57.175775Z",
     "start_time": "2018-09-30T11:21:57.033991Z"
    }
   },
   "outputs": [],
   "source": [
    "pred = classifier.predict(avgw2v_test)\n",
    "\n",
    "tr_score = classifier.score(avgw2v_train, Y_train)\n",
    "accuracy = metrics.accuracy_score(Y_test, pred)\n",
    "pre = metrics.precision_score(Y_test, pred)\n",
    "rec = metrics.recall_score(Y_test, pred)\n",
    "f1 = metrics.f1_score(Y_test, pred)"
   ]
  },
  {
   "cell_type": "code",
   "execution_count": 89,
   "metadata": {
    "ExecuteTime": {
     "end_time": "2018-09-30T11:21:57.180238Z",
     "start_time": "2018-09-30T11:21:57.177435Z"
    }
   },
   "outputs": [],
   "source": [
    "tb3.add_row(['Random Search', 'L1', round(search_hyp.best_params_['C'], 3), \n",
    "            round(tr_score, 2), round(accuracy, 2), round(pre, 2), \n",
    "            round(rec, 2), round(f1, 2)]) "
   ]
  },
  {
   "cell_type": "code",
   "execution_count": 90,
   "metadata": {
    "ExecuteTime": {
     "end_time": "2018-09-30T11:21:57.546045Z",
     "start_time": "2018-09-30T11:21:57.182012Z"
    }
   },
   "outputs": [
    {
     "data": {
      "image/png": "[encoded data removed]",
      "text/plain": [
       "<Figure size 432x288 with 2 Axes>"
      ]
     },
     "metadata": {
      "needs_background": "light"
     },
     "output_type": "display_data"
    }
   ],
   "source": [
    "from sklearn.metrics import confusion_matrix\n",
    "cm = confusion_matrix(Y_test, pred)\n",
    "sns.heatmap(cm, annot=True, fmt='d')\n",
    "plt.show()"
   ]
  },
  {
   "cell_type": "markdown",
   "metadata": {},
   "source": [
    "### L2 - regularizor\n",
    "* Using l2 type regularization term as penalty for loss in logistic Regression."
   ]
  },
  {
   "cell_type": "markdown",
   "metadata": {},
   "source": [
    "#### Grid Search\n",
    "\n",
    "* Technique for searching for optimal depth."
   ]
  },
  {
   "cell_type": "code",
   "execution_count": 92,
   "metadata": {
    "ExecuteTime": {
     "end_time": "2018-09-30T11:23:16.742815Z",
     "start_time": "2018-09-30T11:23:16.736400Z"
    },
    "_uuid": "cc09f4023dd015c4eca466fc2ab9a57621f9e7a6"
   },
   "outputs": [],
   "source": [
    "# searching for best hyperparameter\n",
    "from sklearn.linear_model import LogisticRegression\n",
    "from sklearn.model_selection import GridSearchCV\n",
    "from sklearn.model_selection import TimeSeriesSplit\n",
    "tscv = TimeSeriesSplit(n_splits=5)\n",
    "\n",
    "parameters = {'C':[0.001, 0.01, 0.1, 1, 10]}\n",
    "classifier_ = LogisticRegression(penalty='l2', class_weight='balanced')\n",
    "\n",
    "search_hyp = GridSearchCV(classifier_, parameters, cv=tscv, n_jobs=3)"
   ]
  },
  {
   "cell_type": "code",
   "execution_count": 93,
   "metadata": {
    "ExecuteTime": {
     "end_time": "2018-09-30T11:24:16.660879Z",
     "start_time": "2018-09-30T11:23:16.744377Z"
    },
    "_uuid": "92109ed7abff5bf6cd8e7b609e6cbf99541ed29e",
    "scrolled": false
   },
   "outputs": [
    {
     "data": {
      "text/plain": [
       "{'C': 10}"
      ]
     },
     "execution_count": 93,
     "metadata": {},
     "output_type": "execute_result"
    }
   ],
   "source": [
    "search_hyp.fit(avgw2v_train, Y_train)\n",
    "search_hyp.best_params_"
   ]
  },
  {
   "cell_type": "code",
   "execution_count": 94,
   "metadata": {
    "ExecuteTime": {
     "end_time": "2018-09-30T11:24:16.772918Z",
     "start_time": "2018-09-30T11:24:16.663074Z"
    }
   },
   "outputs": [
    {
     "data": {
      "image/png": "[encoded data removed]",
      "text/plain": [
       "<Figure size 432x288 with 1 Axes>"
      ]
     },
     "metadata": {
      "needs_background": "light"
     },
     "output_type": "display_data"
    }
   ],
   "source": [
    "test_errors = [(1-i)*100 for i in search_hyp.cv_results_['mean_test_score']]\n",
    "\n",
    "plt.plot(parameters['C'], test_errors)\n",
    "plt.title('Error plot')\n",
    "plt.xlabel('C')\n",
    "plt.ylabel('Error') \n",
    "plt.show()"
   ]
  },
  {
   "cell_type": "markdown",
   "metadata": {},
   "source": [
    "Optimal C is 10."
   ]
  },
  {
   "cell_type": "code",
   "execution_count": 95,
   "metadata": {
    "ExecuteTime": {
     "end_time": "2018-09-30T11:24:22.950238Z",
     "start_time": "2018-09-30T11:24:16.774430Z"
    },
    "_uuid": "3d3e27053e69e7a698a524aea95a53add48eb280"
   },
   "outputs": [
    {
     "data": {
      "text/plain": [
       "LogisticRegression(C=10, class_weight='balanced', dual=False,\n",
       "          fit_intercept=True, intercept_scaling=1, max_iter=100,\n",
       "          multi_class='ovr', n_jobs=1, penalty='l2', random_state=None,\n",
       "          solver='liblinear', tol=0.0001, verbose=0, warm_start=False)"
      ]
     },
     "execution_count": 95,
     "metadata": {},
     "output_type": "execute_result"
    }
   ],
   "source": [
    "# training final model\n",
    "classifier = LogisticRegression(penalty='l2', class_weight='balanced',\n",
    "                                    C=search_hyp.best_params_['C'])\n",
    "classifier.fit(avgw2v_train, Y_train)"
   ]
  },
  {
   "cell_type": "code",
   "execution_count": 96,
   "metadata": {
    "ExecuteTime": {
     "end_time": "2018-09-30T11:24:23.151469Z",
     "start_time": "2018-09-30T11:24:22.952198Z"
    },
    "_uuid": "eaa2348f932a98fa9f8ad1b05d55b36dd8ef7c15"
   },
   "outputs": [],
   "source": [
    "# performence metrics\n",
    "\n",
    "from sklearn import metrics\n",
    "pred = classifier.predict(avgw2v_test)\n",
    "\n",
    "tr_score = classifier.score(avgw2v_train, Y_train)\n",
    "accuracy = metrics.accuracy_score(Y_test, pred)\n",
    "pre = metrics.precision_score(Y_test, pred)\n",
    "rec = metrics.recall_score(Y_test, pred)\n",
    "f1 = metrics.f1_score(Y_test, pred)"
   ]
  },
  {
   "cell_type": "code",
   "execution_count": 97,
   "metadata": {
    "ExecuteTime": {
     "end_time": "2018-09-30T11:24:23.158438Z",
     "start_time": "2018-09-30T11:24:23.153823Z"
    }
   },
   "outputs": [],
   "source": [
    "tb3.add_row(['Grid Search', 'L2', search_hyp.best_params_['C'], \n",
    "            round(tr_score, 2), round(accuracy, 2), round(pre, 2), \n",
    "            round(rec, 2), round(f1, 2)])"
   ]
  },
  {
   "cell_type": "code",
   "execution_count": 98,
   "metadata": {
    "ExecuteTime": {
     "end_time": "2018-09-30T11:24:23.350892Z",
     "start_time": "2018-09-30T11:24:23.160978Z"
    },
    "_uuid": "830a7fa59c3cecd8f2085e9e3374d67a74aa6dd0"
   },
   "outputs": [
    {
     "data": {
      "image/png": "[encoded data removed]",
      "text/plain": [
       "<Figure size 432x288 with 2 Axes>"
      ]
     },
     "metadata": {
      "needs_background": "light"
     },
     "output_type": "display_data"
    }
   ],
   "source": [
    "from sklearn.metrics import confusion_matrix\n",
    "cm = confusion_matrix(Y_test, pred)\n",
    "sns.heatmap(cm, annot=True, fmt='d')\n",
    "plt.show()"
   ]
  },
  {
   "cell_type": "markdown",
   "metadata": {},
   "source": [
    "### Random Search\n",
    "\n",
    "* Searching randomly for best depth."
   ]
  },
  {
   "cell_type": "code",
   "execution_count": 99,
   "metadata": {
    "ExecuteTime": {
     "end_time": "2018-09-30T11:24:23.359601Z",
     "start_time": "2018-09-30T11:24:23.354226Z"
    }
   },
   "outputs": [],
   "source": [
    "# searching for best hyperparameter\n",
    "from sklearn.model_selection import RandomizedSearchCV\n",
    "C = np.random.uniform(low=0.001, high=10, size=50)\n",
    "\n",
    "parameters = {'C':C}\n",
    "classifier_ = LogisticRegression(penalty='l2', class_weight='balanced')\n",
    "\n",
    "search_hyp = RandomizedSearchCV(classifier_, parameters, cv=tscv, n_jobs=3)"
   ]
  },
  {
   "cell_type": "code",
   "execution_count": 100,
   "metadata": {
    "ExecuteTime": {
     "end_time": "2018-09-30T11:26:44.377998Z",
     "start_time": "2018-09-30T11:24:23.361378Z"
    }
   },
   "outputs": [
    {
     "data": {
      "text/plain": [
       "{'C': 8.636128078187916}"
      ]
     },
     "execution_count": 100,
     "metadata": {},
     "output_type": "execute_result"
    }
   ],
   "source": [
    "search_hyp.fit(avgw2v_train, Y_train) \n",
    "search_hyp.best_params_"
   ]
  },
  {
   "cell_type": "code",
   "execution_count": 101,
   "metadata": {
    "ExecuteTime": {
     "end_time": "2018-09-30T11:26:44.490266Z",
     "start_time": "2018-09-30T11:26:44.380094Z"
    }
   },
   "outputs": [
    {
     "data": {
      "image/png": "[encoded data removed]",
      "text/plain": [
       "<Figure size 432x288 with 1 Axes>"
      ]
     },
     "metadata": {
      "needs_background": "light"
     },
     "output_type": "display_data"
    }
   ],
   "source": [
    "te = []\n",
    "for i in range(10):\n",
    "    te.append(search_hyp.cv_results_['params'][i]['C'])\n",
    "indices = np.argsort(te).tolist()\n",
    "test_errors = [(1-i)*100 for i in search_hyp.cv_results_['mean_test_score']]\n",
    "\n",
    "temp1 = []\n",
    "temp2 = []\n",
    "for ind in indices:\n",
    "    temp1.append(te[ind])\n",
    "    temp2.append(test_errors[ind])\n",
    "    \n",
    "plt.plot(temp1, temp2)\n",
    "plt.title('Error Plot')\n",
    "plt.xlabel(\"C\")\n",
    "plt.ylabel(\"Error\")\n",
    "plt.show()"
   ]
  },
  {
   "cell_type": "markdown",
   "metadata": {},
   "source": [
    "Optimal C is 0.074."
   ]
  },
  {
   "cell_type": "code",
   "execution_count": 102,
   "metadata": {
    "ExecuteTime": {
     "end_time": "2018-09-30T11:26:50.631072Z",
     "start_time": "2018-09-30T11:26:44.491759Z"
    }
   },
   "outputs": [
    {
     "data": {
      "text/plain": [
       "LogisticRegression(C=8.636128078187916, class_weight='balanced', dual=False,\n",
       "          fit_intercept=True, intercept_scaling=1, max_iter=100,\n",
       "          multi_class='ovr', n_jobs=1, penalty='l2', random_state=None,\n",
       "          solver='liblinear', tol=0.0001, verbose=0, warm_start=False)"
      ]
     },
     "execution_count": 102,
     "metadata": {},
     "output_type": "execute_result"
    }
   ],
   "source": [
    "# training final model\n",
    "classifier = LogisticRegression(penalty='l2', class_weight='balanced',\n",
    "                                C=search_hyp.best_params_['C']) \n",
    "classifier.fit(avgw2v_train, Y_train)"
   ]
  },
  {
   "cell_type": "code",
   "execution_count": 103,
   "metadata": {
    "ExecuteTime": {
     "end_time": "2018-09-30T11:26:50.780266Z",
     "start_time": "2018-09-30T11:26:50.633204Z"
    }
   },
   "outputs": [],
   "source": [
    "pred = classifier.predict(avgw2v_test)\n",
    "\n",
    "tr_score = classifier.score(avgw2v_train, Y_train)\n",
    "accuracy = metrics.accuracy_score(Y_test, pred)\n",
    "pre = metrics.precision_score(Y_test, pred)\n",
    "rec = metrics.recall_score(Y_test, pred)\n",
    "f1 = metrics.f1_score(Y_test, pred)"
   ]
  },
  {
   "cell_type": "code",
   "execution_count": 104,
   "metadata": {
    "ExecuteTime": {
     "end_time": "2018-09-30T11:26:52.630007Z",
     "start_time": "2018-09-30T11:26:50.781675Z"
    }
   },
   "outputs": [],
   "source": [
    "tb3.add_row(['Random Search', 'L2', round(search_hyp.best_params_['C'], 3), \n",
    "            round(tr_score, 2), round(accuracy, 2), round(pre, 2), \n",
    "            round(rec, 2), round(f1, 2)]) "
   ]
  },
  {
   "cell_type": "code",
   "execution_count": 105,
   "metadata": {
    "ExecuteTime": {
     "end_time": "2018-09-30T11:26:53.490584Z",
     "start_time": "2018-09-30T11:26:52.632951Z"
    }
   },
   "outputs": [
    {
     "data": {
      "image/png": "[encoded data removed]",
      "text/plain": [
       "<Figure size 432x288 with 2 Axes>"
      ]
     },
     "metadata": {
      "needs_background": "light"
     },
     "output_type": "display_data"
    }
   ],
   "source": [
    "from sklearn.metrics import confusion_matrix\n",
    "cm = confusion_matrix(Y_test, pred)\n",
    "sns.heatmap(cm, annot=True, fmt='d')\n",
    "plt.show()"
   ]
  },
  {
   "cell_type": "markdown",
   "metadata": {},
   "source": [
    "# Tf-IDF word2vec\n",
    "\n",
    "* Using pre-trained tf-idf vectors and word2vec of size 150.\n",
    "* Multiplying each word's word2vec vector and tf-idf value of that word in respected sentence.\n",
    "* Executing above step for each word in a sentence and took sum of values of all words in a sentence.\n",
    "* And this sum is divided by sum of tf-idf values of all words in sentences. Finally gives tf-idf word2vec values of size 150 for each sentence."
   ]
  },
  {
   "cell_type": "code",
   "execution_count": 110,
   "metadata": {
    "ExecuteTime": {
     "end_time": "2018-09-30T11:37:10.892742Z",
     "start_time": "2018-09-30T11:37:10.140806Z"
    }
   },
   "outputs": [],
   "source": [
    "tfidf_train = tfidf_train.toarray()\n",
    "tfidf_test = tfidf_test.toarray()"
   ]
  },
  {
   "cell_type": "code",
   "execution_count": 111,
   "metadata": {
    "ExecuteTime": {
     "end_time": "2018-09-30T11:38:09.106353Z",
     "start_time": "2018-09-30T11:37:14.925328Z"
    }
   },
   "outputs": [],
   "source": [
    "sentences = []\n",
    "for row in X_train:\n",
    "    sentences.append([word for word in row.split()])\n",
    "\n",
    "tfidfw2v_train = []\n",
    "i = 0\n",
    "for row in sentences:\n",
    "    te = [0 for i in range(150)]\n",
    "    \n",
    "    temp_tfidf = []\n",
    "    for val in tfidf_train[i]:\n",
    "        if val != 0:\n",
    "            temp_tfidf.append(val)\n",
    "    \n",
    "    num = 0\n",
    "    tf_idf_sum = 0\n",
    "    for word in row:\n",
    "        try:\n",
    "            num += 1\n",
    "            tf_idf_sum = tf_idf_sum + temp_tfidf[num-1]\n",
    "            te += (temp_tfidf[num-1] * w2v[word])\n",
    "        except:\n",
    "            pass\n",
    "    try: # avoiding divide by zero\n",
    "        te = (float)(1/tf_idf_sum) * te\n",
    "    except:\n",
    "        pass\n",
    "    tfidfw2v_train.append(te)\n",
    "    i = i + 1"
   ]
  },
  {
   "cell_type": "code",
   "execution_count": 112,
   "metadata": {
    "ExecuteTime": {
     "end_time": "2018-09-30T11:38:35.716787Z",
     "start_time": "2018-09-30T11:38:09.107885Z"
    }
   },
   "outputs": [],
   "source": [
    "sentences = []\n",
    "for row in X_test:\n",
    "    sentences.append([word for word in row.split()])\n",
    "\n",
    "tfidfw2v_test = []\n",
    "i = 0\n",
    "for row in sentences:\n",
    "    te = [0 for i in range(150)]\n",
    "    \n",
    "    temp_tfidf = []\n",
    "    for val in tfidf_test[i]:\n",
    "        if val != 0:\n",
    "            temp_tfidf.append(val)\n",
    "    \n",
    "    num = 0\n",
    "    tf_idf_sum = 0\n",
    "    for word in row:\n",
    "        try:\n",
    "            num += 1\n",
    "            tf_idf_sum = tf_idf_sum + temp_tfidf[num-1]\n",
    "            te += (temp_tfidf[num-1] * w2v[word])\n",
    "        except:\n",
    "            pass\n",
    "    try: # avoiding divide by zero\n",
    "        te = (float)(1/tf_idf_sum) * te\n",
    "    except:\n",
    "        pass\n",
    "    tfidfw2v_test.append(te)\n",
    "    i = i + 1 "
   ]
  },
  {
   "cell_type": "markdown",
   "metadata": {
    "_uuid": "04e8e63899ccdfdd72d1dc4dccc1e275d0bbe5f3"
   },
   "source": [
    "## Logistic Regression\n",
    "\n",
    "* Training Logistic Regression using LogisticRegression from sklearn.linear_model module.\n",
    "* Trained on Tf-idf word2vec data."
   ]
  },
  {
   "cell_type": "markdown",
   "metadata": {},
   "source": [
    "### L1 - regularizor\n",
    "* Using l1 type regularization term as penalty for loss in logistic Regression."
   ]
  },
  {
   "cell_type": "markdown",
   "metadata": {},
   "source": [
    "#### Grid Search\n",
    "\n",
    "* Technique for searching for optimal depth."
   ]
  },
  {
   "cell_type": "code",
   "execution_count": 113,
   "metadata": {
    "ExecuteTime": {
     "end_time": "2018-09-30T11:39:37.896948Z",
     "start_time": "2018-09-30T11:39:37.891259Z"
    },
    "_uuid": "cc09f4023dd015c4eca466fc2ab9a57621f9e7a6"
   },
   "outputs": [],
   "source": [
    "# searching for best hyperparameter\n",
    "from sklearn.linear_model import LogisticRegression\n",
    "from sklearn.model_selection import GridSearchCV\n",
    "from sklearn.model_selection import TimeSeriesSplit\n",
    "tscv = TimeSeriesSplit(n_splits=5)\n",
    "\n",
    "parameters = {'C':[0.001, 0.01, 0.1, 1, 10]}\n",
    "classifier_ = LogisticRegression(penalty='l1', class_weight='balanced')\n",
    "\n",
    "search_hyp = GridSearchCV(classifier_, parameters, cv=tscv, n_jobs=3)"
   ]
  },
  {
   "cell_type": "code",
   "execution_count": 114,
   "metadata": {
    "ExecuteTime": {
     "end_time": "2018-09-30T11:43:08.721698Z",
     "start_time": "2018-09-30T11:39:49.048827Z"
    },
    "_uuid": "92109ed7abff5bf6cd8e7b609e6cbf99541ed29e",
    "scrolled": false
   },
   "outputs": [
    {
     "data": {
      "text/plain": [
       "{'C': 1}"
      ]
     },
     "execution_count": 114,
     "metadata": {},
     "output_type": "execute_result"
    }
   ],
   "source": [
    "search_hyp.fit(tfidfw2v_train, Y_train)\n",
    "search_hyp.best_params_"
   ]
  },
  {
   "cell_type": "code",
   "execution_count": 115,
   "metadata": {
    "ExecuteTime": {
     "end_time": "2018-09-30T11:43:08.892523Z",
     "start_time": "2018-09-30T11:43:08.723889Z"
    }
   },
   "outputs": [
    {
     "data": {
      "image/png": "[encoded data removed]",
      "text/plain": [
       "<Figure size 432x288 with 1 Axes>"
      ]
     },
     "metadata": {
      "needs_background": "light"
     },
     "output_type": "display_data"
    }
   ],
   "source": [
    "test_errors = [(1-i)*100 for i in search_hyp.cv_results_['mean_test_score']]\n",
    "\n",
    "plt.plot(parameters['C'], test_errors)\n",
    "plt.title('Error plot')\n",
    "plt.xlabel('C')\n",
    "plt.ylabel('Error') \n",
    "plt.show()"
   ]
  },
  {
   "cell_type": "markdown",
   "metadata": {},
   "source": [
    "Optimal C is 1."
   ]
  },
  {
   "cell_type": "code",
   "execution_count": 116,
   "metadata": {
    "ExecuteTime": {
     "end_time": "2018-09-30T11:43:45.876606Z",
     "start_time": "2018-09-30T11:43:08.894587Z"
    },
    "_uuid": "3d3e27053e69e7a698a524aea95a53add48eb280"
   },
   "outputs": [
    {
     "data": {
      "text/plain": [
       "LogisticRegression(C=1, class_weight='balanced', dual=False,\n",
       "          fit_intercept=True, intercept_scaling=1, max_iter=100,\n",
       "          multi_class='ovr', n_jobs=1, penalty='l1', random_state=None,\n",
       "          solver='liblinear', tol=0.0001, verbose=0, warm_start=False)"
      ]
     },
     "execution_count": 116,
     "metadata": {},
     "output_type": "execute_result"
    }
   ],
   "source": [
    "# training final model\n",
    "classifier = LogisticRegression(penalty='l1', class_weight='balanced',\n",
    "                                    C=search_hyp.best_params_['C'])\n",
    "classifier.fit(tfidfw2v_train, Y_train)"
   ]
  },
  {
   "cell_type": "code",
   "execution_count": 117,
   "metadata": {
    "ExecuteTime": {
     "end_time": "2018-09-30T11:43:46.023880Z",
     "start_time": "2018-09-30T11:43:45.878676Z"
    },
    "_uuid": "eaa2348f932a98fa9f8ad1b05d55b36dd8ef7c15"
   },
   "outputs": [],
   "source": [
    "# performence metrics\n",
    "\n",
    "from sklearn import metrics\n",
    "pred = classifier.predict(tfidfw2v_test)\n",
    "\n",
    "tr_score = classifier.score(tfidfw2v_train, Y_train)\n",
    "accuracy = metrics.accuracy_score(Y_test, pred)\n",
    "pre = metrics.precision_score(Y_test, pred)\n",
    "rec = metrics.recall_score(Y_test, pred)\n",
    "f1 = metrics.f1_score(Y_test, pred)"
   ]
  },
  {
   "cell_type": "code",
   "execution_count": 118,
   "metadata": {
    "ExecuteTime": {
     "end_time": "2018-09-30T11:43:48.061465Z",
     "start_time": "2018-09-30T11:43:46.025685Z"
    }
   },
   "outputs": [],
   "source": [
    "from prettytable import PrettyTable\n",
    "tb4 = PrettyTable()\n",
    "tb4.field_names = ['Search Algo', 'Regularizor', 'C', 'Train accuracy', \n",
    "                  'Test accuracy', 'Precision', 'Recall', 'f1-score'] \n",
    "tb4.add_row(['Grid Search', 'L1', search_hyp.best_params_['C'], \n",
    "            round(tr_score, 2), round(accuracy, 2), round(pre, 2), \n",
    "            round(rec, 2), round(f1, 2)])"
   ]
  },
  {
   "cell_type": "code",
   "execution_count": 119,
   "metadata": {
    "ExecuteTime": {
     "end_time": "2018-09-30T11:43:49.286632Z",
     "start_time": "2018-09-30T11:43:48.064525Z"
    },
    "_uuid": "830a7fa59c3cecd8f2085e9e3374d67a74aa6dd0"
   },
   "outputs": [
    {
     "data": {
      "image/png": "[encoded data removed]",
      "text/plain": [
       "<Figure size 432x288 with 2 Axes>"
      ]
     },
     "metadata": {
      "needs_background": "light"
     },
     "output_type": "display_data"
    }
   ],
   "source": [
    "from sklearn.metrics import confusion_matrix\n",
    "cm = confusion_matrix(Y_test, pred)\n",
    "sns.heatmap(cm, annot=True, fmt='d')\n",
    "plt.show()"
   ]
  },
  {
   "cell_type": "markdown",
   "metadata": {},
   "source": [
    "### Random Search\n",
    "\n",
    "* Searching randomly for best depth."
   ]
  },
  {
   "cell_type": "code",
   "execution_count": 120,
   "metadata": {
    "ExecuteTime": {
     "end_time": "2018-09-30T11:46:47.856880Z",
     "start_time": "2018-09-30T11:46:47.853330Z"
    }
   },
   "outputs": [],
   "source": [
    "# searching for best hyperparameter\n",
    "from sklearn.model_selection import RandomizedSearchCV\n",
    "C = np.random.uniform(low=0.001, high=10, size=50)\n",
    "\n",
    "parameters = {'C':C}\n",
    "classifier_ = LogisticRegression(penalty='l1', class_weight='balanced')\n",
    "\n",
    "search_hyp = RandomizedSearchCV(classifier_, parameters, cv=tscv, n_jobs=3)"
   ]
  },
  {
   "cell_type": "code",
   "execution_count": 121,
   "metadata": {
    "ExecuteTime": {
     "end_time": "2018-09-30T11:55:36.459885Z",
     "start_time": "2018-09-30T11:46:49.602055Z"
    }
   },
   "outputs": [
    {
     "data": {
      "text/plain": [
       "{'C': 1.1514545428996794}"
      ]
     },
     "execution_count": 121,
     "metadata": {},
     "output_type": "execute_result"
    }
   ],
   "source": [
    "search_hyp.fit(tfidfw2v_train, Y_train)\n",
    "search_hyp.best_params_"
   ]
  },
  {
   "cell_type": "code",
   "execution_count": 122,
   "metadata": {
    "ExecuteTime": {
     "end_time": "2018-09-30T11:55:36.601925Z",
     "start_time": "2018-09-30T11:55:36.461845Z"
    }
   },
   "outputs": [
    {
     "data": {
      "image/png": "[encoded data removed]",
      "text/plain": [
       "<Figure size 432x288 with 1 Axes>"
      ]
     },
     "metadata": {
      "needs_background": "light"
     },
     "output_type": "display_data"
    }
   ],
   "source": [
    "te = []\n",
    "for i in range(10):\n",
    "    te.append(search_hyp.cv_results_['params'][i]['C'])\n",
    "indices = np.argsort(te).tolist()\n",
    "test_errors = [(1-i)*100 for i in search_hyp.cv_results_['mean_test_score']]\n",
    "\n",
    "temp1 = []\n",
    "temp2 = []\n",
    "for ind in indices:\n",
    "    temp1.append(te[ind])\n",
    "    temp2.append(test_errors[ind])\n",
    "    \n",
    "plt.plot(temp1, temp2)\n",
    "plt.title('Error Plot')\n",
    "plt.xlabel(\"C\")\n",
    "plt.ylabel(\"Error\")\n",
    "plt.show()"
   ]
  },
  {
   "cell_type": "markdown",
   "metadata": {},
   "source": [
    "Optimal C is 1.151."
   ]
  },
  {
   "cell_type": "code",
   "execution_count": 123,
   "metadata": {
    "ExecuteTime": {
     "end_time": "2018-09-30T11:56:22.463926Z",
     "start_time": "2018-09-30T11:55:36.603811Z"
    }
   },
   "outputs": [
    {
     "data": {
      "text/plain": [
       "LogisticRegression(C=1.1514545428996794, class_weight='balanced', dual=False,\n",
       "          fit_intercept=True, intercept_scaling=1, max_iter=100,\n",
       "          multi_class='ovr', n_jobs=1, penalty='l1', random_state=None,\n",
       "          solver='liblinear', tol=0.0001, verbose=0, warm_start=False)"
      ]
     },
     "execution_count": 123,
     "metadata": {},
     "output_type": "execute_result"
    }
   ],
   "source": [
    "# training final model\n",
    "classifier = LogisticRegression(penalty='l1', class_weight='balanced',\n",
    "                                C=search_hyp.best_params_['C']) \n",
    "classifier.fit(tfidfw2v_train, Y_train)"
   ]
  },
  {
   "cell_type": "code",
   "execution_count": 124,
   "metadata": {
    "ExecuteTime": {
     "end_time": "2018-09-30T11:56:22.613706Z",
     "start_time": "2018-09-30T11:56:22.465780Z"
    }
   },
   "outputs": [],
   "source": [
    "pred = classifier.predict(tfidfw2v_test)\n",
    "\n",
    "tr_score = classifier.score(tfidfw2v_train, Y_train)\n",
    "accuracy = metrics.accuracy_score(Y_test, pred)\n",
    "pre = metrics.precision_score(Y_test, pred)\n",
    "rec = metrics.recall_score(Y_test, pred)\n",
    "f1 = metrics.f1_score(Y_test, pred)"
   ]
  },
  {
   "cell_type": "code",
   "execution_count": 125,
   "metadata": {
    "ExecuteTime": {
     "end_time": "2018-09-30T11:56:22.662331Z",
     "start_time": "2018-09-30T11:56:22.615816Z"
    }
   },
   "outputs": [],
   "source": [
    "tb4.add_row(['Random Search', 'L1', round(search_hyp.best_params_['C'], 3), \n",
    "            round(tr_score, 2), round(accuracy, 2), round(pre, 2), \n",
    "            round(rec, 2), round(f1, 2)]) "
   ]
  },
  {
   "cell_type": "code",
   "execution_count": 126,
   "metadata": {
    "ExecuteTime": {
     "end_time": "2018-09-30T11:56:23.971705Z",
     "start_time": "2018-09-30T11:56:22.664045Z"
    }
   },
   "outputs": [
    {
     "data": {
      "image/png": "[encoded data removed]",
      "text/plain": [
       "<Figure size 432x288 with 2 Axes>"
      ]
     },
     "metadata": {
      "needs_background": "light"
     },
     "output_type": "display_data"
    }
   ],
   "source": [
    "from sklearn.metrics import confusion_matrix\n",
    "cm = confusion_matrix(Y_test, pred)\n",
    "sns.heatmap(cm, annot=True, fmt='d')\n",
    "plt.show()"
   ]
  },
  {
   "cell_type": "markdown",
   "metadata": {},
   "source": [
    "### L2 - regularizor\n",
    "* Using l2 type regularization term as penalty for loss in logistic Regression."
   ]
  },
  {
   "cell_type": "markdown",
   "metadata": {},
   "source": [
    "#### Grid Search\n",
    "\n",
    "* Technique for searching for optimal depth."
   ]
  },
  {
   "cell_type": "code",
   "execution_count": 128,
   "metadata": {
    "ExecuteTime": {
     "end_time": "2018-09-30T12:01:35.286381Z",
     "start_time": "2018-09-30T12:01:35.279020Z"
    },
    "_uuid": "cc09f4023dd015c4eca466fc2ab9a57621f9e7a6"
   },
   "outputs": [],
   "source": [
    "# searching for best hyperparameter\n",
    "from sklearn.linear_model import LogisticRegression\n",
    "from sklearn.model_selection import GridSearchCV\n",
    "from sklearn.model_selection import TimeSeriesSplit\n",
    "tscv = TimeSeriesSplit(n_splits=5)\n",
    "\n",
    "parameters = {'C':[0.001, 0.01, 0.1, 1, 10]}\n",
    "classifier_ = LogisticRegression(penalty='l2', class_weight='balanced')\n",
    "\n",
    "search_hyp = GridSearchCV(classifier_, parameters, cv=tscv, n_jobs=3)"
   ]
  },
  {
   "cell_type": "code",
   "execution_count": 129,
   "metadata": {
    "ExecuteTime": {
     "end_time": "2018-09-30T12:02:44.712696Z",
     "start_time": "2018-09-30T12:01:44.785458Z"
    },
    "_uuid": "92109ed7abff5bf6cd8e7b609e6cbf99541ed29e",
    "scrolled": false
   },
   "outputs": [
    {
     "data": {
      "text/plain": [
       "{'C': 0.1}"
      ]
     },
     "execution_count": 129,
     "metadata": {},
     "output_type": "execute_result"
    }
   ],
   "source": [
    "search_hyp.fit(tfidfw2v_train, Y_train)\n",
    "search_hyp.best_params_"
   ]
  },
  {
   "cell_type": "code",
   "execution_count": 130,
   "metadata": {
    "ExecuteTime": {
     "end_time": "2018-09-30T12:02:44.856800Z",
     "start_time": "2018-09-30T12:02:44.714827Z"
    }
   },
   "outputs": [
    {
     "data": {
      "image/png": "[encoded data removed]",
      "text/plain": [
       "<Figure size 432x288 with 1 Axes>"
      ]
     },
     "metadata": {
      "needs_background": "light"
     },
     "output_type": "display_data"
    }
   ],
   "source": [
    "test_errors = [(1-i)*100 for i in search_hyp.cv_results_['mean_test_score']]\n",
    "\n",
    "plt.plot(parameters['C'], test_errors)\n",
    "plt.title('Error plot')\n",
    "plt.xlabel('C')\n",
    "plt.ylabel('Error') \n",
    "plt.show()"
   ]
  },
  {
   "cell_type": "markdown",
   "metadata": {},
   "source": [
    "Optimal C is 0.1."
   ]
  },
  {
   "cell_type": "code",
   "execution_count": 131,
   "metadata": {
    "ExecuteTime": {
     "end_time": "2018-09-30T12:02:50.877368Z",
     "start_time": "2018-09-30T12:02:44.858586Z"
    },
    "_uuid": "3d3e27053e69e7a698a524aea95a53add48eb280"
   },
   "outputs": [
    {
     "data": {
      "text/plain": [
       "LogisticRegression(C=0.1, class_weight='balanced', dual=False,\n",
       "          fit_intercept=True, intercept_scaling=1, max_iter=100,\n",
       "          multi_class='ovr', n_jobs=1, penalty='l2', random_state=None,\n",
       "          solver='liblinear', tol=0.0001, verbose=0, warm_start=False)"
      ]
     },
     "execution_count": 131,
     "metadata": {},
     "output_type": "execute_result"
    }
   ],
   "source": [
    "# training final model\n",
    "classifier = LogisticRegression(penalty='l2', class_weight='balanced',\n",
    "                                    C=search_hyp.best_params_['C'])\n",
    "classifier.fit(tfidfw2v_train, Y_train)"
   ]
  },
  {
   "cell_type": "code",
   "execution_count": 132,
   "metadata": {
    "ExecuteTime": {
     "end_time": "2018-09-30T12:03:25.624561Z",
     "start_time": "2018-09-30T12:03:25.431166Z"
    },
    "_uuid": "eaa2348f932a98fa9f8ad1b05d55b36dd8ef7c15"
   },
   "outputs": [],
   "source": [
    "# performence metrics\n",
    "\n",
    "from sklearn import metrics\n",
    "pred = classifier.predict(tfidfw2v_test)\n",
    "\n",
    "tr_score = classifier.score(tfidfw2v_train, Y_train)\n",
    "accuracy = metrics.accuracy_score(Y_test, pred)\n",
    "pre = metrics.precision_score(Y_test, pred)\n",
    "rec = metrics.recall_score(Y_test, pred)\n",
    "f1 = metrics.f1_score(Y_test, pred)"
   ]
  },
  {
   "cell_type": "code",
   "execution_count": 133,
   "metadata": {
    "ExecuteTime": {
     "end_time": "2018-09-30T12:03:34.656013Z",
     "start_time": "2018-09-30T12:03:34.651290Z"
    }
   },
   "outputs": [],
   "source": [
    "tb4.add_row(['Grid Search', 'L2', search_hyp.best_params_['C'], \n",
    "            round(tr_score, 2), round(accuracy, 2), round(pre, 2), \n",
    "            round(rec, 2), round(f1, 2)])"
   ]
  },
  {
   "cell_type": "code",
   "execution_count": 134,
   "metadata": {
    "ExecuteTime": {
     "end_time": "2018-09-30T12:03:35.914625Z",
     "start_time": "2018-09-30T12:03:35.745095Z"
    },
    "_uuid": "830a7fa59c3cecd8f2085e9e3374d67a74aa6dd0"
   },
   "outputs": [
    {
     "data": {
      "image/png": "[encoded data removed]",
      "text/plain": [
       "<Figure size 432x288 with 2 Axes>"
      ]
     },
     "metadata": {
      "needs_background": "light"
     },
     "output_type": "display_data"
    }
   ],
   "source": [
    "from sklearn.metrics import confusion_matrix\n",
    "cm = confusion_matrix(Y_test, pred)\n",
    "sns.heatmap(cm, annot=True, fmt='d')\n",
    "plt.show()"
   ]
  },
  {
   "cell_type": "markdown",
   "metadata": {},
   "source": [
    "### Random Search\n",
    "\n",
    "* Searching randomly for best depth."
   ]
  },
  {
   "cell_type": "code",
   "execution_count": 135,
   "metadata": {
    "ExecuteTime": {
     "end_time": "2018-09-30T12:03:41.105651Z",
     "start_time": "2018-09-30T12:03:41.099217Z"
    }
   },
   "outputs": [],
   "source": [
    "# searching for best hyperparameter\n",
    "from sklearn.model_selection import RandomizedSearchCV\n",
    "C = np.random.uniform(low=0.001, high=10, size=50)\n",
    "\n",
    "parameters = {'C':C}\n",
    "classifier_ = LogisticRegression(penalty='l2', class_weight='balanced')\n",
    "\n",
    "search_hyp = RandomizedSearchCV(classifier_, parameters, cv=tscv, n_jobs=3)"
   ]
  },
  {
   "cell_type": "code",
   "execution_count": 136,
   "metadata": {
    "ExecuteTime": {
     "end_time": "2018-09-30T12:06:10.009554Z",
     "start_time": "2018-09-30T12:03:49.673089Z"
    }
   },
   "outputs": [
    {
     "data": {
      "text/plain": [
       "{'C': 5.3957896678474295}"
      ]
     },
     "execution_count": 136,
     "metadata": {},
     "output_type": "execute_result"
    }
   ],
   "source": [
    "search_hyp.fit(tfidfw2v_train, Y_train) \n",
    "search_hyp.best_params_"
   ]
  },
  {
   "cell_type": "code",
   "execution_count": 137,
   "metadata": {
    "ExecuteTime": {
     "end_time": "2018-09-30T12:06:30.282179Z",
     "start_time": "2018-09-30T12:06:30.134017Z"
    }
   },
   "outputs": [
    {
     "data": {
      "image/png": "[encoded data removed]",
      "text/plain": [
       "<Figure size 432x288 with 1 Axes>"
      ]
     },
     "metadata": {
      "needs_background": "light"
     },
     "output_type": "display_data"
    }
   ],
   "source": [
    "te = []\n",
    "for i in range(10):\n",
    "    te.append(search_hyp.cv_results_['params'][i]['C'])\n",
    "indices = np.argsort(te).tolist()\n",
    "test_errors = [(1-i)*100 for i in search_hyp.cv_results_['mean_test_score']]\n",
    "\n",
    "temp1 = []\n",
    "temp2 = []\n",
    "for ind in indices:\n",
    "    temp1.append(te[ind])\n",
    "    temp2.append(test_errors[ind])\n",
    "    \n",
    "plt.plot(temp1, temp2)\n",
    "plt.title('Error Plot')\n",
    "plt.xlabel(\"C\")\n",
    "plt.ylabel(\"Error\")\n",
    "plt.show()"
   ]
  },
  {
   "cell_type": "markdown",
   "metadata": {},
   "source": [
    "Optimal C is 5.395."
   ]
  },
  {
   "cell_type": "code",
   "execution_count": 138,
   "metadata": {
    "ExecuteTime": {
     "end_time": "2018-09-30T12:06:47.357605Z",
     "start_time": "2018-09-30T12:06:39.195885Z"
    }
   },
   "outputs": [
    {
     "data": {
      "text/plain": [
       "LogisticRegression(C=5.3957896678474295, class_weight='balanced', dual=False,\n",
       "          fit_intercept=True, intercept_scaling=1, max_iter=100,\n",
       "          multi_class='ovr', n_jobs=1, penalty='l2', random_state=None,\n",
       "          solver='liblinear', tol=0.0001, verbose=0, warm_start=False)"
      ]
     },
     "execution_count": 138,
     "metadata": {},
     "output_type": "execute_result"
    }
   ],
   "source": [
    "# training final model\n",
    "classifier = LogisticRegression(penalty='l2', class_weight='balanced',\n",
    "                                C=search_hyp.best_params_['C']) \n",
    "classifier.fit(tfidfw2v_train, Y_train)"
   ]
  },
  {
   "cell_type": "code",
   "execution_count": 139,
   "metadata": {
    "ExecuteTime": {
     "end_time": "2018-09-30T12:06:58.579721Z",
     "start_time": "2018-09-30T12:06:58.428975Z"
    }
   },
   "outputs": [],
   "source": [
    "pred = classifier.predict(tfidfw2v_test)\n",
    "\n",
    "tr_score = classifier.score(tfidfw2v_train, Y_train)\n",
    "accuracy = metrics.accuracy_score(Y_test, pred)\n",
    "pre = metrics.precision_score(Y_test, pred)\n",
    "rec = metrics.recall_score(Y_test, pred)\n",
    "f1 = metrics.f1_score(Y_test, pred)"
   ]
  },
  {
   "cell_type": "code",
   "execution_count": 140,
   "metadata": {
    "ExecuteTime": {
     "end_time": "2018-09-30T12:07:02.947934Z",
     "start_time": "2018-09-30T12:07:02.943361Z"
    }
   },
   "outputs": [],
   "source": [
    "tb4.add_row(['Random Search', 'L2', round(search_hyp.best_params_['C'], 3), \n",
    "            round(tr_score, 2), round(accuracy, 2), round(pre, 2), \n",
    "            round(rec, 2), round(f1, 2)]) "
   ]
  },
  {
   "cell_type": "code",
   "execution_count": 141,
   "metadata": {
    "ExecuteTime": {
     "end_time": "2018-09-30T12:07:03.683175Z",
     "start_time": "2018-09-30T12:07:03.518902Z"
    }
   },
   "outputs": [
    {
     "data": {
      "image/png": "[encoded data removed]",
      "text/plain": [
       "<Figure size 432x288 with 2 Axes>"
      ]
     },
     "metadata": {
      "needs_background": "light"
     },
     "output_type": "display_data"
    }
   ],
   "source": [
    "from sklearn.metrics import confusion_matrix\n",
    "cm = confusion_matrix(Y_test, pred)\n",
    "sns.heatmap(cm, annot=True, fmt='d')\n",
    "plt.show()"
   ]
  },
  {
   "cell_type": "markdown",
   "metadata": {
    "_uuid": "9bda945919b332b85f670cdddfc716e265d8c566"
   },
   "source": [
    "# Conclusion"
   ]
  },
  {
   "cell_type": "code",
   "execution_count": 107,
   "metadata": {
    "ExecuteTime": {
     "end_time": "2018-09-30T11:34:54.226811Z",
     "start_time": "2018-09-30T11:34:54.218414Z"
    }
   },
   "outputs": [
    {
     "name": "stdout",
     "output_type": "stream",
     "text": [
      "Logistic performence with bag of words: \n",
      "+---------------+-------------+-------+----------------+---------------+-----------+--------+----------+\n",
      "|  Search Algo  | Regularizor |   C   | Train accuracy | Test accuracy | Precision | Recall | f1-score |\n",
      "+---------------+-------------+-------+----------------+---------------+-----------+--------+----------+\n",
      "|  Grid Search  |      L1     |   1   |      0.9       |      0.86     |    0.96   |  0.88  |   0.92   |\n",
      "| Random Search |      L1     | 0.606 |      0.9       |      0.87     |    0.96   |  0.88  |   0.92   |\n",
      "|  Grid Search  |      L2     |   1   |      0.91      |      0.86     |    0.96   |  0.88  |   0.92   |\n",
      "| Random Search |      L2     | 1.425 |      0.91      |      0.87     |    0.96   |  0.88  |   0.92   |\n",
      "+---------------+-------------+-------+----------------+---------------+-----------+--------+----------+\n"
     ]
    }
   ],
   "source": [
    "print(\"Logistic performence with bag of words: \")\n",
    "print(tb1)"
   ]
  },
  {
   "cell_type": "code",
   "execution_count": 108,
   "metadata": {
    "ExecuteTime": {
     "end_time": "2018-09-30T11:34:54.654704Z",
     "start_time": "2018-09-30T11:34:54.646821Z"
    }
   },
   "outputs": [
    {
     "name": "stdout",
     "output_type": "stream",
     "text": [
      "Logistic performence with tf-idf: \n",
      "+---------------+-------------+-------+----------------+---------------+-----------+--------+----------+\n",
      "|  Search Algo  | Regularizor |   C   | Train accuracy | Test accuracy | Precision | Recall | f1-score |\n",
      "+---------------+-------------+-------+----------------+---------------+-----------+--------+----------+\n",
      "|  Grid Search  |      L1     |   10  |      0.9       |      0.86     |    0.96   |  0.88  |   0.92   |\n",
      "| Random Search |      L1     |  4.29 |      0.9       |      0.87     |    0.97   |  0.88  |   0.92   |\n",
      "|  Grid Search  |      L2     |   10  |      0.9       |      0.87     |    0.97   |  0.88  |   0.92   |\n",
      "| Random Search |      L2     | 1.637 |      0.9       |      0.87     |    0.97   |  0.88  |   0.92   |\n",
      "+---------------+-------------+-------+----------------+---------------+-----------+--------+----------+\n"
     ]
    }
   ],
   "source": [
    "print(\"Logistic performence with tf-idf: \")\n",
    "print(tb2)"
   ]
  },
  {
   "cell_type": "code",
   "execution_count": 109,
   "metadata": {
    "ExecuteTime": {
     "end_time": "2018-09-30T11:35:33.133893Z",
     "start_time": "2018-09-30T11:35:33.126907Z"
    }
   },
   "outputs": [
    {
     "name": "stdout",
     "output_type": "stream",
     "text": [
      "Logistic peformence with average word2vec: \n",
      "+---------------+-------------+-------+----------------+---------------+-----------+--------+----------+\n",
      "|  Search Algo  | Regularizor |   C   | Train accuracy | Test accuracy | Precision | Recall | f1-score |\n",
      "+---------------+-------------+-------+----------------+---------------+-----------+--------+----------+\n",
      "|  Grid Search  |      L1     |   10  |      0.82      |      0.81     |    0.97   |  0.81  |   0.88   |\n",
      "| Random Search |      L1     | 8.606 |      0.82      |      0.81     |    0.97   |  0.81  |   0.88   |\n",
      "|  Grid Search  |      L2     |   10  |      0.82      |      0.81     |    0.97   |  0.81  |   0.88   |\n",
      "| Random Search |      L2     | 8.636 |      0.82      |      0.81     |    0.97   |  0.81  |   0.88   |\n",
      "+---------------+-------------+-------+----------------+---------------+-----------+--------+----------+\n"
     ]
    }
   ],
   "source": [
    "print(\"Logistic peformence with average word2vec: \")\n",
    "print(tb3)"
   ]
  },
  {
   "cell_type": "code",
   "execution_count": 143,
   "metadata": {
    "ExecuteTime": {
     "end_time": "2018-09-30T12:17:28.139340Z",
     "start_time": "2018-09-30T12:17:28.135607Z"
    }
   },
   "outputs": [
    {
     "name": "stdout",
     "output_type": "stream",
     "text": [
      "Logistic performence with tf-idf word2vec: \n",
      "+---------------+-------------+-------+----------------+---------------+-----------+--------+----------+\n",
      "|  Search Algo  | Regularizor |   C   | Train accuracy | Test accuracy | Precision | Recall | f1-score |\n",
      "+---------------+-------------+-------+----------------+---------------+-----------+--------+----------+\n",
      "|  Grid Search  |      L1     |   1   |      0.79      |      0.78     |    0.97   |  0.78  |   0.86   |\n",
      "| Random Search |      L1     | 1.151 |      0.79      |      0.78     |    0.97   |  0.78  |   0.86   |\n",
      "|  Grid Search  |      L2     |  0.1  |      0.79      |      0.78     |    0.97   |  0.78  |   0.86   |\n",
      "| Random Search |      L2     | 5.396 |      0.79      |      0.78     |    0.96   |  0.78  |   0.86   |\n",
      "+---------------+-------------+-------+----------------+---------------+-----------+--------+----------+\n"
     ]
    }
   ],
   "source": [
    "print(\"Logistic performence with tf-idf word2vec: \")\n",
    "print(tb4)"
   ]
  },
  {
   "cell_type": "markdown",
   "metadata": {},
   "source": [
    "* Logistic Regression with bag of words and tf-idf given best results compared to word2vec results.\n",
    "\n",
    "\n",
    "* Logistic of (C, Regularizor) value (4.29, L1), (10, L2), (1.637, L2) with Tf-Idf given best results."
   ]
  }
 ],
 "metadata": {
  "kernelspec": {
   "display_name": "Python 3",
   "language": "python",
   "name": "python3"
  },
  "language_info": {
   "codemirror_mode": {
    "name": "ipython",
    "version": 3
   },
   "file_extension": ".py",
   "mimetype": "text/x-python",
   "name": "python",
   "nbconvert_exporter": "python",
   "pygments_lexer": "ipython3",
   "version": "3.6.3"
  }
 },
 "nbformat": 4,
 "nbformat_minor": 1
}
